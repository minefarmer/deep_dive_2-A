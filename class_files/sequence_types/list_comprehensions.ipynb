{
 "cells": [
  {
   "cell_type": "markdown",
   "id": "c60bdef5",
   "metadata": {},
   "source": [
    "                        List Comprehensions"
   ]
  },
  {
   "cell_type": "code",
   "execution_count": 1,
   "id": "4b2e99f8",
   "metadata": {},
   "outputs": [],
   "source": [
    "squares = []\n",
    "for i in range(1, 101):\n",
    "    squares.append(i**2)"
   ]
  },
  {
   "cell_type": "code",
   "execution_count": 2,
   "id": "36e0827a",
   "metadata": {},
   "outputs": [
    {
     "data": {
      "text/plain": [
       "[1, 4, 9, 16, 25, 36, 49, 64, 81, 100]"
      ]
     },
     "execution_count": 2,
     "metadata": {},
     "output_type": "execute_result"
    }
   ],
   "source": [
    "squares[0:10]"
   ]
  },
  {
   "cell_type": "code",
   "execution_count": 3,
   "id": "6b4eb1ee",
   "metadata": {},
   "outputs": [],
   "source": [
    "squares = [i**2 for i in range(1, 101)]"
   ]
  },
  {
   "cell_type": "code",
   "execution_count": 4,
   "id": "2e10b501",
   "metadata": {},
   "outputs": [
    {
     "data": {
      "text/plain": [
       "[1, 4, 9, 16, 25, 36, 49, 64, 81, 100]"
      ]
     },
     "execution_count": 4,
     "metadata": {},
     "output_type": "execute_result"
    }
   ],
   "source": [
    "squares[0:10]"
   ]
  },
  {
   "cell_type": "code",
   "execution_count": 6,
   "id": "2c798ab9",
   "metadata": {},
   "outputs": [
    {
     "ename": "TypeError",
     "evalue": "list.append() argument after ** must be a mapping, not int",
     "output_type": "error",
     "traceback": [
      "\u001b[0;31m---------------------------------------------------------------------------\u001b[0m",
      "\u001b[0;31mTypeError\u001b[0m                                 Traceback (most recent call last)",
      "\u001b[1;32m/home/carl/Desktop/Matshub/deep_dive_2-A/class_files/sequence_types/list_comprehensions.ipynb Cell 6\u001b[0m in \u001b[0;36m<cell line: 2>\u001b[0;34m()\u001b[0m\n\u001b[1;32m      <a href='vscode-notebook-cell:/home/carl/Desktop/Matshub/deep_dive_2-A/class_files/sequence_types/list_comprehensions.ipynb#W5sZmlsZQ%3D%3D?line=1'>2</a>\u001b[0m \u001b[39mfor\u001b[39;00m i \u001b[39min\u001b[39;00m \u001b[39mrange\u001b[39m(\u001b[39m1\u001b[39m, \u001b[39m101\u001b[39m):\n\u001b[1;32m      <a href='vscode-notebook-cell:/home/carl/Desktop/Matshub/deep_dive_2-A/class_files/sequence_types/list_comprehensions.ipynb#W5sZmlsZQ%3D%3D?line=2'>3</a>\u001b[0m     \u001b[39mif\u001b[39;00m i \u001b[39m%\u001b[39m \u001b[39m2\u001b[39m \u001b[39m==\u001b[39m \u001b[39m0\u001b[39m:\n\u001b[0;32m----> <a href='vscode-notebook-cell:/home/carl/Desktop/Matshub/deep_dive_2-A/class_files/sequence_types/list_comprehensions.ipynb#W5sZmlsZQ%3D%3D?line=3'>4</a>\u001b[0m         squares\u001b[39m.\u001b[39mappend(\u001b[39m*\u001b[39m\u001b[39m*\u001b[39m\u001b[39m2\u001b[39m)\n",
      "\u001b[0;31mTypeError\u001b[0m: list.append() argument after ** must be a mapping, not int"
     ]
    }
   ],
   "source": [
    "squares = []\n",
    "for i in range(1, 101):\n",
    "    if i % 2 == 0:\n",
    "        squares.append(**2)"
   ]
  },
  {
   "cell_type": "code",
   "execution_count": 7,
   "id": "261f9daa",
   "metadata": {},
   "outputs": [
    {
     "data": {
      "text/plain": [
       "[]"
      ]
     },
     "execution_count": 7,
     "metadata": {},
     "output_type": "execute_result"
    }
   ],
   "source": [
    "squares[0:10]"
   ]
  },
  {
   "cell_type": "code",
   "execution_count": 9,
   "id": "785c4f52",
   "metadata": {},
   "outputs": [],
   "source": [
    "compiled_code = compile('[i**2 for i in (1, 2, 3)]', filename='string', mode='eval')"
   ]
  },
  {
   "cell_type": "code",
   "execution_count": 10,
   "id": "b3201d2d",
   "metadata": {},
   "outputs": [
    {
     "data": {
      "text/plain": [
       "<code object <module> at 0x7f0ccec81030, file \"string\", line 1>"
      ]
     },
     "execution_count": 10,
     "metadata": {},
     "output_type": "execute_result"
    }
   ],
   "source": [
    "compiled_code"
   ]
  },
  {
   "cell_type": "code",
   "execution_count": 11,
   "id": "13c70d01",
   "metadata": {},
   "outputs": [],
   "source": [
    "import dis"
   ]
  },
  {
   "cell_type": "code",
   "execution_count": 12,
   "id": "218cc634",
   "metadata": {},
   "outputs": [
    {
     "name": "stdout",
     "output_type": "stream",
     "text": [
      "  1           0 LOAD_CONST               0 (<code object <listcomp> at 0x7f0ccec81ea0, file \"string\", line 1>)\n",
      "              2 LOAD_CONST               1 ('<listcomp>')\n",
      "              4 MAKE_FUNCTION            0\n",
      "              6 LOAD_CONST               2 ((1, 2, 3))\n",
      "              8 GET_ITER\n",
      "             10 CALL_FUNCTION            1\n",
      "             12 RETURN_VALUE\n",
      "\n",
      "Disassembly of <code object <listcomp> at 0x7f0ccec81ea0, file \"string\", line 1>:\n",
      "  1           0 BUILD_LIST               0\n",
      "              2 LOAD_FAST                0 (.0)\n",
      "        >>    4 FOR_ITER                12 (to 18)\n",
      "              6 STORE_FAST               1 (i)\n",
      "              8 LOAD_FAST                1 (i)\n",
      "             10 LOAD_CONST               0 (2)\n",
      "             12 BINARY_POWER\n",
      "             14 LIST_APPEND              2\n",
      "             16 JUMP_ABSOLUTE            4\n",
      "        >>   18 RETURN_VALUE\n"
     ]
    }
   ],
   "source": [
    "dis.dis(compiled_code)"
   ]
  },
  {
   "cell_type": "code",
   "execution_count": 14,
   "id": "78629af8",
   "metadata": {},
   "outputs": [],
   "source": [
    "table = []\n",
    "for i in range(1, 11):\n",
    "    row = []\n",
    "    for j in range(1, 11):\n",
    "        row.append(i*j)\n",
    "    table.append(row)"
   ]
  },
  {
   "cell_type": "code",
   "execution_count": 15,
   "id": "fac003d8",
   "metadata": {},
   "outputs": [
    {
     "data": {
      "text/plain": [
       "[[1, 2, 3, 4, 5, 6, 7, 8, 9, 10],\n",
       " [2, 4, 6, 8, 10, 12, 14, 16, 18, 20],\n",
       " [3, 6, 9, 12, 15, 18, 21, 24, 27, 30],\n",
       " [4, 8, 12, 16, 20, 24, 28, 32, 36, 40],\n",
       " [5, 10, 15, 20, 25, 30, 35, 40, 45, 50],\n",
       " [6, 12, 18, 24, 30, 36, 42, 48, 54, 60],\n",
       " [7, 14, 21, 28, 35, 42, 49, 56, 63, 70],\n",
       " [8, 16, 24, 32, 40, 48, 56, 64, 72, 80],\n",
       " [9, 18, 27, 36, 45, 54, 63, 72, 81, 90],\n",
       " [10, 20, 30, 40, 50, 60, 70, 80, 90, 100]]"
      ]
     },
     "execution_count": 15,
     "metadata": {},
     "output_type": "execute_result"
    }
   ],
   "source": [
    "table"
   ]
  },
  {
   "cell_type": "code",
   "execution_count": 16,
   "id": "1b9f6ac8",
   "metadata": {},
   "outputs": [],
   "source": [
    "table2 = [\n",
    "    [i * j for j in range(1, 11)]\n",
    "    for i in range(1, 11)\n",
    "]"
   ]
  },
  {
   "cell_type": "code",
   "execution_count": 17,
   "id": "1aeea2b6",
   "metadata": {},
   "outputs": [
    {
     "data": {
      "text/plain": [
       "[[1, 2, 3, 4, 5, 6, 7, 8, 9, 10],\n",
       " [2, 4, 6, 8, 10, 12, 14, 16, 18, 20],\n",
       " [3, 6, 9, 12, 15, 18, 21, 24, 27, 30],\n",
       " [4, 8, 12, 16, 20, 24, 28, 32, 36, 40],\n",
       " [5, 10, 15, 20, 25, 30, 35, 40, 45, 50],\n",
       " [6, 12, 18, 24, 30, 36, 42, 48, 54, 60],\n",
       " [7, 14, 21, 28, 35, 42, 49, 56, 63, 70],\n",
       " [8, 16, 24, 32, 40, 48, 56, 64, 72, 80],\n",
       " [9, 18, 27, 36, 45, 54, 63, 72, 81, 90],\n",
       " [10, 20, 30, 40, 50, 60, 70, 80, 90, 100]]"
      ]
     },
     "execution_count": 17,
     "metadata": {},
     "output_type": "execute_result"
    }
   ],
   "source": [
    "table2"
   ]
  },
  {
   "cell_type": "markdown",
   "id": "b10fef9b",
   "metadata": {},
   "source": [
    "1\n",
    "1 1\n",
    "1 2 1\n",
    "1 3 3 1\n",
    "1 4 6 4 1"
   ]
  },
  {
   "cell_type": "markdown",
   "id": "9b59c0d1",
   "metadata": {},
   "source": [
    "C(n, k) = n / (k! (n-k)!)"
   ]
  },
  {
   "cell_type": "code",
   "execution_count": 20,
   "id": "8d8aae0f",
   "metadata": {},
   "outputs": [
    {
     "data": {
      "text/plain": [
       "'\\nC(0,0)\\nC(1,0) C(1,1)\\nC(2,0) C(2,1) C(2, 3)\\nC(3,0) C(3,1) C(3,2) C(3,3)\\n'"
      ]
     },
     "execution_count": 20,
     "metadata": {},
     "output_type": "execute_result"
    }
   ],
   "source": [
    "\"\"\"\n",
    "C(0,0)\n",
    "C(1,0) C(1,1)\n",
    "C(2,0) C(2,1) C(2, 3)\n",
    "C(3,0) C(3,1) C(3,2) C(3,3)\n",
    "\"\"\""
   ]
  },
  {
   "cell_type": "code",
   "execution_count": 21,
   "id": "a1bcf6f0",
   "metadata": {},
   "outputs": [],
   "source": [
    "from math import factorial"
   ]
  },
  {
   "cell_type": "code",
   "execution_count": 22,
   "id": "95ea7782",
   "metadata": {},
   "outputs": [],
   "source": [
    "def combo(n, k):\n",
    "    return factorial(n) // (factorial(k) * factorial(n-k))"
   ]
  },
  {
   "cell_type": "code",
   "execution_count": 23,
   "id": "c85284bc",
   "metadata": {},
   "outputs": [],
   "source": [
    "size = 10"
   ]
  },
  {
   "cell_type": "code",
   "execution_count": 26,
   "id": "bfbb982a",
   "metadata": {},
   "outputs": [],
   "source": [
    "pascal = [[combo(n, k) for k in range(n+1)] for n in range(size+1)]"
   ]
  },
  {
   "cell_type": "code",
   "execution_count": 27,
   "id": "9ba21eab",
   "metadata": {},
   "outputs": [
    {
     "data": {
      "text/plain": [
       "[[1],\n",
       " [1, 1],\n",
       " [1, 2, 1],\n",
       " [1, 3, 3, 1],\n",
       " [1, 4, 6, 4, 1],\n",
       " [1, 5, 10, 10, 5, 1],\n",
       " [1, 6, 15, 20, 15, 6, 1],\n",
       " [1, 7, 21, 35, 35, 21, 7, 1],\n",
       " [1, 8, 28, 56, 70, 56, 28, 8, 1],\n",
       " [1, 9, 36, 84, 126, 126, 84, 36, 9, 1],\n",
       " [1, 10, 45, 120, 210, 252, 210, 120, 45, 10, 1]]"
      ]
     },
     "execution_count": 27,
     "metadata": {},
     "output_type": "execute_result"
    }
   ],
   "source": [
    "pascal"
   ]
  },
  {
   "cell_type": "markdown",
   "id": "ee068cbf",
   "metadata": {},
   "source": [
    "                                            Nested loops"
   ]
  },
  {
   "cell_type": "code",
   "execution_count": 28,
   "id": "28121f3a",
   "metadata": {},
   "outputs": [],
   "source": [
    "l1 = ['a', 'b', 'c']\n",
    "l2 = ['x', 'y', 'z']"
   ]
  },
  {
   "cell_type": "markdown",
   "id": "3220dc08",
   "metadata": {},
   "source": [
    "'ax', 'ay', 'az', 'bx', 'by', 'bz', 'ca', 'cz'"
   ]
  },
  {
   "cell_type": "code",
   "execution_count": 33,
   "id": "0d8f86dd",
   "metadata": {},
   "outputs": [],
   "source": [
    "result = []\n",
    "for s1 in l1:\n",
    "    for s2 in l2:\n",
    "        result.append(s1 + s2)"
   ]
  },
  {
   "cell_type": "code",
   "execution_count": 34,
   "id": "499c985f",
   "metadata": {},
   "outputs": [
    {
     "data": {
      "text/plain": [
       "['ax', 'ay', 'az', 'bx', 'by', 'bz', 'cx', 'cy', 'cz']"
      ]
     },
     "execution_count": 34,
     "metadata": {},
     "output_type": "execute_result"
    }
   ],
   "source": [
    "result"
   ]
  },
  {
   "cell_type": "code",
   "execution_count": 36,
   "id": "d2a8baec",
   "metadata": {},
   "outputs": [],
   "source": [
    "result = [ s1 + s2\n",
    "          for s1 in l1\n",
    "          for s2 in l2\n",
    "]"
   ]
  },
  {
   "cell_type": "code",
   "execution_count": 37,
   "id": "edc7131b",
   "metadata": {},
   "outputs": [
    {
     "data": {
      "text/plain": [
       "['ax', 'ay', 'az', 'bx', 'by', 'bz', 'cx', 'cy', 'cz']"
      ]
     },
     "execution_count": 37,
     "metadata": {},
     "output_type": "execute_result"
    }
   ],
   "source": [
    "result"
   ]
  },
  {
   "cell_type": "code",
   "execution_count": 41,
   "id": "331ae174",
   "metadata": {},
   "outputs": [
    {
     "name": "stdout",
     "output_type": "stream",
     "text": [
      "['ab', 'ac', 'ad', 'bb', 'bc', 'bd', 'cb', 'cc', 'cd']\n"
     ]
    }
   ],
   "source": [
    "l1 = ['a', 'b', 'c']\n",
    "l2 = ['b', 'c', 'd']\n",
    "\n",
    "result = []\n",
    "for s1 in l1:\n",
    "    for s2 in l2:\n",
    "        result.append(s1 + s2)\n",
    "\n",
    "print(result)"
   ]
  },
  {
   "cell_type": "code",
   "execution_count": 42,
   "id": "07179d41",
   "metadata": {},
   "outputs": [],
   "source": [
    "result = [s1 + s2 for s1 in l1 for s2 in l2 if s1 != s2]"
   ]
  },
  {
   "cell_type": "code",
   "execution_count": 43,
   "id": "f291975b",
   "metadata": {},
   "outputs": [
    {
     "data": {
      "text/plain": [
       "['ab', 'ac', 'ad', 'bc', 'bd', 'cb', 'cd']"
      ]
     },
     "execution_count": 43,
     "metadata": {},
     "output_type": "execute_result"
    }
   ],
   "source": [
    "result"
   ]
  },
  {
   "cell_type": "code",
   "execution_count": 44,
   "id": "521ba76e",
   "metadata": {},
   "outputs": [],
   "source": [
    "result = [s1 + s2 for s1 in l1 if s1 != 'a' for s2 in l2 if s1 != s2]"
   ]
  },
  {
   "cell_type": "code",
   "execution_count": 45,
   "id": "6a62c53f",
   "metadata": {},
   "outputs": [
    {
     "data": {
      "text/plain": [
       "['bc', 'bd', 'cb', 'cd']"
      ]
     },
     "execution_count": 45,
     "metadata": {},
     "output_type": "execute_result"
    }
   ],
   "source": [
    "result"
   ]
  },
  {
   "cell_type": "code",
   "execution_count": 47,
   "id": "4633fbf8",
   "metadata": {},
   "outputs": [
    {
     "ename": "UnboundLocalError",
     "evalue": "local variable 's2' referenced before assignment",
     "output_type": "error",
     "traceback": [
      "\u001b[0;31m---------------------------------------------------------------------------\u001b[0m",
      "\u001b[0;31mUnboundLocalError\u001b[0m                         Traceback (most recent call last)",
      "\u001b[1;32m/home/carl/Desktop/Matshub/deep_dive_2-A/class_files/sequence_types/list_comprehensions.ipynb Cell 36\u001b[0m in \u001b[0;36m<cell line: 1>\u001b[0;34m()\u001b[0m\n\u001b[0;32m----> <a href='vscode-notebook-cell:/home/carl/Desktop/Matshub/deep_dive_2-A/class_files/sequence_types/list_comprehensions.ipynb#X54sZmlsZQ%3D%3D?line=0'>1</a>\u001b[0m result \u001b[39m=\u001b[39m [s1 \u001b[39m+\u001b[39m s2 \u001b[39mfor\u001b[39;00m s1 \u001b[39min\u001b[39;00m l1 \u001b[39mif\u001b[39;00m s1 \u001b[39m!=\u001b[39m s2  \u001b[39mfor\u001b[39;00m s2 \u001b[39min\u001b[39;00m l2]\n",
      "\u001b[1;32m/home/carl/Desktop/Matshub/deep_dive_2-A/class_files/sequence_types/list_comprehensions.ipynb Cell 36\u001b[0m in \u001b[0;36m<listcomp>\u001b[0;34m(.0)\u001b[0m\n\u001b[0;32m----> <a href='vscode-notebook-cell:/home/carl/Desktop/Matshub/deep_dive_2-A/class_files/sequence_types/list_comprehensions.ipynb#X54sZmlsZQ%3D%3D?line=0'>1</a>\u001b[0m result \u001b[39m=\u001b[39m [s1 \u001b[39m+\u001b[39m s2 \u001b[39mfor\u001b[39;00m s1 \u001b[39min\u001b[39;00m l1 \u001b[39mif\u001b[39;00m s1 \u001b[39m!=\u001b[39m s2  \u001b[39mfor\u001b[39;00m s2 \u001b[39min\u001b[39;00m l2]\n",
      "\u001b[0;31mUnboundLocalError\u001b[0m: local variable 's2' referenced before assignment"
     ]
    }
   ],
   "source": [
    "result = [s1 + s2 for s1 in l1 if s1 != s2  for s2 in l2]"
   ]
  },
  {
   "cell_type": "code",
   "execution_count": 48,
   "id": "0467e8e8",
   "metadata": {},
   "outputs": [],
   "source": [
    "l1 = [1, 2, 3, 4, 5, 6, 7, 8, 9]\n",
    "l2 = ['a', 'b', 'c', 'd']"
   ]
  },
  {
   "cell_type": "code",
   "execution_count": 49,
   "id": "32f28adf",
   "metadata": {},
   "outputs": [
    {
     "data": {
      "text/plain": [
       "[(1, 'a'), (2, 'b'), (3, 'c'), (4, 'd')]"
      ]
     },
     "execution_count": 49,
     "metadata": {},
     "output_type": "execute_result"
    }
   ],
   "source": [
    "list(zip(l1, l2))"
   ]
  },
  {
   "cell_type": "code",
   "execution_count": 51,
   "id": "321a9112",
   "metadata": {},
   "outputs": [
    {
     "data": {
      "text/plain": [
       "[(0, 1), (1, 2), (2, 3), (3, 4), (4, 5), (5, 6), (6, 7), (7, 8), (8, 9)]"
      ]
     },
     "execution_count": 51,
     "metadata": {},
     "output_type": "execute_result"
    }
   ],
   "source": [
    "list(enumerate(l1))"
   ]
  },
  {
   "cell_type": "code",
   "execution_count": 52,
   "id": "f0a8896a",
   "metadata": {},
   "outputs": [
    {
     "data": {
      "text/plain": [
       "[(0, 'a'), (1, 'b'), (2, 'c'), (3, 'd')]"
      ]
     },
     "execution_count": 52,
     "metadata": {},
     "output_type": "execute_result"
    }
   ],
   "source": [
    "list(enumerate(l2))"
   ]
  },
  {
   "cell_type": "code",
   "execution_count": 54,
   "id": "f7b38a5b",
   "metadata": {},
   "outputs": [],
   "source": [
    "result = []\n",
    "for index_1, item_1 in enumerate(l1):\n",
    "    for index_2, item_2 in enumerate(l2):\n",
    "        if index_1 == index_2:\n",
    "            result.append((item_1, item_2))"
   ]
  },
  {
   "cell_type": "code",
   "execution_count": 55,
   "id": "537635ff",
   "metadata": {},
   "outputs": [
    {
     "data": {
      "text/plain": [
       "[(1, 'a'), (2, 'b'), (3, 'c'), (4, 'd')]"
      ]
     },
     "execution_count": 55,
     "metadata": {},
     "output_type": "execute_result"
    }
   ],
   "source": [
    "result"
   ]
  },
  {
   "cell_type": "code",
   "execution_count": 57,
   "id": "3e2af7cf",
   "metadata": {},
   "outputs": [],
   "source": [
    "result = [ (item_1, item_2)\n",
    "         for index_1, item_1 in enumerate(l1)\n",
    "         for index_2, item_2 in enumerate(l2)\n",
    "         if index_1 == index_2]"
   ]
  },
  {
   "cell_type": "code",
   "execution_count": 58,
   "id": "07f2eb4c",
   "metadata": {},
   "outputs": [
    {
     "data": {
      "text/plain": [
       "[(1, 'a'), (2, 'b'), (3, 'c'), (4, 'd')]"
      ]
     },
     "execution_count": 58,
     "metadata": {},
     "output_type": "execute_result"
    }
   ],
   "source": [
    "result"
   ]
  },
  {
   "cell_type": "code",
   "execution_count": 59,
   "id": "572c2b9d",
   "metadata": {},
   "outputs": [
    {
     "data": {
      "text/plain": [
       "[(1, 'a'), (2, 'b'), (3, 'c'), (4, 'd')]"
      ]
     },
     "execution_count": 59,
     "metadata": {},
     "output_type": "execute_result"
    }
   ],
   "source": [
    "list(zip(l1, l2))"
   ]
  },
  {
   "cell_type": "code",
   "execution_count": 60,
   "id": "51901b92",
   "metadata": {},
   "outputs": [
    {
     "data": {
      "text/plain": [
       "6"
      ]
     },
     "execution_count": 60,
     "metadata": {},
     "output_type": "execute_result"
    }
   ],
   "source": [
    "l = [1, 2, 3]\n",
    "sum(l)"
   ]
  },
  {
   "cell_type": "markdown",
   "id": "977f0b19",
   "metadata": {},
   "source": [
    "v1 = (c1, c2, c3, ..., cn)\n",
    "v2 = (d1, d2, d3, ..., dn)"
   ]
  },
  {
   "cell_type": "markdown",
   "id": "256f6ff6",
   "metadata": {},
   "source": [
    "v1 , v2 = c1*d1 + c2*d2 + c3*d3 + ... + cn*dn"
   ]
  },
  {
   "cell_type": "code",
   "execution_count": 61,
   "id": "2c4df1de",
   "metadata": {},
   "outputs": [],
   "source": [
    "v1 = (1, 2,3, 4, 5, 6)\n",
    "v2 = (10, 20, 30, 40, 50, 60)"
   ]
  },
  {
   "cell_type": "code",
   "execution_count": 63,
   "id": "e26751dd",
   "metadata": {},
   "outputs": [
    {
     "name": "stdout",
     "output_type": "stream",
     "text": [
      "910\n"
     ]
    }
   ],
   "source": [
    "dot = 0\n",
    "for i in range(len(v1)):\n",
    "    dot += (v1[i] * v2[i])\n",
    "print(dot)"
   ]
  },
  {
   "cell_type": "code",
   "execution_count": 64,
   "id": "db0ee273",
   "metadata": {},
   "outputs": [
    {
     "data": {
      "text/plain": [
       "[(1, 10), (2, 20), (3, 30), (4, 40), (5, 50), (6, 60)]"
      ]
     },
     "execution_count": 64,
     "metadata": {},
     "output_type": "execute_result"
    }
   ],
   "source": [
    "list(zip(v1, v2))"
   ]
  },
  {
   "cell_type": "code",
   "execution_count": 65,
   "id": "6d869c53",
   "metadata": {},
   "outputs": [
    {
     "data": {
      "text/plain": [
       "910"
      ]
     },
     "execution_count": 65,
     "metadata": {},
     "output_type": "execute_result"
    }
   ],
   "source": [
    "sum([i*j for i, j in zip(v1,v2)])"
   ]
  },
  {
   "cell_type": "markdown",
   "id": "61b20566",
   "metadata": {},
   "source": [
    "Watch out!!"
   ]
  },
  {
   "cell_type": "code",
   "execution_count": 66,
   "id": "f4a86309",
   "metadata": {},
   "outputs": [],
   "source": [
    "l = []\n",
    "for number in range(5):\n",
    "    l.append(number**2)"
   ]
  },
  {
   "cell_type": "code",
   "execution_count": 68,
   "id": "5bce8509",
   "metadata": {},
   "outputs": [
    {
     "data": {
      "text/plain": [
       "4"
      ]
     },
     "execution_count": 68,
     "metadata": {},
     "output_type": "execute_result"
    }
   ],
   "source": [
    "number"
   ]
  },
  {
   "cell_type": "code",
   "execution_count": 69,
   "id": "c7596846",
   "metadata": {},
   "outputs": [],
   "source": [
    "if 'number' in globals():\n",
    "    del number"
   ]
  },
  {
   "cell_type": "code",
   "execution_count": 71,
   "id": "a97b2149",
   "metadata": {},
   "outputs": [],
   "source": [
    "l = [number**2 for number in range(5)]"
   ]
  },
  {
   "cell_type": "code",
   "execution_count": 72,
   "id": "83085445",
   "metadata": {},
   "outputs": [
    {
     "data": {
      "text/plain": [
       "[0, 1, 4, 9, 16]"
      ]
     },
     "execution_count": 72,
     "metadata": {},
     "output_type": "execute_result"
    }
   ],
   "source": [
    "l"
   ]
  },
  {
   "cell_type": "code",
   "execution_count": 73,
   "id": "863b7a85",
   "metadata": {},
   "outputs": [
    {
     "data": {
      "text/plain": [
       "False"
      ]
     },
     "execution_count": 73,
     "metadata": {},
     "output_type": "execute_result"
    }
   ],
   "source": [
    "'number' in globals()"
   ]
  },
  {
   "cell_type": "code",
   "execution_count": 75,
   "id": "25924662",
   "metadata": {},
   "outputs": [],
   "source": [
    "number = 100"
   ]
  },
  {
   "cell_type": "code",
   "execution_count": 76,
   "id": "e9f3d66b",
   "metadata": {},
   "outputs": [],
   "source": [
    "l = []\n",
    "for number in range(5):\n",
    "    l.append(number**2)"
   ]
  },
  {
   "cell_type": "code",
   "execution_count": 77,
   "id": "b9dbc6bc",
   "metadata": {},
   "outputs": [
    {
     "data": {
      "text/plain": [
       "[0, 1, 4, 9, 16]"
      ]
     },
     "execution_count": 77,
     "metadata": {},
     "output_type": "execute_result"
    }
   ],
   "source": [
    "l"
   ]
  },
  {
   "cell_type": "code",
   "execution_count": 78,
   "id": "8301edc1",
   "metadata": {},
   "outputs": [
    {
     "data": {
      "text/plain": [
       "4"
      ]
     },
     "execution_count": 78,
     "metadata": {},
     "output_type": "execute_result"
    }
   ],
   "source": [
    "number"
   ]
  },
  {
   "cell_type": "code",
   "execution_count": 79,
   "id": "92549f60",
   "metadata": {},
   "outputs": [],
   "source": [
    "number = 100"
   ]
  },
  {
   "cell_type": "code",
   "execution_count": 81,
   "id": "f741e575",
   "metadata": {},
   "outputs": [
    {
     "data": {
      "text/plain": [
       "[0, 1, 4, 9, 16]"
      ]
     },
     "execution_count": 81,
     "metadata": {},
     "output_type": "execute_result"
    }
   ],
   "source": [
    "[number**2 for number in range(5)]"
   ]
  },
  {
   "cell_type": "code",
   "execution_count": 82,
   "id": "6ff133d6",
   "metadata": {},
   "outputs": [
    {
     "data": {
      "text/plain": [
       "100"
      ]
     },
     "execution_count": 82,
     "metadata": {},
     "output_type": "execute_result"
    }
   ],
   "source": [
    "number"
   ]
  },
  {
   "cell_type": "code",
   "execution_count": 83,
   "id": "0597b906",
   "metadata": {},
   "outputs": [
    {
     "data": {
      "text/plain": [
       "[0, 100, 200, 300, 400]"
      ]
     },
     "execution_count": 83,
     "metadata": {},
     "output_type": "execute_result"
    }
   ],
   "source": [
    "[number * i for i in range(5)]"
   ]
  },
  {
   "cell_type": "code",
   "execution_count": 84,
   "id": "cca8921d",
   "metadata": {},
   "outputs": [],
   "source": [
    "fn_0 = lambda x: x**0\n",
    "fn_1 = lambda x: x**1\n",
    "fn_2 = lambda x: x**2\n",
    "fn_3 = lambda x: x**3"
   ]
  },
  {
   "cell_type": "code",
   "execution_count": 85,
   "id": "954b0dbd",
   "metadata": {},
   "outputs": [],
   "source": [
    "funcs = [lambda x: x**0, lambda x: x**1, lambda x: x**2, lambda x: x**3]"
   ]
  },
  {
   "cell_type": "code",
   "execution_count": 86,
   "id": "ffd4f9ee",
   "metadata": {},
   "outputs": [
    {
     "name": "stdout",
     "output_type": "stream",
     "text": [
      "1\n",
      "10\n",
      "100\n",
      "1000\n"
     ]
    }
   ],
   "source": [
    "for i in range(4):\n",
    "    print(funcs[i](10))"
   ]
  },
  {
   "cell_type": "code",
   "execution_count": 87,
   "id": "0155e68e",
   "metadata": {},
   "outputs": [],
   "source": [
    "if 'i' in globals():\n",
    "    del i "
   ]
  },
  {
   "cell_type": "code",
   "execution_count": 89,
   "id": "32bc9bed",
   "metadata": {},
   "outputs": [],
   "source": [
    "funcs = []\n",
    "for i in range(6):\n",
    "    funcs.append(lambda x: x**i)"
   ]
  },
  {
   "cell_type": "code",
   "execution_count": 90,
   "id": "1c9848e6",
   "metadata": {},
   "outputs": [
    {
     "data": {
      "text/plain": [
       "[<function __main__.<lambda>(x)>,\n",
       " <function __main__.<lambda>(x)>,\n",
       " <function __main__.<lambda>(x)>,\n",
       " <function __main__.<lambda>(x)>,\n",
       " <function __main__.<lambda>(x)>,\n",
       " <function __main__.<lambda>(x)>]"
      ]
     },
     "execution_count": 90,
     "metadata": {},
     "output_type": "execute_result"
    }
   ],
   "source": [
    "funcs"
   ]
  },
  {
   "cell_type": "code",
   "execution_count": 91,
   "id": "79a4bc43",
   "metadata": {},
   "outputs": [
    {
     "data": {
      "text/plain": [
       "100000"
      ]
     },
     "execution_count": 91,
     "metadata": {},
     "output_type": "execute_result"
    }
   ],
   "source": [
    "funcs[0](10)"
   ]
  },
  {
   "cell_type": "code",
   "execution_count": 92,
   "id": "d354503a",
   "metadata": {},
   "outputs": [
    {
     "data": {
      "text/plain": [
       "100000"
      ]
     },
     "execution_count": 92,
     "metadata": {},
     "output_type": "execute_result"
    }
   ],
   "source": [
    "funcs[2](10)"
   ]
  },
  {
   "cell_type": "code",
   "execution_count": 93,
   "id": "7d9a0a1f",
   "metadata": {},
   "outputs": [
    {
     "data": {
      "text/plain": [
       "5"
      ]
     },
     "execution_count": 93,
     "metadata": {},
     "output_type": "execute_result"
    }
   ],
   "source": [
    "i"
   ]
  },
  {
   "cell_type": "code",
   "execution_count": 94,
   "id": "deacb8d8",
   "metadata": {},
   "outputs": [],
   "source": [
    "i = 10"
   ]
  },
  {
   "cell_type": "code",
   "execution_count": 96,
   "id": "d6a4aee7",
   "metadata": {},
   "outputs": [
    {
     "data": {
      "text/plain": [
       "10000000000"
      ]
     },
     "execution_count": 96,
     "metadata": {},
     "output_type": "execute_result"
    }
   ],
   "source": [
    "funcs[0](10)"
   ]
  },
  {
   "cell_type": "code",
   "execution_count": 97,
   "id": "f6d438dc",
   "metadata": {},
   "outputs": [],
   "source": [
    "i = 0\n",
    "def fn_0(x):\n",
    "    return x ** i\n",
    "    \n",
    "i = 1\n",
    "def fn_1():\n",
    "    return x ** i"
   ]
  },
  {
   "cell_type": "code",
   "execution_count": 100,
   "id": "b0f0b328",
   "metadata": {},
   "outputs": [],
   "source": [
    "def funcs():\n",
    "    fn = []\n",
    "    for i in range(6):\n",
    "        fn.append(lambda x: x**i)\n",
    "    return fn"
   ]
  },
  {
   "cell_type": "code",
   "execution_count": 101,
   "id": "209688cb",
   "metadata": {},
   "outputs": [],
   "source": [
    "f = funcs()"
   ]
  },
  {
   "cell_type": "code",
   "execution_count": 102,
   "id": "cd2fe7d6",
   "metadata": {},
   "outputs": [
    {
     "data": {
      "text/plain": [
       "[<function __main__.funcs.<locals>.<lambda>(x)>,\n",
       " <function __main__.funcs.<locals>.<lambda>(x)>,\n",
       " <function __main__.funcs.<locals>.<lambda>(x)>,\n",
       " <function __main__.funcs.<locals>.<lambda>(x)>,\n",
       " <function __main__.funcs.<locals>.<lambda>(x)>,\n",
       " <function __main__.funcs.<locals>.<lambda>(x)>]"
      ]
     },
     "execution_count": 102,
     "metadata": {},
     "output_type": "execute_result"
    }
   ],
   "source": [
    "f"
   ]
  },
  {
   "cell_type": "code",
   "execution_count": 104,
   "id": "1ca8b6ec",
   "metadata": {},
   "outputs": [
    {
     "data": {
      "text/plain": [
       "100000"
      ]
     },
     "execution_count": 104,
     "metadata": {},
     "output_type": "execute_result"
    }
   ],
   "source": [
    "f[0](10)"
   ]
  },
  {
   "cell_type": "code",
   "execution_count": 105,
   "id": "b9487877",
   "metadata": {},
   "outputs": [],
   "source": [
    "funcs = [lambda x: x**i for i in  range(5)]"
   ]
  },
  {
   "cell_type": "code",
   "execution_count": 106,
   "id": "0b5dde1f",
   "metadata": {},
   "outputs": [
    {
     "data": {
      "text/plain": [
       "10000"
      ]
     },
     "execution_count": 106,
     "metadata": {},
     "output_type": "execute_result"
    }
   ],
   "source": [
    "funcs[0](10)"
   ]
  },
  {
   "cell_type": "code",
   "execution_count": 107,
   "id": "803e9101",
   "metadata": {},
   "outputs": [],
   "source": [
    "from datetime import datetime"
   ]
  },
  {
   "cell_type": "code",
   "execution_count": 108,
   "id": "fd4759b6",
   "metadata": {},
   "outputs": [
    {
     "data": {
      "text/plain": [
       "datetime.datetime(2022, 10, 30, 5, 50, 58, 63206)"
      ]
     },
     "execution_count": 108,
     "metadata": {},
     "output_type": "execute_result"
    }
   ],
   "source": [
    "datetime.now()"
   ]
  },
  {
   "cell_type": "code",
   "execution_count": 109,
   "id": "905009a1",
   "metadata": {},
   "outputs": [],
   "source": [
    "def log(msg, current_dt= datetime.now()):\n",
    "    print(msg, current_dt)"
   ]
  },
  {
   "cell_type": "code",
   "execution_count": 110,
   "id": "053548dd",
   "metadata": {},
   "outputs": [
    {
     "name": "stdout",
     "output_type": "stream",
     "text": [
      "abc 2022-10-30 05:53:37.100371\n"
     ]
    }
   ],
   "source": [
    "log('abc')"
   ]
  },
  {
   "cell_type": "code",
   "execution_count": 111,
   "id": "8f356316",
   "metadata": {},
   "outputs": [
    {
     "name": "stdout",
     "output_type": "stream",
     "text": [
      "cde 2022-10-30 05:53:37.100371\n"
     ]
    }
   ],
   "source": [
    "log('cde')"
   ]
  },
  {
   "cell_type": "code",
   "execution_count": 112,
   "id": "8b724508",
   "metadata": {},
   "outputs": [
    {
     "name": "stdout",
     "output_type": "stream",
     "text": [
      "a 2022-10-30 05:53:37.100371\n"
     ]
    }
   ],
   "source": [
    "log('a')"
   ]
  },
  {
   "cell_type": "code",
   "execution_count": 113,
   "id": "6283eca9",
   "metadata": {},
   "outputs": [],
   "source": [
    "funcs = [lambda x, p=i: x**p for i in range(5)]"
   ]
  },
  {
   "cell_type": "code",
   "execution_count": 114,
   "id": "7f51827d",
   "metadata": {},
   "outputs": [
    {
     "data": {
      "text/plain": [
       "1"
      ]
     },
     "execution_count": 114,
     "metadata": {},
     "output_type": "execute_result"
    }
   ],
   "source": [
    "funcs[0](10)"
   ]
  },
  {
   "cell_type": "code",
   "execution_count": 116,
   "id": "dad5da60",
   "metadata": {},
   "outputs": [
    {
     "data": {
      "text/plain": [
       "10"
      ]
     },
     "execution_count": 116,
     "metadata": {},
     "output_type": "execute_result"
    }
   ],
   "source": [
    "funcs[1](10)"
   ]
  }
 ],
 "metadata": {
  "kernelspec": {
   "display_name": "Python 3.9.12 ('base')",
   "language": "python",
   "name": "python3"
  },
  "language_info": {
   "codemirror_mode": {
    "name": "ipython",
    "version": 3
   },
   "file_extension": ".py",
   "mimetype": "text/x-python",
   "name": "python",
   "nbconvert_exporter": "python",
   "pygments_lexer": "ipython3",
   "version": "3.9.12"
  },
  "vscode": {
   "interpreter": {
    "hash": "143d2740fa7885280d88cdaad3dbdadb51fa40347825ef5e3d2acba7c4a72194"
   }
  }
 },
 "nbformat": 4,
 "nbformat_minor": 5
}
