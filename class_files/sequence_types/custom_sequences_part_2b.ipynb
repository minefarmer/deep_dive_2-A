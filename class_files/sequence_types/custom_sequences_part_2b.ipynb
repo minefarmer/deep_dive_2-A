{
 "cells": [
  {
   "cell_type": "markdown",
   "id": "34b2344f",
   "metadata": {},
   "source": [
    "                        Custom Sequences (Part 2b)"
   ]
  },
  {
   "cell_type": "code",
   "execution_count": 95,
   "id": "51cccdaa",
   "metadata": {},
   "outputs": [],
   "source": [
    "from collections import namedtuple"
   ]
  },
  {
   "cell_type": "code",
   "execution_count": 96,
   "id": "071abb3f",
   "metadata": {},
   "outputs": [],
   "source": [
    "Point = namedtuple('Point', 'x y')"
   ]
  },
  {
   "cell_type": "code",
   "execution_count": 97,
   "id": "5666c5fb",
   "metadata": {},
   "outputs": [],
   "source": [
    "p1 = Point(10.5, y=3.2)"
   ]
  },
  {
   "cell_type": "code",
   "execution_count": 98,
   "id": "821ecb43",
   "metadata": {},
   "outputs": [
    {
     "data": {
      "text/plain": [
       "Point(x=10.5, y=3.2)"
      ]
     },
     "execution_count": 98,
     "metadata": {},
     "output_type": "execute_result"
    }
   ],
   "source": [
    "p1"
   ]
  },
  {
   "cell_type": "code",
   "execution_count": 99,
   "id": "36a4a959",
   "metadata": {},
   "outputs": [],
   "source": [
    "p1 = Point('abc', [1, 2, 3])"
   ]
  },
  {
   "cell_type": "code",
   "execution_count": 100,
   "id": "c8a2c68e",
   "metadata": {},
   "outputs": [
    {
     "data": {
      "text/plain": [
       "Point(x='abc', y=[1, 2, 3])"
      ]
     },
     "execution_count": 100,
     "metadata": {},
     "output_type": "execute_result"
    }
   ],
   "source": [
    "p1"
   ]
  },
  {
   "cell_type": "code",
   "execution_count": 101,
   "id": "d2c6daa7",
   "metadata": {},
   "outputs": [],
   "source": [
    "x, y = p1"
   ]
  },
  {
   "cell_type": "code",
   "execution_count": 102,
   "id": "5f448d27",
   "metadata": {},
   "outputs": [
    {
     "data": {
      "text/plain": [
       "'abc'"
      ]
     },
     "execution_count": 102,
     "metadata": {},
     "output_type": "execute_result"
    }
   ],
   "source": [
    "x"
   ]
  },
  {
   "cell_type": "code",
   "execution_count": 103,
   "id": "257b0b4d",
   "metadata": {},
   "outputs": [
    {
     "data": {
      "text/plain": [
       "[1, 2, 3]"
      ]
     },
     "execution_count": 103,
     "metadata": {},
     "output_type": "execute_result"
    }
   ],
   "source": [
    "y"
   ]
  },
  {
   "cell_type": "code",
   "execution_count": 104,
   "id": "edb01c20",
   "metadata": {},
   "outputs": [],
   "source": [
    "import numbers"
   ]
  },
  {
   "cell_type": "code",
   "execution_count": 105,
   "id": "ec219cbb",
   "metadata": {},
   "outputs": [
    {
     "data": {
      "text/plain": [
       "True"
      ]
     },
     "execution_count": 105,
     "metadata": {},
     "output_type": "execute_result"
    }
   ],
   "source": [
    "isinstance(10, numbers.Number)"
   ]
  },
  {
   "cell_type": "code",
   "execution_count": 106,
   "id": "9bb9ba56",
   "metadata": {},
   "outputs": [
    {
     "data": {
      "text/plain": [
       "False"
      ]
     },
     "execution_count": 106,
     "metadata": {},
     "output_type": "execute_result"
    }
   ],
   "source": [
    "isinstance('a', numbers.Number)"
   ]
  },
  {
   "cell_type": "code",
   "execution_count": 107,
   "id": "5846a336",
   "metadata": {},
   "outputs": [
    {
     "data": {
      "text/plain": [
       "True"
      ]
     },
     "execution_count": 107,
     "metadata": {},
     "output_type": "execute_result"
    }
   ],
   "source": [
    "isinstance(10.5, numbers.Number)"
   ]
  },
  {
   "cell_type": "code",
   "execution_count": 108,
   "id": "98b0349d",
   "metadata": {},
   "outputs": [
    {
     "data": {
      "text/plain": [
       "True"
      ]
     },
     "execution_count": 108,
     "metadata": {},
     "output_type": "execute_result"
    }
   ],
   "source": [
    "isinstance(10+2j, numbers.Number)"
   ]
  },
  {
   "cell_type": "code",
   "execution_count": 109,
   "id": "a281fcab",
   "metadata": {},
   "outputs": [
    {
     "data": {
      "text/plain": [
       "True"
      ]
     },
     "execution_count": 109,
     "metadata": {},
     "output_type": "execute_result"
    }
   ],
   "source": [
    "isinstance(10, numbers.Real)"
   ]
  },
  {
   "cell_type": "code",
   "execution_count": 110,
   "id": "487adece",
   "metadata": {},
   "outputs": [],
   "source": [
    "class Point:\n",
    "    def __init__(self, x, y):\n",
    "        if isinstance(x, numbers.Real) and isinstance(y, numbers.Real):\n",
    "            self._pt = (x, y)\n",
    "        else:\n",
    "            raise TypeError('Point co-ordinates must be real numbers.')\n",
    "    \n",
    "    def __repr__(self):\n",
    "        return f'Point(x={self._pt[0]}, y={self.pt[1]})'"
   ]
  },
  {
   "cell_type": "code",
   "execution_count": 111,
   "id": "b8719c05",
   "metadata": {},
   "outputs": [],
   "source": [
    "p1  = Point(10, 2.5)"
   ]
  },
  {
   "cell_type": "code",
   "execution_count": 112,
   "id": "5f210c2d",
   "metadata": {},
   "outputs": [
    {
     "ename": "TypeError",
     "evalue": "Point co-ordinates must be real numbers.",
     "output_type": "error",
     "traceback": [
      "\u001b[0;31m---------------------------------------------------------------------------\u001b[0m",
      "\u001b[0;31mTypeError\u001b[0m                                 Traceback (most recent call last)",
      "\u001b[1;32m/home/carl/Desktop/Matshub/deep_dive_2-A/class_files/sequence_types/custom_sequences_part_2b.ipynb Cell 19\u001b[0m in \u001b[0;36m<cell line: 1>\u001b[0;34m()\u001b[0m\n\u001b[0;32m----> <a href='vscode-notebook-cell:/home/carl/Desktop/Matshub/deep_dive_2-A/class_files/sequence_types/custom_sequences_part_2b.ipynb#X26sZmlsZQ%3D%3D?line=0'>1</a>\u001b[0m p1 \u001b[39m=\u001b[39m Point(\u001b[39m'\u001b[39;49m\u001b[39mabc\u001b[39;49m\u001b[39m'\u001b[39;49m, \u001b[39m10\u001b[39;49m)\n",
      "\u001b[1;32m/home/carl/Desktop/Matshub/deep_dive_2-A/class_files/sequence_types/custom_sequences_part_2b.ipynb Cell 19\u001b[0m in \u001b[0;36mPoint.__init__\u001b[0;34m(self, x, y)\u001b[0m\n\u001b[1;32m      <a href='vscode-notebook-cell:/home/carl/Desktop/Matshub/deep_dive_2-A/class_files/sequence_types/custom_sequences_part_2b.ipynb#X26sZmlsZQ%3D%3D?line=3'>4</a>\u001b[0m     \u001b[39mself\u001b[39m\u001b[39m.\u001b[39m_pt \u001b[39m=\u001b[39m (x, y)\n\u001b[1;32m      <a href='vscode-notebook-cell:/home/carl/Desktop/Matshub/deep_dive_2-A/class_files/sequence_types/custom_sequences_part_2b.ipynb#X26sZmlsZQ%3D%3D?line=4'>5</a>\u001b[0m \u001b[39melse\u001b[39;00m:\n\u001b[0;32m----> <a href='vscode-notebook-cell:/home/carl/Desktop/Matshub/deep_dive_2-A/class_files/sequence_types/custom_sequences_part_2b.ipynb#X26sZmlsZQ%3D%3D?line=5'>6</a>\u001b[0m     \u001b[39mraise\u001b[39;00m \u001b[39mTypeError\u001b[39;00m(\u001b[39m'\u001b[39m\u001b[39mPoint co-ordinates must be real numbers.\u001b[39m\u001b[39m'\u001b[39m)\n",
      "\u001b[0;31mTypeError\u001b[0m: Point co-ordinates must be real numbers."
     ]
    }
   ],
   "source": [
    "p1 = Point('abc', 10)"
   ]
  },
  {
   "cell_type": "code",
   "execution_count": null,
   "id": "2f1f4990",
   "metadata": {},
   "outputs": [],
   "source": [
    "class Point:\n",
    "    def __init__(self, x, y):\n",
    "        if isinstance(x, numbers.Real) and isinstance(y, numbers.Real):\n",
    "            self._pt = (x, y)\n",
    "        else:\n",
    "            raise TypeError('Point co-ordinates must be real numbers.')\n",
    "    \n",
    "    def __repr__(self):\n",
    "        return f'Point(x={self._pt[0]}, y={self.pt[1]})'\n",
    "    \n",
    "    def __len__(self):\n",
    "        return len(self._pt)\n",
    "    \n",
    "    def __getitem__(self, s):\n",
    "        return self._pt[s]"
   ]
  },
  {
   "cell_type": "code",
   "execution_count": null,
   "id": "a8d401ad",
   "metadata": {},
   "outputs": [],
   "source": [
    "p1 = Point(10, 2)"
   ]
  },
  {
   "cell_type": "code",
   "execution_count": null,
   "id": "a8fbbb16",
   "metadata": {},
   "outputs": [],
   "source": [
    "x, y = p1"
   ]
  },
  {
   "cell_type": "code",
   "execution_count": null,
   "id": "cf129581",
   "metadata": {},
   "outputs": [
    {
     "data": {
      "text/plain": [
       "10"
      ]
     },
     "execution_count": 61,
     "metadata": {},
     "output_type": "execute_result"
    }
   ],
   "source": [
    "x"
   ]
  },
  {
   "cell_type": "code",
   "execution_count": null,
   "id": "85bd1b99",
   "metadata": {},
   "outputs": [
    {
     "data": {
      "text/plain": [
       "2"
      ]
     },
     "execution_count": 62,
     "metadata": {},
     "output_type": "execute_result"
    }
   ],
   "source": [
    "y"
   ]
  },
  {
   "cell_type": "code",
   "execution_count": null,
   "id": "80a37917",
   "metadata": {},
   "outputs": [],
   "source": [
    "p2 = Point(*p1)"
   ]
  },
  {
   "cell_type": "code",
   "execution_count": null,
   "id": "075646b1",
   "metadata": {},
   "outputs": [
    {
     "data": {
      "text/plain": [
       "(140046865525152, 140046863959280)"
      ]
     },
     "execution_count": 67,
     "metadata": {},
     "output_type": "execute_result"
    }
   ],
   "source": [
    "id(p1), id(p2)"
   ]
  },
  {
   "cell_type": "code",
   "execution_count": null,
   "id": "c756f864",
   "metadata": {},
   "outputs": [],
   "source": [
    "class Polygon:\n",
    "    def __init__(self, *pts):\n",
    "        if pts:\n",
    "            self._pts = [Point(*pt) for pt in pts]\n",
    "        else:\n",
    "            self._pts = []\n",
    "        \n",
    "        def __repr__(self):\n",
    "            return f'Polygon({self._pts})'"
   ]
  },
  {
   "cell_type": "code",
   "execution_count": null,
   "id": "a2e73124",
   "metadata": {},
   "outputs": [],
   "source": [
    "p = Polygon((0,0), Point(1, 1))"
   ]
  },
  {
   "cell_type": "code",
   "execution_count": null,
   "id": "d396924a",
   "metadata": {},
   "outputs": [
    {
     "data": {
      "text/plain": [
       "<__main__.Polygon at 0x7f5f20b35d60>"
      ]
     },
     "execution_count": 73,
     "metadata": {},
     "output_type": "execute_result"
    }
   ],
   "source": [
    "p"
   ]
  },
  {
   "cell_type": "code",
   "execution_count": null,
   "id": "77027173",
   "metadata": {},
   "outputs": [
    {
     "ename": "TypeError",
     "evalue": "Point co-ordinates must be real numbers.",
     "output_type": "error",
     "traceback": [
      "\u001b[0;31m---------------------------------------------------------------------------\u001b[0m",
      "\u001b[0;31mTypeError\u001b[0m                                 Traceback (most recent call last)",
      "\u001b[1;32m/home/carl/Desktop/Matshub/deep_dive_2-A/class_files/sequence_types/custom_sequences_part_2b.ipynb Cell 30\u001b[0m in \u001b[0;36m<cell line: 1>\u001b[0;34m()\u001b[0m\n\u001b[0;32m----> <a href='vscode-notebook-cell:/home/carl/Desktop/Matshub/deep_dive_2-A/class_files/sequence_types/custom_sequences_part_2b.ipynb#X43sZmlsZQ%3D%3D?line=0'>1</a>\u001b[0m p2 \u001b[39m=\u001b[39m Polygon([Point(x\u001b[39m=\u001b[39;49m\u001b[39m0\u001b[39;49m, y\u001b[39m=\u001b[39;49m\u001b[39m0\u001b[39;49m), Point(x\u001b[39m=\u001b[39;49m\u001b[39m1\u001b[39;49m, y\u001b[39m=\u001b[39;49m\u001b[39m1\u001b[39;49m)])\n",
      "\u001b[1;32m/home/carl/Desktop/Matshub/deep_dive_2-A/class_files/sequence_types/custom_sequences_part_2b.ipynb Cell 30\u001b[0m in \u001b[0;36mPolygon.__init__\u001b[0;34m(self, *pts)\u001b[0m\n\u001b[1;32m      <a href='vscode-notebook-cell:/home/carl/Desktop/Matshub/deep_dive_2-A/class_files/sequence_types/custom_sequences_part_2b.ipynb#X43sZmlsZQ%3D%3D?line=1'>2</a>\u001b[0m \u001b[39mdef\u001b[39;00m \u001b[39m__init__\u001b[39m(\u001b[39mself\u001b[39m, \u001b[39m*\u001b[39mpts):\n\u001b[1;32m      <a href='vscode-notebook-cell:/home/carl/Desktop/Matshub/deep_dive_2-A/class_files/sequence_types/custom_sequences_part_2b.ipynb#X43sZmlsZQ%3D%3D?line=2'>3</a>\u001b[0m     \u001b[39mif\u001b[39;00m pts:\n\u001b[0;32m----> <a href='vscode-notebook-cell:/home/carl/Desktop/Matshub/deep_dive_2-A/class_files/sequence_types/custom_sequences_part_2b.ipynb#X43sZmlsZQ%3D%3D?line=3'>4</a>\u001b[0m         \u001b[39mself\u001b[39m\u001b[39m.\u001b[39m_pts \u001b[39m=\u001b[39m [Point(\u001b[39m*\u001b[39mpt) \u001b[39mfor\u001b[39;00m pt \u001b[39min\u001b[39;00m pts]\n\u001b[1;32m      <a href='vscode-notebook-cell:/home/carl/Desktop/Matshub/deep_dive_2-A/class_files/sequence_types/custom_sequences_part_2b.ipynb#X43sZmlsZQ%3D%3D?line=4'>5</a>\u001b[0m     \u001b[39melse\u001b[39;00m:\n\u001b[1;32m      <a href='vscode-notebook-cell:/home/carl/Desktop/Matshub/deep_dive_2-A/class_files/sequence_types/custom_sequences_part_2b.ipynb#X43sZmlsZQ%3D%3D?line=5'>6</a>\u001b[0m         \u001b[39mself\u001b[39m\u001b[39m.\u001b[39m_pts \u001b[39m=\u001b[39m []\n",
      "\u001b[1;32m/home/carl/Desktop/Matshub/deep_dive_2-A/class_files/sequence_types/custom_sequences_part_2b.ipynb Cell 30\u001b[0m in \u001b[0;36m<listcomp>\u001b[0;34m(.0)\u001b[0m\n\u001b[1;32m      <a href='vscode-notebook-cell:/home/carl/Desktop/Matshub/deep_dive_2-A/class_files/sequence_types/custom_sequences_part_2b.ipynb#X43sZmlsZQ%3D%3D?line=1'>2</a>\u001b[0m \u001b[39mdef\u001b[39;00m \u001b[39m__init__\u001b[39m(\u001b[39mself\u001b[39m, \u001b[39m*\u001b[39mpts):\n\u001b[1;32m      <a href='vscode-notebook-cell:/home/carl/Desktop/Matshub/deep_dive_2-A/class_files/sequence_types/custom_sequences_part_2b.ipynb#X43sZmlsZQ%3D%3D?line=2'>3</a>\u001b[0m     \u001b[39mif\u001b[39;00m pts:\n\u001b[0;32m----> <a href='vscode-notebook-cell:/home/carl/Desktop/Matshub/deep_dive_2-A/class_files/sequence_types/custom_sequences_part_2b.ipynb#X43sZmlsZQ%3D%3D?line=3'>4</a>\u001b[0m         \u001b[39mself\u001b[39m\u001b[39m.\u001b[39m_pts \u001b[39m=\u001b[39m [Point(\u001b[39m*\u001b[39;49mpt) \u001b[39mfor\u001b[39;00m pt \u001b[39min\u001b[39;00m pts]\n\u001b[1;32m      <a href='vscode-notebook-cell:/home/carl/Desktop/Matshub/deep_dive_2-A/class_files/sequence_types/custom_sequences_part_2b.ipynb#X43sZmlsZQ%3D%3D?line=4'>5</a>\u001b[0m     \u001b[39melse\u001b[39;00m:\n\u001b[1;32m      <a href='vscode-notebook-cell:/home/carl/Desktop/Matshub/deep_dive_2-A/class_files/sequence_types/custom_sequences_part_2b.ipynb#X43sZmlsZQ%3D%3D?line=5'>6</a>\u001b[0m         \u001b[39mself\u001b[39m\u001b[39m.\u001b[39m_pts \u001b[39m=\u001b[39m []\n",
      "\u001b[1;32m/home/carl/Desktop/Matshub/deep_dive_2-A/class_files/sequence_types/custom_sequences_part_2b.ipynb Cell 30\u001b[0m in \u001b[0;36mPoint.__init__\u001b[0;34m(self, x, y)\u001b[0m\n\u001b[1;32m      <a href='vscode-notebook-cell:/home/carl/Desktop/Matshub/deep_dive_2-A/class_files/sequence_types/custom_sequences_part_2b.ipynb#X43sZmlsZQ%3D%3D?line=3'>4</a>\u001b[0m     \u001b[39mself\u001b[39m\u001b[39m.\u001b[39m_pt \u001b[39m=\u001b[39m (x, y)\n\u001b[1;32m      <a href='vscode-notebook-cell:/home/carl/Desktop/Matshub/deep_dive_2-A/class_files/sequence_types/custom_sequences_part_2b.ipynb#X43sZmlsZQ%3D%3D?line=4'>5</a>\u001b[0m \u001b[39melse\u001b[39;00m:\n\u001b[0;32m----> <a href='vscode-notebook-cell:/home/carl/Desktop/Matshub/deep_dive_2-A/class_files/sequence_types/custom_sequences_part_2b.ipynb#X43sZmlsZQ%3D%3D?line=5'>6</a>\u001b[0m     \u001b[39mraise\u001b[39;00m \u001b[39mTypeError\u001b[39;00m(\u001b[39m'\u001b[39m\u001b[39mPoint co-ordinates must be real numbers.\u001b[39m\u001b[39m'\u001b[39m)\n",
      "\u001b[0;31mTypeError\u001b[0m: Point co-ordinates must be real numbers."
     ]
    }
   ],
   "source": [
    "p2 = Polygon([Point(x=0, y=0), Point(x=1, y=1)])"
   ]
  },
  {
   "cell_type": "code",
   "execution_count": null,
   "id": "d8eb6bad",
   "metadata": {},
   "outputs": [],
   "source": [
    "class Polygon:\n",
    "    def __init__(self, *pts):\n",
    "        if pts:\n",
    "            self._pts = [Point(*pt) for pt in pts]\n",
    "        else:\n",
    "            self._pts = []\n",
    "        \n",
    "        def __repr__(self):\n",
    "            pts_str = ', '.join([str(pt) for pt in self._pts])\n",
    "            return f'Polygon({self._pts})'"
   ]
  },
  {
   "cell_type": "code",
   "execution_count": null,
   "id": "afdb33a8",
   "metadata": {},
   "outputs": [],
   "source": [
    "p = Polygon((0,0), Point(1, 1))"
   ]
  },
  {
   "cell_type": "code",
   "execution_count": null,
   "id": "2656ee6f",
   "metadata": {},
   "outputs": [
    {
     "data": {
      "text/plain": [
       "<__main__.Polygon at 0x7f5f20b2e7c0>"
      ]
     },
     "execution_count": 78,
     "metadata": {},
     "output_type": "execute_result"
    }
   ],
   "source": [
    "p"
   ]
  },
  {
   "cell_type": "code",
   "execution_count": null,
   "id": "56f68d44",
   "metadata": {},
   "outputs": [],
   "source": [
    "p1 = Polygon(Point(x=0, y=0), Point(x=1, y=1))"
   ]
  },
  {
   "cell_type": "code",
   "execution_count": null,
   "id": "d9ccfd17",
   "metadata": {},
   "outputs": [
    {
     "data": {
      "text/plain": [
       "<__main__.Polygon at 0x7f5f20ad35b0>"
      ]
     },
     "execution_count": 81,
     "metadata": {},
     "output_type": "execute_result"
    }
   ],
   "source": [
    "p1"
   ]
  },
  {
   "cell_type": "code",
   "execution_count": null,
   "id": "86671109",
   "metadata": {},
   "outputs": [],
   "source": [
    "class Polygon:\n",
    "    def __init__(self, *pts):\n",
    "        if pts:\n",
    "            self._pts = [Point(*pt) for pt in pts]\n",
    "        else:\n",
    "            self._pts = []\n",
    "        \n",
    "        def __repr__(self):\n",
    "            pts_str = ', '.join([str(pt) for pt in self._pts])\n",
    "            return f'Polygon({self._pts})'\n",
    "    \n",
    "    def __len__(self):\n",
    "        return len(self._pt)\n",
    "    \n",
    "    # def __getitem__(self, s):\n",
    "    #     return self.pt[s]"
   ]
  },
  {
   "cell_type": "code",
   "execution_count": null,
   "id": "f121e2b6",
   "metadata": {},
   "outputs": [],
   "source": [
    "p = Polygon((0,0), (1,1), (2,2))"
   ]
  },
  {
   "cell_type": "code",
   "execution_count": null,
   "id": "4491292c",
   "metadata": {},
   "outputs": [
    {
     "data": {
      "text/plain": [
       "<__main__.Polygon at 0x7f5f20b2e340>"
      ]
     },
     "execution_count": 93,
     "metadata": {},
     "output_type": "execute_result"
    }
   ],
   "source": [
    "p"
   ]
  },
  {
   "cell_type": "code",
   "execution_count": 118,
   "id": "c4c54fed",
   "metadata": {},
   "outputs": [],
   "source": [
    "class Polygon:\n",
    "    def __init__(self, *pts):\n",
    "        if pts:\n",
    "            self._pts = [Point(*pt) for pt in pts]\n",
    "        else:\n",
    "            self._pts = []\n",
    "        \n",
    "        def __repr__(self):\n",
    "            pts_str = ', '.join([str(pt) for pt in self._pts])\n",
    "            return f'Polygon({self._pts})'\n",
    "    \n",
    "    def __len__(self):\n",
    "        return len(self._pt)\n",
    "    \n",
    "    def __getitem__(self, s):\n",
    "        return self.pt[s]\n",
    "    \n",
    "    def __add__(self, other):\n",
    "        if isinstance(other, Polygon):\n",
    "            new_pts = self._pts + other._pts\n",
    "            return Polygon(*new_pts)\n",
    "        else:\n",
    "            raise TypeError('can only concatenate with another Polygon')"
   ]
  },
  {
   "cell_type": "code",
   "execution_count": 121,
   "id": "7c869473",
   "metadata": {},
   "outputs": [
    {
     "data": {
      "text/plain": [
       "(140046545479040, 140046545478416)"
      ]
     },
     "execution_count": 121,
     "metadata": {},
     "output_type": "execute_result"
    }
   ],
   "source": [
    "p1 = Polygon((0,0), (1,1))\n",
    "p2 = Polygon((2,2), (3,3))\n",
    "id(p1), id(p2)"
   ]
  },
  {
   "cell_type": "code",
   "execution_count": 125,
   "id": "a4faa6b4",
   "metadata": {},
   "outputs": [],
   "source": [
    "class Polygon:\n",
    "    def __init__(self, *pts):\n",
    "        if pts:\n",
    "            self._pts = [Point(*pt) for pt in pts]\n",
    "        else:\n",
    "            self._pts = []\n",
    "        \n",
    "        def __repr__(self):\n",
    "            pts_str = ', '.join([str(pt) for pt in self._pts])\n",
    "            return f'Polygon({self._pts})'\n",
    "    \n",
    "    def __len__(self):\n",
    "        return len(self._pt)\n",
    "    \n",
    "    def __getitem__(self, s):\n",
    "        return self.pt[s]\n",
    "    \n",
    "    def __add__(self, other):\n",
    "        if isinstance(other, Polygon):\n",
    "            new_pts = self._pts + other._pts\n",
    "            return Polygon(*new_pts)\n",
    "        else:\n",
    "            raise TypeError('can only concatenate with another Polygon')\n",
    "        \n",
    "    def __iadd__(self, other):\n",
    "        if isinstance(other, Polygon):\n",
    "            self._pts = self._pts + other._pts\n",
    "            return self\n",
    "        else:\n",
    "            raise TypeError('can only concatenate with another Polygon')"
   ]
  },
  {
   "cell_type": "code",
   "execution_count": 126,
   "id": "c4e2a979",
   "metadata": {},
   "outputs": [
    {
     "data": {
      "text/plain": [
       "(140046545319008, 140046545320256)"
      ]
     },
     "execution_count": 126,
     "metadata": {},
     "output_type": "execute_result"
    }
   ],
   "source": [
    "p1 = Polygon((0,0), (1,1))\n",
    "p2 = Polygon((2,2), (3,3))\n",
    "id(p1), id(p2)"
   ]
  },
  {
   "cell_type": "code",
   "execution_count": 127,
   "id": "c62c5f11",
   "metadata": {},
   "outputs": [],
   "source": [
    "p1 += p2"
   ]
  },
  {
   "cell_type": "code",
   "execution_count": 128,
   "id": "75c6832f",
   "metadata": {},
   "outputs": [
    {
     "data": {
      "text/plain": [
       "(140046545319008, <__main__.Polygon at 0x7f5f2095f460>)"
      ]
     },
     "execution_count": 128,
     "metadata": {},
     "output_type": "execute_result"
    }
   ],
   "source": [
    "id(p1), p1"
   ]
  },
  {
   "cell_type": "code",
   "execution_count": 129,
   "id": "95d17d1f",
   "metadata": {},
   "outputs": [
    {
     "data": {
      "text/plain": [
       "(140046545321456, 140046545318288)"
      ]
     },
     "execution_count": 129,
     "metadata": {},
     "output_type": "execute_result"
    }
   ],
   "source": [
    "p1 = Polygon((0,0), (1,1))\n",
    "p2 = Polygon((2,2), (3,3))\n",
    "id(p1), id(p2)"
   ]
  },
  {
   "cell_type": "code",
   "execution_count": 130,
   "id": "423df4b2",
   "metadata": {},
   "outputs": [],
   "source": [
    "p1 = p1.__iadd__(p2)"
   ]
  },
  {
   "cell_type": "code",
   "execution_count": 131,
   "id": "e8978af4",
   "metadata": {},
   "outputs": [
    {
     "data": {
      "text/plain": [
       "(140046545321456, <__main__.Polygon at 0x7f5f2095fdf0>)"
      ]
     },
     "execution_count": 131,
     "metadata": {},
     "output_type": "execute_result"
    }
   ],
   "source": [
    "id(p1), p1"
   ]
  },
  {
   "cell_type": "code",
   "execution_count": 132,
   "id": "386acab5",
   "metadata": {},
   "outputs": [],
   "source": [
    "p1 = Polygon((0,0), (1,1))"
   ]
  },
  {
   "cell_type": "code",
   "execution_count": 133,
   "id": "dbe40cd7",
   "metadata": {},
   "outputs": [
    {
     "ename": "TypeError",
     "evalue": "can only concatenate with another Polygon",
     "output_type": "error",
     "traceback": [
      "\u001b[0;31m---------------------------------------------------------------------------\u001b[0m",
      "\u001b[0;31mTypeError\u001b[0m                                 Traceback (most recent call last)",
      "\u001b[1;32m/home/carl/Desktop/Matshub/deep_dive_2-A/class_files/sequence_types/custom_sequences_part_2b.ipynb Cell 49\u001b[0m in \u001b[0;36m<cell line: 1>\u001b[0;34m()\u001b[0m\n\u001b[0;32m----> <a href='vscode-notebook-cell:/home/carl/Desktop/Matshub/deep_dive_2-A/class_files/sequence_types/custom_sequences_part_2b.ipynb#Y102sZmlsZQ%3D%3D?line=0'>1</a>\u001b[0m p1 \u001b[39m+\u001b[39m\u001b[39m=\u001b[39m [(\u001b[39m2\u001b[39m,\u001b[39m2\u001b[39m), (\u001b[39m3\u001b[39m,\u001b[39m3\u001b[39m)]\n",
      "\u001b[1;32m/home/carl/Desktop/Matshub/deep_dive_2-A/class_files/sequence_types/custom_sequences_part_2b.ipynb Cell 49\u001b[0m in \u001b[0;36mPolygon.__iadd__\u001b[0;34m(self, other)\u001b[0m\n\u001b[1;32m     <a href='vscode-notebook-cell:/home/carl/Desktop/Matshub/deep_dive_2-A/class_files/sequence_types/custom_sequences_part_2b.ipynb#Y102sZmlsZQ%3D%3D?line=27'>28</a>\u001b[0m     \u001b[39mreturn\u001b[39;00m \u001b[39mself\u001b[39m\n\u001b[1;32m     <a href='vscode-notebook-cell:/home/carl/Desktop/Matshub/deep_dive_2-A/class_files/sequence_types/custom_sequences_part_2b.ipynb#Y102sZmlsZQ%3D%3D?line=28'>29</a>\u001b[0m \u001b[39melse\u001b[39;00m:\n\u001b[0;32m---> <a href='vscode-notebook-cell:/home/carl/Desktop/Matshub/deep_dive_2-A/class_files/sequence_types/custom_sequences_part_2b.ipynb#Y102sZmlsZQ%3D%3D?line=29'>30</a>\u001b[0m     \u001b[39mraise\u001b[39;00m \u001b[39mTypeError\u001b[39;00m(\u001b[39m'\u001b[39m\u001b[39mcan only concatenate with another Polygon\u001b[39m\u001b[39m'\u001b[39m)\n",
      "\u001b[0;31mTypeError\u001b[0m: can only concatenate with another Polygon"
     ]
    }
   ],
   "source": [
    "p1 += [(2,2), (3,3)]"
   ]
  },
  {
   "cell_type": "code",
   "execution_count": 136,
   "id": "db33ab19",
   "metadata": {},
   "outputs": [],
   "source": [
    "class Polygon:\n",
    "    def __init__(self, *pts):\n",
    "        if pts:\n",
    "            self._pts = [Point(*pt) for pt in pts]\n",
    "        else:\n",
    "            self._pts = []\n",
    "        \n",
    "        def __repr__(self):\n",
    "            pts_str = ', '.join([str(pt) for pt in self._pts])\n",
    "            return f'Polygon({self._pts})'\n",
    "    \n",
    "    def __len__(self):\n",
    "        return len(self._pt)\n",
    "    \n",
    "    def __getitem__(self, s):\n",
    "        return self.pt[s]\n",
    "    \n",
    "    def __add__(self, other):\n",
    "        if isinstance(other, Polygon):\n",
    "            new_pts = self._pts + other._pts\n",
    "            return Polygon(*new_pts)\n",
    "        else:\n",
    "            raise TypeError('can only concatenate with another Polygon')\n",
    "        \n",
    "    def __iadd__(self, other):\n",
    "        if isinstance(other, Polygon):\n",
    "            points = other._pts\n",
    "        else:\n",
    "            points = [Point(*pt) for pt in other]\n",
    "        self._pts = self._pts + points\n",
    "        return self"
   ]
  },
  {
   "cell_type": "code",
   "execution_count": 137,
   "id": "66fbd0d5",
   "metadata": {},
   "outputs": [
    {
     "data": {
      "text/plain": [
       "140046544984960"
      ]
     },
     "execution_count": 137,
     "metadata": {},
     "output_type": "execute_result"
    }
   ],
   "source": [
    "p1 = Polygon((0,0), (1,1))\n",
    "id(p1)"
   ]
  },
  {
   "cell_type": "code",
   "execution_count": 138,
   "id": "455ae643",
   "metadata": {},
   "outputs": [
    {
     "ename": "TypeError",
     "evalue": "__main__.Point() argument after * must be an iterable, not Point",
     "output_type": "error",
     "traceback": [
      "\u001b[0;31m---------------------------------------------------------------------------\u001b[0m",
      "\u001b[0;31mTypeError\u001b[0m                                 Traceback (most recent call last)",
      "\u001b[1;32m/home/carl/Desktop/Matshub/deep_dive_2-A/class_files/sequence_types/custom_sequences_part_2b.ipynb Cell 52\u001b[0m in \u001b[0;36m<cell line: 1>\u001b[0;34m()\u001b[0m\n\u001b[0;32m----> <a href='vscode-notebook-cell:/home/carl/Desktop/Matshub/deep_dive_2-A/class_files/sequence_types/custom_sequences_part_2b.ipynb#Y105sZmlsZQ%3D%3D?line=0'>1</a>\u001b[0m p1 \u001b[39m+\u001b[39m\u001b[39m=\u001b[39m [(\u001b[39m2\u001b[39m,\u001b[39m2\u001b[39m), (\u001b[39m3\u001b[39m,\u001b[39m3\u001b[39m), Point(\u001b[39m4\u001b[39m, \u001b[39m4\u001b[39m)]\n",
      "\u001b[1;32m/home/carl/Desktop/Matshub/deep_dive_2-A/class_files/sequence_types/custom_sequences_part_2b.ipynb Cell 52\u001b[0m in \u001b[0;36mPolygon.__iadd__\u001b[0;34m(self, other)\u001b[0m\n\u001b[1;32m     <a href='vscode-notebook-cell:/home/carl/Desktop/Matshub/deep_dive_2-A/class_files/sequence_types/custom_sequences_part_2b.ipynb#Y105sZmlsZQ%3D%3D?line=26'>27</a>\u001b[0m     points \u001b[39m=\u001b[39m other\u001b[39m.\u001b[39m_pts\n\u001b[1;32m     <a href='vscode-notebook-cell:/home/carl/Desktop/Matshub/deep_dive_2-A/class_files/sequence_types/custom_sequences_part_2b.ipynb#Y105sZmlsZQ%3D%3D?line=27'>28</a>\u001b[0m \u001b[39melse\u001b[39;00m:\n\u001b[0;32m---> <a href='vscode-notebook-cell:/home/carl/Desktop/Matshub/deep_dive_2-A/class_files/sequence_types/custom_sequences_part_2b.ipynb#Y105sZmlsZQ%3D%3D?line=28'>29</a>\u001b[0m     points \u001b[39m=\u001b[39m [Point(\u001b[39m*\u001b[39mpt) \u001b[39mfor\u001b[39;00m pt \u001b[39min\u001b[39;00m other]\n\u001b[1;32m     <a href='vscode-notebook-cell:/home/carl/Desktop/Matshub/deep_dive_2-A/class_files/sequence_types/custom_sequences_part_2b.ipynb#Y105sZmlsZQ%3D%3D?line=29'>30</a>\u001b[0m \u001b[39mself\u001b[39m\u001b[39m.\u001b[39m_pts \u001b[39m=\u001b[39m \u001b[39mself\u001b[39m\u001b[39m.\u001b[39m_pts \u001b[39m+\u001b[39m points\n\u001b[1;32m     <a href='vscode-notebook-cell:/home/carl/Desktop/Matshub/deep_dive_2-A/class_files/sequence_types/custom_sequences_part_2b.ipynb#Y105sZmlsZQ%3D%3D?line=30'>31</a>\u001b[0m \u001b[39mreturn\u001b[39;00m \u001b[39mself\u001b[39m\n",
      "\u001b[1;32m/home/carl/Desktop/Matshub/deep_dive_2-A/class_files/sequence_types/custom_sequences_part_2b.ipynb Cell 52\u001b[0m in \u001b[0;36m<listcomp>\u001b[0;34m(.0)\u001b[0m\n\u001b[1;32m     <a href='vscode-notebook-cell:/home/carl/Desktop/Matshub/deep_dive_2-A/class_files/sequence_types/custom_sequences_part_2b.ipynb#Y105sZmlsZQ%3D%3D?line=26'>27</a>\u001b[0m     points \u001b[39m=\u001b[39m other\u001b[39m.\u001b[39m_pts\n\u001b[1;32m     <a href='vscode-notebook-cell:/home/carl/Desktop/Matshub/deep_dive_2-A/class_files/sequence_types/custom_sequences_part_2b.ipynb#Y105sZmlsZQ%3D%3D?line=27'>28</a>\u001b[0m \u001b[39melse\u001b[39;00m:\n\u001b[0;32m---> <a href='vscode-notebook-cell:/home/carl/Desktop/Matshub/deep_dive_2-A/class_files/sequence_types/custom_sequences_part_2b.ipynb#Y105sZmlsZQ%3D%3D?line=28'>29</a>\u001b[0m     points \u001b[39m=\u001b[39m [Point(\u001b[39m*\u001b[39;49mpt) \u001b[39mfor\u001b[39;00m pt \u001b[39min\u001b[39;00m other]\n\u001b[1;32m     <a href='vscode-notebook-cell:/home/carl/Desktop/Matshub/deep_dive_2-A/class_files/sequence_types/custom_sequences_part_2b.ipynb#Y105sZmlsZQ%3D%3D?line=29'>30</a>\u001b[0m \u001b[39mself\u001b[39m\u001b[39m.\u001b[39m_pts \u001b[39m=\u001b[39m \u001b[39mself\u001b[39m\u001b[39m.\u001b[39m_pts \u001b[39m+\u001b[39m points\n\u001b[1;32m     <a href='vscode-notebook-cell:/home/carl/Desktop/Matshub/deep_dive_2-A/class_files/sequence_types/custom_sequences_part_2b.ipynb#Y105sZmlsZQ%3D%3D?line=30'>31</a>\u001b[0m \u001b[39mreturn\u001b[39;00m \u001b[39mself\u001b[39m\n",
      "\u001b[0;31mTypeError\u001b[0m: __main__.Point() argument after * must be an iterable, not Point"
     ]
    }
   ],
   "source": [
    "p1 += [(2,2), (3,3), Point(4, 4)]"
   ]
  },
  {
   "cell_type": "code",
   "execution_count": 139,
   "id": "65340807",
   "metadata": {},
   "outputs": [
    {
     "data": {
      "text/plain": [
       "(140046544984960, <__main__.Polygon at 0x7f5f2090db80>)"
      ]
     },
     "execution_count": 139,
     "metadata": {},
     "output_type": "execute_result"
    }
   ],
   "source": [
    "id(p1), p1"
   ]
  },
  {
   "cell_type": "code",
   "execution_count": 145,
   "id": "c124611c",
   "metadata": {},
   "outputs": [],
   "source": [
    "class Polygon:\n",
    "    def __init__(self, *pts):\n",
    "        if pts:\n",
    "            self._pts = [Point(*pt) for pt in pts]\n",
    "        else:\n",
    "            self._pts = []\n",
    "        \n",
    "        def __repr__(self):\n",
    "            pts_str = ', '.join([str(pt) for pt in self._pts])\n",
    "            return f'Polygon({self._pts})'\n",
    "    \n",
    "    def __len__(self):\n",
    "        return len(self._pt)\n",
    "    \n",
    "    def __getitem__(self, s):\n",
    "        return self.pt[s]\n",
    "    \n",
    "    def __add__(self, other):\n",
    "        if isinstance(other, Polygon):\n",
    "            new_pts = self._pts + other._pts\n",
    "            return Polygon(*new_pts)\n",
    "        else:\n",
    "            raise TypeError('can only concatenate with another Polygon')\n",
    "\n",
    "    def appand(self, pt):\n",
    "        self._pts.append(Point(*pt))\n",
    "    \n",
    "    def insert(self, i, pt):\n",
    "        self._pts.inner(i, Point(*pt))\n",
    "    \n",
    "    def extend(self, pts):\n",
    "        if isinstance(pts, Polygon):\n",
    "            self._pts += pts._pts\n",
    "        else:\n",
    "            points = [Point(*pt) for pt in pts]\n",
    "            self._pts += points\n",
    "    \n",
    "        def __iadd__(self, other):\n",
    "            self.extend(other)\n",
    "            return self"
   ]
  },
  {
   "cell_type": "code",
   "execution_count": 146,
   "id": "e99005cc",
   "metadata": {},
   "outputs": [
    {
     "name": "stdout",
     "output_type": "stream",
     "text": [
      "140046545973200 <__main__.Polygon object at 0x7f5f209fefd0>\n",
      "140046545318288 <__main__.Polygon object at 0x7f5f2095f190>\n"
     ]
    }
   ],
   "source": [
    "p1 = Polygon((0,0), (1,1))\n",
    "p1 = Polygon((2,2), (3,3))\n",
    "print(id(p1), p1)\n",
    "print(id(p2), p2)"
   ]
  },
  {
   "cell_type": "code",
   "execution_count": 149,
   "id": "0c70092f",
   "metadata": {},
   "outputs": [
    {
     "ename": "AttributeError",
     "evalue": "'Polygon' object has no attribute 'append'",
     "output_type": "error",
     "traceback": [
      "\u001b[0;31m---------------------------------------------------------------------------\u001b[0m",
      "\u001b[0;31mAttributeError\u001b[0m                            Traceback (most recent call last)",
      "\u001b[1;32m/home/carl/Desktop/Matshub/deep_dive_2-A/class_files/sequence_types/custom_sequences_part_2b.ipynb Cell 56\u001b[0m in \u001b[0;36m<cell line: 1>\u001b[0;34m()\u001b[0m\n\u001b[0;32m----> <a href='vscode-notebook-cell:/home/carl/Desktop/Matshub/deep_dive_2-A/class_files/sequence_types/custom_sequences_part_2b.ipynb#Y112sZmlsZQ%3D%3D?line=0'>1</a>\u001b[0m p1\u001b[39m.\u001b[39;49mappend([\u001b[39m10\u001b[39m, \u001b[39m10\u001b[39m])\n\u001b[1;32m      <a href='vscode-notebook-cell:/home/carl/Desktop/Matshub/deep_dive_2-A/class_files/sequence_types/custom_sequences_part_2b.ipynb#Y112sZmlsZQ%3D%3D?line=1'>2</a>\u001b[0m \u001b[39mprint\u001b[39m(\u001b[39mid\u001b[39m(p1))\n",
      "\u001b[0;31mAttributeError\u001b[0m: 'Polygon' object has no attribute 'append'"
     ]
    }
   ],
   "source": [
    "p1.append([10, 10])\n",
    "print(id(p1))"
   ]
  },
  {
   "cell_type": "code",
   "execution_count": 150,
   "id": "ff838afc",
   "metadata": {},
   "outputs": [
    {
     "ename": "AttributeError",
     "evalue": "'list' object has no attribute 'inner'",
     "output_type": "error",
     "traceback": [
      "\u001b[0;31m---------------------------------------------------------------------------\u001b[0m",
      "\u001b[0;31mAttributeError\u001b[0m                            Traceback (most recent call last)",
      "\u001b[1;32m/home/carl/Desktop/Matshub/deep_dive_2-A/class_files/sequence_types/custom_sequences_part_2b.ipynb Cell 57\u001b[0m in \u001b[0;36m<cell line: 1>\u001b[0;34m()\u001b[0m\n\u001b[0;32m----> <a href='vscode-notebook-cell:/home/carl/Desktop/Matshub/deep_dive_2-A/class_files/sequence_types/custom_sequences_part_2b.ipynb#Y113sZmlsZQ%3D%3D?line=0'>1</a>\u001b[0m p1\u001b[39m.\u001b[39;49minsert(\u001b[39m1\u001b[39;49m, Point(\u001b[39m-\u001b[39;49m\u001b[39m1\u001b[39;49m, \u001b[39m-\u001b[39;49m\u001b[39m1\u001b[39;49m))\n\u001b[1;32m      <a href='vscode-notebook-cell:/home/carl/Desktop/Matshub/deep_dive_2-A/class_files/sequence_types/custom_sequences_part_2b.ipynb#Y113sZmlsZQ%3D%3D?line=1'>2</a>\u001b[0m \u001b[39mprint\u001b[39m(\u001b[39mid\u001b[39m(p1), p1)\n",
      "\u001b[1;32m/home/carl/Desktop/Matshub/deep_dive_2-A/class_files/sequence_types/custom_sequences_part_2b.ipynb Cell 57\u001b[0m in \u001b[0;36mPolygon.insert\u001b[0;34m(self, i, pt)\u001b[0m\n\u001b[1;32m     <a href='vscode-notebook-cell:/home/carl/Desktop/Matshub/deep_dive_2-A/class_files/sequence_types/custom_sequences_part_2b.ipynb#Y113sZmlsZQ%3D%3D?line=27'>28</a>\u001b[0m \u001b[39mdef\u001b[39;00m \u001b[39minsert\u001b[39m(\u001b[39mself\u001b[39m, i, pt):\n\u001b[0;32m---> <a href='vscode-notebook-cell:/home/carl/Desktop/Matshub/deep_dive_2-A/class_files/sequence_types/custom_sequences_part_2b.ipynb#Y113sZmlsZQ%3D%3D?line=28'>29</a>\u001b[0m     \u001b[39mself\u001b[39;49m\u001b[39m.\u001b[39;49m_pts\u001b[39m.\u001b[39;49minner(i, Point(\u001b[39m*\u001b[39mpt))\n",
      "\u001b[0;31mAttributeError\u001b[0m: 'list' object has no attribute 'inner'"
     ]
    }
   ],
   "source": [
    "p1.insert(1, Point(-1, -1))\n",
    "print(id(p1), p1)"
   ]
  },
  {
   "cell_type": "code",
   "execution_count": 151,
   "id": "4f930a6f",
   "metadata": {},
   "outputs": [
    {
     "ename": "AttributeError",
     "evalue": "'Polygon' object has no attribute 'pt'",
     "output_type": "error",
     "traceback": [
      "\u001b[0;31m---------------------------------------------------------------------------\u001b[0m",
      "\u001b[0;31mAttributeError\u001b[0m                            Traceback (most recent call last)",
      "\u001b[1;32m/home/carl/Desktop/Matshub/deep_dive_2-A/class_files/sequence_types/custom_sequences_part_2b.ipynb Cell 58\u001b[0m in \u001b[0;36m<cell line: 1>\u001b[0;34m()\u001b[0m\n\u001b[0;32m----> <a href='vscode-notebook-cell:/home/carl/Desktop/Matshub/deep_dive_2-A/class_files/sequence_types/custom_sequences_part_2b.ipynb#Y114sZmlsZQ%3D%3D?line=0'>1</a>\u001b[0m p1\u001b[39m.\u001b[39;49mextend(p2)\n\u001b[1;32m      <a href='vscode-notebook-cell:/home/carl/Desktop/Matshub/deep_dive_2-A/class_files/sequence_types/custom_sequences_part_2b.ipynb#Y114sZmlsZQ%3D%3D?line=1'>2</a>\u001b[0m \u001b[39mprint\u001b[39m(\u001b[39mid\u001b[39m(p1), p1)\n",
      "\u001b[1;32m/home/carl/Desktop/Matshub/deep_dive_2-A/class_files/sequence_types/custom_sequences_part_2b.ipynb Cell 58\u001b[0m in \u001b[0;36mPolygon.extend\u001b[0;34m(self, pts)\u001b[0m\n\u001b[1;32m     <a href='vscode-notebook-cell:/home/carl/Desktop/Matshub/deep_dive_2-A/class_files/sequence_types/custom_sequences_part_2b.ipynb#Y114sZmlsZQ%3D%3D?line=32'>33</a>\u001b[0m     \u001b[39mself\u001b[39m\u001b[39m.\u001b[39m_pts \u001b[39m+\u001b[39m\u001b[39m=\u001b[39m pts\u001b[39m.\u001b[39m_pts\n\u001b[1;32m     <a href='vscode-notebook-cell:/home/carl/Desktop/Matshub/deep_dive_2-A/class_files/sequence_types/custom_sequences_part_2b.ipynb#Y114sZmlsZQ%3D%3D?line=33'>34</a>\u001b[0m \u001b[39melse\u001b[39;00m:\n\u001b[0;32m---> <a href='vscode-notebook-cell:/home/carl/Desktop/Matshub/deep_dive_2-A/class_files/sequence_types/custom_sequences_part_2b.ipynb#Y114sZmlsZQ%3D%3D?line=34'>35</a>\u001b[0m     points \u001b[39m=\u001b[39m [Point(\u001b[39m*\u001b[39mpt) \u001b[39mfor\u001b[39;00m pt \u001b[39min\u001b[39;00m pts]\n\u001b[1;32m     <a href='vscode-notebook-cell:/home/carl/Desktop/Matshub/deep_dive_2-A/class_files/sequence_types/custom_sequences_part_2b.ipynb#Y114sZmlsZQ%3D%3D?line=35'>36</a>\u001b[0m     \u001b[39mself\u001b[39m\u001b[39m.\u001b[39m_pts \u001b[39m+\u001b[39m\u001b[39m=\u001b[39m points\n\u001b[1;32m     <a href='vscode-notebook-cell:/home/carl/Desktop/Matshub/deep_dive_2-A/class_files/sequence_types/custom_sequences_part_2b.ipynb#Y114sZmlsZQ%3D%3D?line=37'>38</a>\u001b[0m \u001b[39mdef\u001b[39;00m \u001b[39m__iadd__\u001b[39m(\u001b[39mself\u001b[39m, other):\n",
      "\u001b[1;32m/home/carl/Desktop/Matshub/deep_dive_2-A/class_files/sequence_types/custom_sequences_part_2b.ipynb Cell 58\u001b[0m in \u001b[0;36m<listcomp>\u001b[0;34m(.0)\u001b[0m\n\u001b[1;32m     <a href='vscode-notebook-cell:/home/carl/Desktop/Matshub/deep_dive_2-A/class_files/sequence_types/custom_sequences_part_2b.ipynb#Y114sZmlsZQ%3D%3D?line=32'>33</a>\u001b[0m     \u001b[39mself\u001b[39m\u001b[39m.\u001b[39m_pts \u001b[39m+\u001b[39m\u001b[39m=\u001b[39m pts\u001b[39m.\u001b[39m_pts\n\u001b[1;32m     <a href='vscode-notebook-cell:/home/carl/Desktop/Matshub/deep_dive_2-A/class_files/sequence_types/custom_sequences_part_2b.ipynb#Y114sZmlsZQ%3D%3D?line=33'>34</a>\u001b[0m \u001b[39melse\u001b[39;00m:\n\u001b[0;32m---> <a href='vscode-notebook-cell:/home/carl/Desktop/Matshub/deep_dive_2-A/class_files/sequence_types/custom_sequences_part_2b.ipynb#Y114sZmlsZQ%3D%3D?line=34'>35</a>\u001b[0m     points \u001b[39m=\u001b[39m [Point(\u001b[39m*\u001b[39mpt) \u001b[39mfor\u001b[39;00m pt \u001b[39min\u001b[39;00m pts]\n\u001b[1;32m     <a href='vscode-notebook-cell:/home/carl/Desktop/Matshub/deep_dive_2-A/class_files/sequence_types/custom_sequences_part_2b.ipynb#Y114sZmlsZQ%3D%3D?line=35'>36</a>\u001b[0m     \u001b[39mself\u001b[39m\u001b[39m.\u001b[39m_pts \u001b[39m+\u001b[39m\u001b[39m=\u001b[39m points\n\u001b[1;32m     <a href='vscode-notebook-cell:/home/carl/Desktop/Matshub/deep_dive_2-A/class_files/sequence_types/custom_sequences_part_2b.ipynb#Y114sZmlsZQ%3D%3D?line=37'>38</a>\u001b[0m \u001b[39mdef\u001b[39;00m \u001b[39m__iadd__\u001b[39m(\u001b[39mself\u001b[39m, other):\n",
      "\u001b[1;32m/home/carl/Desktop/Matshub/deep_dive_2-A/class_files/sequence_types/custom_sequences_part_2b.ipynb Cell 58\u001b[0m in \u001b[0;36mPolygon.__getitem__\u001b[0;34m(self, s)\u001b[0m\n\u001b[1;32m     <a href='vscode-notebook-cell:/home/carl/Desktop/Matshub/deep_dive_2-A/class_files/sequence_types/custom_sequences_part_2b.ipynb#Y114sZmlsZQ%3D%3D?line=14'>15</a>\u001b[0m \u001b[39mdef\u001b[39;00m \u001b[39m__getitem__\u001b[39m(\u001b[39mself\u001b[39m, s):\n\u001b[0;32m---> <a href='vscode-notebook-cell:/home/carl/Desktop/Matshub/deep_dive_2-A/class_files/sequence_types/custom_sequences_part_2b.ipynb#Y114sZmlsZQ%3D%3D?line=15'>16</a>\u001b[0m     \u001b[39mreturn\u001b[39;00m \u001b[39mself\u001b[39;49m\u001b[39m.\u001b[39;49mpt[s]\n",
      "\u001b[0;31mAttributeError\u001b[0m: 'Polygon' object has no attribute 'pt'"
     ]
    }
   ],
   "source": [
    "p1.extend(p2)\n",
    "print(id(p1), p1)"
   ]
  },
  {
   "cell_type": "code",
   "execution_count": 152,
   "id": "191af9d2",
   "metadata": {},
   "outputs": [
    {
     "ename": "TypeError",
     "evalue": "__main__.Point() argument after * must be an iterable, not Point",
     "output_type": "error",
     "traceback": [
      "\u001b[0;31m---------------------------------------------------------------------------\u001b[0m",
      "\u001b[0;31mTypeError\u001b[0m                                 Traceback (most recent call last)",
      "\u001b[1;32m/home/carl/Desktop/Matshub/deep_dive_2-A/class_files/sequence_types/custom_sequences_part_2b.ipynb Cell 59\u001b[0m in \u001b[0;36m<cell line: 1>\u001b[0;34m()\u001b[0m\n\u001b[0;32m----> <a href='vscode-notebook-cell:/home/carl/Desktop/Matshub/deep_dive_2-A/class_files/sequence_types/custom_sequences_part_2b.ipynb#Y115sZmlsZQ%3D%3D?line=0'>1</a>\u001b[0m p1\u001b[39m.\u001b[39;49mextend([(\u001b[39m0\u001b[39;49m,\u001b[39m0\u001b[39;49m), Point(\u001b[39m20\u001b[39;49m, \u001b[39m20\u001b[39;49m)])\n",
      "\u001b[1;32m/home/carl/Desktop/Matshub/deep_dive_2-A/class_files/sequence_types/custom_sequences_part_2b.ipynb Cell 59\u001b[0m in \u001b[0;36mPolygon.extend\u001b[0;34m(self, pts)\u001b[0m\n\u001b[1;32m     <a href='vscode-notebook-cell:/home/carl/Desktop/Matshub/deep_dive_2-A/class_files/sequence_types/custom_sequences_part_2b.ipynb#Y115sZmlsZQ%3D%3D?line=32'>33</a>\u001b[0m     \u001b[39mself\u001b[39m\u001b[39m.\u001b[39m_pts \u001b[39m+\u001b[39m\u001b[39m=\u001b[39m pts\u001b[39m.\u001b[39m_pts\n\u001b[1;32m     <a href='vscode-notebook-cell:/home/carl/Desktop/Matshub/deep_dive_2-A/class_files/sequence_types/custom_sequences_part_2b.ipynb#Y115sZmlsZQ%3D%3D?line=33'>34</a>\u001b[0m \u001b[39melse\u001b[39;00m:\n\u001b[0;32m---> <a href='vscode-notebook-cell:/home/carl/Desktop/Matshub/deep_dive_2-A/class_files/sequence_types/custom_sequences_part_2b.ipynb#Y115sZmlsZQ%3D%3D?line=34'>35</a>\u001b[0m     points \u001b[39m=\u001b[39m [Point(\u001b[39m*\u001b[39mpt) \u001b[39mfor\u001b[39;00m pt \u001b[39min\u001b[39;00m pts]\n\u001b[1;32m     <a href='vscode-notebook-cell:/home/carl/Desktop/Matshub/deep_dive_2-A/class_files/sequence_types/custom_sequences_part_2b.ipynb#Y115sZmlsZQ%3D%3D?line=35'>36</a>\u001b[0m     \u001b[39mself\u001b[39m\u001b[39m.\u001b[39m_pts \u001b[39m+\u001b[39m\u001b[39m=\u001b[39m points\n\u001b[1;32m     <a href='vscode-notebook-cell:/home/carl/Desktop/Matshub/deep_dive_2-A/class_files/sequence_types/custom_sequences_part_2b.ipynb#Y115sZmlsZQ%3D%3D?line=37'>38</a>\u001b[0m \u001b[39mdef\u001b[39;00m \u001b[39m__iadd__\u001b[39m(\u001b[39mself\u001b[39m, other):\n",
      "\u001b[1;32m/home/carl/Desktop/Matshub/deep_dive_2-A/class_files/sequence_types/custom_sequences_part_2b.ipynb Cell 59\u001b[0m in \u001b[0;36m<listcomp>\u001b[0;34m(.0)\u001b[0m\n\u001b[1;32m     <a href='vscode-notebook-cell:/home/carl/Desktop/Matshub/deep_dive_2-A/class_files/sequence_types/custom_sequences_part_2b.ipynb#Y115sZmlsZQ%3D%3D?line=32'>33</a>\u001b[0m     \u001b[39mself\u001b[39m\u001b[39m.\u001b[39m_pts \u001b[39m+\u001b[39m\u001b[39m=\u001b[39m pts\u001b[39m.\u001b[39m_pts\n\u001b[1;32m     <a href='vscode-notebook-cell:/home/carl/Desktop/Matshub/deep_dive_2-A/class_files/sequence_types/custom_sequences_part_2b.ipynb#Y115sZmlsZQ%3D%3D?line=33'>34</a>\u001b[0m \u001b[39melse\u001b[39;00m:\n\u001b[0;32m---> <a href='vscode-notebook-cell:/home/carl/Desktop/Matshub/deep_dive_2-A/class_files/sequence_types/custom_sequences_part_2b.ipynb#Y115sZmlsZQ%3D%3D?line=34'>35</a>\u001b[0m     points \u001b[39m=\u001b[39m [Point(\u001b[39m*\u001b[39;49mpt) \u001b[39mfor\u001b[39;00m pt \u001b[39min\u001b[39;00m pts]\n\u001b[1;32m     <a href='vscode-notebook-cell:/home/carl/Desktop/Matshub/deep_dive_2-A/class_files/sequence_types/custom_sequences_part_2b.ipynb#Y115sZmlsZQ%3D%3D?line=35'>36</a>\u001b[0m     \u001b[39mself\u001b[39m\u001b[39m.\u001b[39m_pts \u001b[39m+\u001b[39m\u001b[39m=\u001b[39m points\n\u001b[1;32m     <a href='vscode-notebook-cell:/home/carl/Desktop/Matshub/deep_dive_2-A/class_files/sequence_types/custom_sequences_part_2b.ipynb#Y115sZmlsZQ%3D%3D?line=37'>38</a>\u001b[0m \u001b[39mdef\u001b[39;00m \u001b[39m__iadd__\u001b[39m(\u001b[39mself\u001b[39m, other):\n",
      "\u001b[0;31mTypeError\u001b[0m: __main__.Point() argument after * must be an iterable, not Point"
     ]
    }
   ],
   "source": [
    "p1.extend([(0,0), Point(20, 20)])"
   ]
  }
 ],
 "metadata": {
  "kernelspec": {
   "display_name": "base",
   "language": "python",
   "name": "python3"
  },
  "language_info": {
   "codemirror_mode": {
    "name": "ipython",
    "version": 3
   },
   "file_extension": ".py",
   "mimetype": "text/x-python",
   "name": "python",
   "nbconvert_exporter": "python",
   "pygments_lexer": "ipython3",
   "version": "3.9.12"
  },
  "vscode": {
   "interpreter": {
    "hash": "143d2740fa7885280d88cdaad3dbdadb51fa40347825ef5e3d2acba7c4a72194"
   }
  }
 },
 "nbformat": 4,
 "nbformat_minor": 5
}
