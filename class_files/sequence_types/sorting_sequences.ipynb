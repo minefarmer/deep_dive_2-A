{
 "cells": [
  {
   "cell_type": "markdown",
   "id": "d61dd697",
   "metadata": {},
   "source": [
    "                        Sorting Sequences"
   ]
  },
  {
   "cell_type": "code",
   "execution_count": 102,
   "id": "b7715490",
   "metadata": {},
   "outputs": [],
   "source": [
    "t = 10, 3, 5, 8, 9, 1"
   ]
  },
  {
   "cell_type": "code",
   "execution_count": 103,
   "id": "f9ac23a4",
   "metadata": {},
   "outputs": [
    {
     "data": {
      "text/plain": [
       "[1, 3, 5, 8, 9, 10]"
      ]
     },
     "execution_count": 103,
     "metadata": {},
     "output_type": "execute_result"
    }
   ],
   "source": [
    "sorted(t)"
   ]
  },
  {
   "cell_type": "code",
   "execution_count": 104,
   "id": "9d5cbc3e",
   "metadata": {},
   "outputs": [],
   "source": [
    "t = 1+1j, 10, 20"
   ]
  },
  {
   "cell_type": "code",
   "execution_count": 105,
   "id": "f54982c8",
   "metadata": {},
   "outputs": [
    {
     "ename": "TypeError",
     "evalue": "'<' not supported between instances of 'int' and 'complex'",
     "output_type": "error",
     "traceback": [
      "\u001b[0;31m---------------------------------------------------------------------------\u001b[0m",
      "\u001b[0;31mTypeError\u001b[0m                                 Traceback (most recent call last)",
      "\u001b[1;32m/home/carl/Desktop/Matshub/deep_dive_2-A/class_files/sequence_types/sorting_sequences.ipynb Cell 5\u001b[0m in \u001b[0;36m<cell line: 1>\u001b[0;34m()\u001b[0m\n\u001b[0;32m----> <a href='vscode-notebook-cell:/home/carl/Desktop/Matshub/deep_dive_2-A/class_files/sequence_types/sorting_sequences.ipynb#W4sZmlsZQ%3D%3D?line=0'>1</a>\u001b[0m \u001b[39msorted\u001b[39;49m(t)\n",
      "\u001b[0;31mTypeError\u001b[0m: '<' not supported between instances of 'int' and 'complex'"
     ]
    }
   ],
   "source": [
    "sorted(t)"
   ]
  },
  {
   "cell_type": "code",
   "execution_count": null,
   "id": "23e0fca3",
   "metadata": {},
   "outputs": [],
   "source": [
    "s = {10, 3, 5, 8, 9, 6, 1}"
   ]
  },
  {
   "cell_type": "code",
   "execution_count": null,
   "id": "2db2b952",
   "metadata": {},
   "outputs": [
    {
     "data": {
      "text/plain": [
       "[1, 3, 5, 6, 8, 9, 10]"
      ]
     },
     "execution_count": 6,
     "metadata": {},
     "output_type": "execute_result"
    }
   ],
   "source": [
    "sorted(s)"
   ]
  },
  {
   "cell_type": "code",
   "execution_count": null,
   "id": "7c47f350",
   "metadata": {},
   "outputs": [],
   "source": [
    "d = {3:100, 2:200, 1:10}"
   ]
  },
  {
   "cell_type": "code",
   "execution_count": null,
   "id": "750b31eb",
   "metadata": {},
   "outputs": [
    {
     "data": {
      "text/plain": [
       "[3, 2, 1]"
      ]
     },
     "execution_count": 8,
     "metadata": {},
     "output_type": "execute_result"
    }
   ],
   "source": [
    "list(d)"
   ]
  },
  {
   "cell_type": "code",
   "execution_count": null,
   "id": "10a2f2ce",
   "metadata": {},
   "outputs": [
    {
     "data": {
      "text/plain": [
       "[1, 2, 3]"
      ]
     },
     "execution_count": 9,
     "metadata": {},
     "output_type": "execute_result"
    }
   ],
   "source": [
    "sorted(d)"
   ]
  },
  {
   "cell_type": "code",
   "execution_count": null,
   "id": "b88c770e",
   "metadata": {},
   "outputs": [],
   "source": [
    "d = {'a': 100, 'b': 50, 'c': 10}"
   ]
  },
  {
   "cell_type": "code",
   "execution_count": null,
   "id": "36946e49",
   "metadata": {},
   "outputs": [
    {
     "data": {
      "text/plain": [
       "['a', 'b', 'c']"
      ]
     },
     "execution_count": 14,
     "metadata": {},
     "output_type": "execute_result"
    }
   ],
   "source": [
    "sorted(d)"
   ]
  },
  {
   "cell_type": "code",
   "execution_count": null,
   "id": "aacfe117",
   "metadata": {},
   "outputs": [
    {
     "data": {
      "text/plain": [
       "['c', 'b', 'a']"
      ]
     },
     "execution_count": 15,
     "metadata": {},
     "output_type": "execute_result"
    }
   ],
   "source": [
    "sorted(d, key=lambda k: d[k])"
   ]
  },
  {
   "cell_type": "code",
   "execution_count": null,
   "id": "7aae912e",
   "metadata": {},
   "outputs": [
    {
     "data": {
      "text/plain": [
       "100"
      ]
     },
     "execution_count": 16,
     "metadata": {},
     "output_type": "execute_result"
    }
   ],
   "source": [
    "d['a']"
   ]
  },
  {
   "cell_type": "code",
   "execution_count": null,
   "id": "b9d94019",
   "metadata": {},
   "outputs": [
    {
     "data": {
      "text/plain": [
       "50"
      ]
     },
     "execution_count": 17,
     "metadata": {},
     "output_type": "execute_result"
    }
   ],
   "source": [
    "d['b']"
   ]
  },
  {
   "cell_type": "code",
   "execution_count": null,
   "id": "1f7061b8",
   "metadata": {},
   "outputs": [
    {
     "data": {
      "text/plain": [
       "10"
      ]
     },
     "execution_count": 18,
     "metadata": {},
     "output_type": "execute_result"
    }
   ],
   "source": [
    "d['c']"
   ]
  },
  {
   "cell_type": "code",
   "execution_count": null,
   "id": "c382b7cf",
   "metadata": {},
   "outputs": [],
   "source": [
    "t = 'this', 'parrot', 'is', 'a', 'late', 'bird'"
   ]
  },
  {
   "cell_type": "code",
   "execution_count": null,
   "id": "bbd5dec7",
   "metadata": {},
   "outputs": [
    {
     "data": {
      "text/plain": [
       "['a', 'bird', 'is', 'late', 'parrot', 'this']"
      ]
     },
     "execution_count": 29,
     "metadata": {},
     "output_type": "execute_result"
    }
   ],
   "source": [
    "sorted(t)"
   ]
  },
  {
   "cell_type": "code",
   "execution_count": null,
   "id": "763dc9e0",
   "metadata": {},
   "outputs": [],
   "source": [
    "def sort_key(s):\n",
    "    return len(s)"
   ]
  },
  {
   "cell_type": "code",
   "execution_count": null,
   "id": "007e339f",
   "metadata": {},
   "outputs": [
    {
     "data": {
      "text/plain": [
       "['a', 'is', 'this', 'late', 'bird', 'parrot']"
      ]
     },
     "execution_count": 31,
     "metadata": {},
     "output_type": "execute_result"
    }
   ],
   "source": [
    "sorted(t, key=sort_key)"
   ]
  },
  {
   "cell_type": "code",
   "execution_count": null,
   "id": "f56b7890",
   "metadata": {},
   "outputs": [
    {
     "data": {
      "text/plain": [
       "['a', 'is', 'this', 'late', 'bird', 'parrot']"
      ]
     },
     "execution_count": 32,
     "metadata": {},
     "output_type": "execute_result"
    }
   ],
   "source": [
    "sorted(t, key=sort_key)"
   ]
  },
  {
   "cell_type": "code",
   "execution_count": null,
   "id": "d17bc0fc",
   "metadata": {},
   "outputs": [
    {
     "data": {
      "text/plain": [
       "['a', 'is', 'this', 'late', 'bird', 'parrot']"
      ]
     },
     "execution_count": 33,
     "metadata": {},
     "output_type": "execute_result"
    }
   ],
   "source": [
    "sorted(t, key=lambda s: len(s))"
   ]
  },
  {
   "cell_type": "code",
   "execution_count": null,
   "id": "d9be2ba4",
   "metadata": {},
   "outputs": [],
   "source": [
    "t ='aaaa', 'bbbb', 'cccc', 'dddd', 'e'*4"
   ]
  },
  {
   "cell_type": "code",
   "execution_count": null,
   "id": "e87e0111",
   "metadata": {},
   "outputs": [
    {
     "data": {
      "text/plain": [
       "('aaaa', 'bbbb', 'cccc', 'dddd', 'eeee')"
      ]
     },
     "execution_count": 36,
     "metadata": {},
     "output_type": "execute_result"
    }
   ],
   "source": [
    "t"
   ]
  },
  {
   "cell_type": "code",
   "execution_count": null,
   "id": "351dd015",
   "metadata": {},
   "outputs": [
    {
     "data": {
      "text/plain": [
       "['aaaa', 'bbbb', 'cccc', 'dddd', 'eeee']"
      ]
     },
     "execution_count": 37,
     "metadata": {},
     "output_type": "execute_result"
    }
   ],
   "source": [
    "sorted(t, key=lambda s: len(s))"
   ]
  },
  {
   "cell_type": "code",
   "execution_count": null,
   "id": "df328e51",
   "metadata": {},
   "outputs": [],
   "source": [
    "t = 1+1j, 2+2j, 3+3j"
   ]
  },
  {
   "cell_type": "code",
   "execution_count": null,
   "id": "7d2b0962",
   "metadata": {},
   "outputs": [
    {
     "ename": "TypeError",
     "evalue": "'<' not supported between instances of 'complex' and 'complex'",
     "output_type": "error",
     "traceback": [
      "\u001b[0;31m---------------------------------------------------------------------------\u001b[0m",
      "\u001b[0;31mTypeError\u001b[0m                                 Traceback (most recent call last)",
      "\u001b[1;32m/home/carl/Desktop/Matshub/deep_dive_2-A/class_files/sequence_types/sorting_sequences.ipynb Cell 27\u001b[0m in \u001b[0;36m<cell line: 1>\u001b[0;34m()\u001b[0m\n\u001b[0;32m----> <a href='vscode-notebook-cell:/home/carl/Desktop/Matshub/deep_dive_2-A/class_files/sequence_types/sorting_sequences.ipynb#X35sZmlsZQ%3D%3D?line=0'>1</a>\u001b[0m \u001b[39msorted\u001b[39;49m(t)\n",
      "\u001b[0;31mTypeError\u001b[0m: '<' not supported between instances of 'complex' and 'complex'"
     ]
    }
   ],
   "source": [
    "sorted(t)"
   ]
  },
  {
   "cell_type": "code",
   "execution_count": null,
   "id": "43472774",
   "metadata": {},
   "outputs": [
    {
     "data": {
      "text/plain": [
       "1.4142135623730951"
      ]
     },
     "execution_count": 40,
     "metadata": {},
     "output_type": "execute_result"
    }
   ],
   "source": [
    "abs(1+1j)"
   ]
  },
  {
   "cell_type": "code",
   "execution_count": null,
   "id": "68e28862",
   "metadata": {},
   "outputs": [],
   "source": [
    "t = 0, 10+10j, 3-3j, 4+4j, 5-2j"
   ]
  },
  {
   "cell_type": "code",
   "execution_count": null,
   "id": "7d91839c",
   "metadata": {},
   "outputs": [
    {
     "data": {
      "text/plain": [
       "[0, (3-3j), (5-2j), (4+4j), (10+10j)]"
      ]
     },
     "execution_count": 43,
     "metadata": {},
     "output_type": "execute_result"
    }
   ],
   "source": [
    "sorted(t, key=abs)"
   ]
  },
  {
   "cell_type": "code",
   "execution_count": null,
   "id": "5e13ecfe",
   "metadata": {},
   "outputs": [
    {
     "data": {
      "text/plain": [
       "[(3-3j), (5-2j), 0, (4+4j), (10+10j)]"
      ]
     },
     "execution_count": 44,
     "metadata": {},
     "output_type": "execute_result"
    }
   ],
   "source": [
    "sorted(t, key=lambda c: c.imag)"
   ]
  },
  {
   "cell_type": "code",
   "execution_count": null,
   "id": "9e529276",
   "metadata": {},
   "outputs": [
    {
     "data": {
      "text/plain": [
       "[(10+10j), (4+4j), 0, (5-2j), (3-3j)]"
      ]
     },
     "execution_count": 45,
     "metadata": {},
     "output_type": "execute_result"
    }
   ],
   "source": [
    "sorted(t, key=lambda c: c.imag, reverse=True)"
   ]
  },
  {
   "cell_type": "code",
   "execution_count": null,
   "id": "3b161b5c",
   "metadata": {},
   "outputs": [],
   "source": [
    "t = 'this', 'parrot', 'is', 'a', 'late', 'bird'"
   ]
  },
  {
   "cell_type": "code",
   "execution_count": null,
   "id": "62f6316e",
   "metadata": {},
   "outputs": [
    {
     "data": {
      "text/plain": [
       "['this', 'parrot', 'late', 'is', 'bird', 'a']"
      ]
     },
     "execution_count": 47,
     "metadata": {},
     "output_type": "execute_result"
    }
   ],
   "source": [
    "sorted(t, reverse=True)"
   ]
  },
  {
   "cell_type": "code",
   "execution_count": null,
   "id": "e88c4102",
   "metadata": {},
   "outputs": [
    {
     "data": {
      "text/plain": [
       "['a', 'is', 'this', 'late', 'bird', 'parrot']"
      ]
     },
     "execution_count": 48,
     "metadata": {},
     "output_type": "execute_result"
    }
   ],
   "source": [
    "sorted(t, key=lambda s: len(s))"
   ]
  },
  {
   "cell_type": "code",
   "execution_count": null,
   "id": "e85d25c3",
   "metadata": {},
   "outputs": [
    {
     "data": {
      "text/plain": [
       "['parrot', 'this', 'late', 'bird', 'is', 'a']"
      ]
     },
     "execution_count": 49,
     "metadata": {},
     "output_type": "execute_result"
    }
   ],
   "source": [
    "sorted(t, key=lambda s: len(s), reverse=True)"
   ]
  },
  {
   "cell_type": "code",
   "execution_count": null,
   "id": "3e36af37",
   "metadata": {},
   "outputs": [
    {
     "data": {
      "text/plain": [
       "['parrot', 'this', 'late', 'bird', 'is', 'a']"
      ]
     },
     "execution_count": 50,
     "metadata": {},
     "output_type": "execute_result"
    }
   ],
   "source": [
    "sorted(t, key=lambda s: -len(s))"
   ]
  },
  {
   "cell_type": "code",
   "execution_count": null,
   "id": "748915da",
   "metadata": {},
   "outputs": [],
   "source": [
    "l = ['this', 'bird', 'is', 'a', 'parrot']"
   ]
  },
  {
   "cell_type": "code",
   "execution_count": null,
   "id": "979d65b6",
   "metadata": {},
   "outputs": [],
   "source": [
    "l = 'this bird is a late parrot'.split(\" \")"
   ]
  },
  {
   "cell_type": "code",
   "execution_count": null,
   "id": "5364057a",
   "metadata": {},
   "outputs": [
    {
     "data": {
      "text/plain": [
       "['this', 'bird', 'is', 'a', 'late', 'parrot']"
      ]
     },
     "execution_count": 54,
     "metadata": {},
     "output_type": "execute_result"
    }
   ],
   "source": [
    "l"
   ]
  },
  {
   "cell_type": "code",
   "execution_count": null,
   "id": "585de5f3",
   "metadata": {},
   "outputs": [
    {
     "data": {
      "text/plain": [
       "['a', 'is', 'this', 'bird', 'late', 'parrot']"
      ]
     },
     "execution_count": 55,
     "metadata": {},
     "output_type": "execute_result"
    }
   ],
   "source": [
    "sorted(l, key=lambda s: len(s))"
   ]
  },
  {
   "cell_type": "code",
   "execution_count": null,
   "id": "57e26c7c",
   "metadata": {},
   "outputs": [
    {
     "data": {
      "text/plain": [
       "['this', 'bird', 'is', 'a', 'late', 'parrot']"
      ]
     },
     "execution_count": 56,
     "metadata": {},
     "output_type": "execute_result"
    }
   ],
   "source": [
    "l"
   ]
  },
  {
   "cell_type": "code",
   "execution_count": null,
   "id": "c5c2b30e",
   "metadata": {},
   "outputs": [],
   "source": [
    "result = l.sort(key=lambda s:len(s))"
   ]
  },
  {
   "cell_type": "code",
   "execution_count": null,
   "id": "09b69527",
   "metadata": {},
   "outputs": [],
   "source": [
    "result"
   ]
  },
  {
   "cell_type": "code",
   "execution_count": null,
   "id": "799e199e",
   "metadata": {},
   "outputs": [
    {
     "data": {
      "text/plain": [
       "NoneType"
      ]
     },
     "execution_count": 59,
     "metadata": {},
     "output_type": "execute_result"
    }
   ],
   "source": [
    "type(result)"
   ]
  },
  {
   "cell_type": "code",
   "execution_count": null,
   "id": "a73d2e5c",
   "metadata": {},
   "outputs": [
    {
     "data": {
      "text/plain": [
       "['a', 'is', 'this', 'bird', 'late', 'parrot']"
      ]
     },
     "execution_count": 60,
     "metadata": {},
     "output_type": "execute_result"
    }
   ],
   "source": [
    "l"
   ]
  },
  {
   "cell_type": "code",
   "execution_count": null,
   "id": "35dcc546",
   "metadata": {},
   "outputs": [],
   "source": [
    "from timeit import timeit\n",
    "import random"
   ]
  },
  {
   "cell_type": "code",
   "execution_count": null,
   "id": "330ebf0b",
   "metadata": {},
   "outputs": [],
   "source": [
    "random.seed(0)\n",
    "n = 10_000_000\n",
    "l = [random.randint(0, 100) for n in range(n)]"
   ]
  },
  {
   "cell_type": "code",
   "execution_count": null,
   "id": "e009dd34",
   "metadata": {},
   "outputs": [
    {
     "data": {
      "text/plain": [
       "[49, 97, 53, 5, 33, 65, 62, 51, 100, 38]"
      ]
     },
     "execution_count": 65,
     "metadata": {},
     "output_type": "execute_result"
    }
   ],
   "source": [
    "l[0:10]"
   ]
  },
  {
   "cell_type": "code",
   "execution_count": null,
   "id": "94ff9a06",
   "metadata": {},
   "outputs": [
    {
     "data": {
      "text/plain": [
       "0.9105191390008258"
      ]
     },
     "execution_count": 66,
     "metadata": {},
     "output_type": "execute_result"
    }
   ],
   "source": [
    "timeit(stmt='sorted(l)', globals=globals(), number=1)"
   ]
  },
  {
   "cell_type": "code",
   "execution_count": null,
   "id": "42f3f861",
   "metadata": {},
   "outputs": [
    {
     "data": {
      "text/plain": [
       "0.08004921000247123"
      ]
     },
     "execution_count": 78,
     "metadata": {},
     "output_type": "execute_result"
    }
   ],
   "source": [
    "timeit(stmt='l.sort()',globals=globals(), number=1)"
   ]
  },
  {
   "cell_type": "code",
   "execution_count": null,
   "id": "dfc2ff61",
   "metadata": {},
   "outputs": [
    {
     "data": {
      "text/plain": [
       "[0, 0, 0, 0, 0, 0, 0, 0, 0, 0, 0, 0, 0, 0, 0, 0, 0, 0, 0, 0]"
      ]
     },
     "execution_count": 79,
     "metadata": {},
     "output_type": "execute_result"
    }
   ],
   "source": [
    "l[300:320]"
   ]
  },
  {
   "cell_type": "code",
   "execution_count": null,
   "id": "c02553e0",
   "metadata": {},
   "outputs": [
    {
     "data": {
      "text/plain": [
       "[50, 50, 50, 50, 50, 50, 50, 50, 50, 50]"
      ]
     },
     "execution_count": 80,
     "metadata": {},
     "output_type": "execute_result"
    }
   ],
   "source": [
    "l[5_000_000:5_000_010]"
   ]
  },
  {
   "cell_type": "code",
   "execution_count": null,
   "id": "813c55d7",
   "metadata": {},
   "outputs": [
    {
     "data": {
      "text/plain": [
       "0.06328815500091878"
      ]
     },
     "execution_count": 81,
     "metadata": {},
     "output_type": "execute_result"
    }
   ],
   "source": [
    "timeit(stmt='l.sort()',globals=globals(), number=1)"
   ]
  },
  {
   "cell_type": "code",
   "execution_count": null,
   "id": "c46cf5db",
   "metadata": {},
   "outputs": [],
   "source": [
    "class MyClass:\n",
    "    def __init__(self, name, val):\n",
    "        self.name = name\n",
    "        self.val = val\n",
    "    \n",
    "    def __repr__(self):\n",
    "        return f'MyClass({self.name}, {self.val})'\n",
    "    \n",
    "    def __gt__(self, other):\n",
    "        return self.val > other.val\n",
    "    \n",
    "    def __lt__(self, other):\n",
    "        print('calling __lt__')\n",
    "        return self.val < other.val"
   ]
  },
  {
   "cell_type": "code",
   "execution_count": null,
   "id": "c6074d80",
   "metadata": {},
   "outputs": [],
   "source": [
    "c1 = MyClass('c1', 20)\n",
    "c2 = MyClass('c2', 10)\n",
    "c3 = MyClass('c3', 2)\n",
    "c4 = MyClass('c4', 10)"
   ]
  },
  {
   "cell_type": "code",
   "execution_count": null,
   "id": "07a372d5",
   "metadata": {},
   "outputs": [
    {
     "name": "stdout",
     "output_type": "stream",
     "text": [
      "calling __lt__\n"
     ]
    },
    {
     "data": {
      "text/plain": [
       "False"
      ]
     },
     "execution_count": 89,
     "metadata": {},
     "output_type": "execute_result"
    }
   ],
   "source": [
    "c1 < c2"
   ]
  },
  {
   "cell_type": "code",
   "execution_count": null,
   "id": "cc520797",
   "metadata": {},
   "outputs": [
    {
     "name": "stdout",
     "output_type": "stream",
     "text": [
      "calling __lt__\n"
     ]
    },
    {
     "data": {
      "text/plain": [
       "False"
      ]
     },
     "execution_count": 90,
     "metadata": {},
     "output_type": "execute_result"
    }
   ],
   "source": [
    "c1 < c2"
   ]
  },
  {
   "cell_type": "code",
   "execution_count": null,
   "id": "000ccc1e",
   "metadata": {},
   "outputs": [
    {
     "name": "stdout",
     "output_type": "stream",
     "text": [
      "calling __lt__\n",
      "calling __lt__\n",
      "calling __lt__\n",
      "calling __lt__\n",
      "calling __lt__\n"
     ]
    },
    {
     "data": {
      "text/plain": [
       "[MyClass(c3, 2), MyClass(c2, 10), MyClass(c4, 10), MyClass(c1, 20)]"
      ]
     },
     "execution_count": 91,
     "metadata": {},
     "output_type": "execute_result"
    }
   ],
   "source": [
    "sorted([c1, c2, c3, c4])"
   ]
  },
  {
   "cell_type": "code",
   "execution_count": null,
   "id": "db7ce901",
   "metadata": {},
   "outputs": [],
   "source": [
    "l = [c4, c2, c3, c1]"
   ]
  },
  {
   "cell_type": "code",
   "execution_count": null,
   "id": "0baee134",
   "metadata": {},
   "outputs": [
    {
     "data": {
      "text/plain": [
       "[MyClass(c4, 10), MyClass(c2, 10), MyClass(c3, 2), MyClass(c1, 20)]"
      ]
     },
     "execution_count": 93,
     "metadata": {},
     "output_type": "execute_result"
    }
   ],
   "source": [
    "l"
   ]
  },
  {
   "cell_type": "code",
   "execution_count": null,
   "id": "d27f92fc",
   "metadata": {},
   "outputs": [
    {
     "data": {
      "text/plain": [
       "[MyClass(c1, 20), MyClass(c2, 10), MyClass(c3, 2), MyClass(c4, 10)]"
      ]
     },
     "execution_count": 94,
     "metadata": {},
     "output_type": "execute_result"
    }
   ],
   "source": [
    "sorted(l, key=lambda c: c.name)"
   ]
  },
  {
   "cell_type": "code",
   "execution_count": null,
   "id": "f6b63eb0",
   "metadata": {},
   "outputs": [],
   "source": [
    "c1 = MyClass('c1', 20)\n",
    "c2 = MyClass('c2', 10)\n",
    "c3 = MyClass('c3', 20)\n",
    "c4 = MyClass('c4', 10)"
   ]
  },
  {
   "cell_type": "code",
   "execution_count": null,
   "id": "c581311f",
   "metadata": {},
   "outputs": [],
   "source": [
    "l = [c4, c2, c3, c1]"
   ]
  },
  {
   "cell_type": "code",
   "execution_count": null,
   "id": "d3e92eb8",
   "metadata": {},
   "outputs": [
    {
     "data": {
      "text/plain": [
       "[MyClass(c4, 10), MyClass(c2, 10), MyClass(c3, 20), MyClass(c1, 20)]"
      ]
     },
     "execution_count": 99,
     "metadata": {},
     "output_type": "execute_result"
    }
   ],
   "source": [
    "sorted(l, key=lambda c: c.val)"
   ]
  }
 ],
 "metadata": {
  "kernelspec": {
   "display_name": "base",
   "language": "python",
   "name": "python3"
  },
  "language_info": {
   "codemirror_mode": {
    "name": "ipython",
    "version": 3
   },
   "file_extension": ".py",
   "mimetype": "text/x-python",
   "name": "python",
   "nbconvert_exporter": "python",
   "pygments_lexer": "ipython3",
   "version": "3.9.12"
  },
  "vscode": {
   "interpreter": {
    "hash": "143d2740fa7885280d88cdaad3dbdadb51fa40347825ef5e3d2acba7c4a72194"
   }
  }
 },
 "nbformat": 4,
 "nbformat_minor": 5
}
