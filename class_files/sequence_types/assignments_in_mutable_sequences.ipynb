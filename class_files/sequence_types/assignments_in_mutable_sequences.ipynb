{
 "cells": [
  {
   "cell_type": "markdown",
   "id": "b5359afa",
   "metadata": {},
   "source": [
    "                        Assignments in Mutable Sequences"
   ]
  },
  {
   "cell_type": "code",
   "execution_count": 1,
   "id": "8025c855",
   "metadata": {},
   "outputs": [
    {
     "name": "stdout",
     "output_type": "stream",
     "text": [
      "1843717443136\n"
     ]
    }
   ],
   "source": [
    "l = [1, 2, 3, 4, 5]\n",
    "print(id(l))"
   ]
  },
  {
   "cell_type": "code",
   "execution_count": 6,
   "id": "cc86b7a0",
   "metadata": {},
   "outputs": [],
   "source": [
    "l[0:3] = 'python'"
   ]
  },
  {
   "cell_type": "code",
   "execution_count": 7,
   "id": "6fc41344",
   "metadata": {},
   "outputs": [
    {
     "name": "stdout",
     "output_type": "stream",
     "text": [
      "<built-in function id>\n"
     ]
    },
    {
     "data": {
      "text/plain": [
       "(None, ['p', 'y', 't', 'h', 'o', 'n', 4, 5])"
      ]
     },
     "execution_count": 7,
     "metadata": {},
     "output_type": "execute_result"
    }
   ],
   "source": [
    "print(id), l"
   ]
  },
  {
   "cell_type": "code",
   "execution_count": 8,
   "id": "7d2cf402",
   "metadata": {},
   "outputs": [
    {
     "name": "stdout",
     "output_type": "stream",
     "text": [
      "1843717443136 ['p', 'y', 't', 'h', 'o', 'n', 4, 5]\n"
     ]
    }
   ],
   "source": [
    "print(id(l), l)"
   ]
  },
  {
   "cell_type": "code",
   "execution_count": 10,
   "id": "23b5f957",
   "metadata": {},
   "outputs": [
    {
     "name": "stdout",
     "output_type": "stream",
     "text": [
      "1843721053376\n"
     ]
    }
   ],
   "source": [
    "l = [1, 2, 3, 4, 5]\n",
    "print(id(l))"
   ]
  },
  {
   "cell_type": "code",
   "execution_count": 11,
   "id": "b62544d9",
   "metadata": {},
   "outputs": [
    {
     "data": {
      "text/plain": [
       "[3, 4, 5]"
      ]
     },
     "execution_count": 11,
     "metadata": {},
     "output_type": "execute_result"
    }
   ],
   "source": [
    "l[2:5]"
   ]
  },
  {
   "cell_type": "code",
   "execution_count": 12,
   "id": "65c13146",
   "metadata": {},
   "outputs": [],
   "source": [
    "l[2:5] = []"
   ]
  },
  {
   "cell_type": "code",
   "execution_count": 13,
   "id": "9fb64e4c",
   "metadata": {},
   "outputs": [
    {
     "name": "stdout",
     "output_type": "stream",
     "text": [
      "1843721053376 [1, 2]\n"
     ]
    }
   ],
   "source": [
    "print(id(l), l)"
   ]
  },
  {
   "cell_type": "code",
   "execution_count": 14,
   "id": "c6c997db",
   "metadata": {},
   "outputs": [
    {
     "name": "stdout",
     "output_type": "stream",
     "text": [
      "1843720068864\n"
     ]
    }
   ],
   "source": [
    "l = [1, 2, 3, 4, 5]\n",
    "print(id(l))"
   ]
  },
  {
   "cell_type": "code",
   "execution_count": 15,
   "id": "dbb2957a",
   "metadata": {},
   "outputs": [],
   "source": [
    "l[2:5] = ''"
   ]
  },
  {
   "cell_type": "code",
   "execution_count": 16,
   "id": "9c40b12d",
   "metadata": {},
   "outputs": [
    {
     "name": "stdout",
     "output_type": "stream",
     "text": [
      "1843720068864 [1, 2]\n"
     ]
    }
   ],
   "source": [
    "print(id(l), l)"
   ]
  },
  {
   "cell_type": "code",
   "execution_count": 17,
   "id": "0bf3c7da",
   "metadata": {},
   "outputs": [
    {
     "data": {
      "text/plain": [
       "0"
      ]
     },
     "execution_count": 17,
     "metadata": {},
     "output_type": "execute_result"
    }
   ],
   "source": [
    "len('')\n"
   ]
  },
  {
   "cell_type": "code",
   "execution_count": 19,
   "id": "9fa42483",
   "metadata": {},
   "outputs": [
    {
     "name": "stdout",
     "output_type": "stream",
     "text": [
      "1843721152064\n"
     ]
    }
   ],
   "source": [
    "l = [1, 2, 3, 4, 5]\n",
    "print(id(l))"
   ]
  },
  {
   "cell_type": "code",
   "execution_count": 20,
   "id": "24398618",
   "metadata": {},
   "outputs": [
    {
     "data": {
      "text/plain": [
       "[]"
      ]
     },
     "execution_count": 20,
     "metadata": {},
     "output_type": "execute_result"
    }
   ],
   "source": [
    "l[2:2]"
   ]
  },
  {
   "cell_type": "code",
   "execution_count": 21,
   "id": "f282e423",
   "metadata": {},
   "outputs": [],
   "source": [
    "s = slice(2, 2)"
   ]
  },
  {
   "cell_type": "code",
   "execution_count": 22,
   "id": "cfc6e57c",
   "metadata": {},
   "outputs": [
    {
     "data": {
      "text/plain": [
       "[]"
      ]
     },
     "execution_count": 22,
     "metadata": {},
     "output_type": "execute_result"
    }
   ],
   "source": [
    "l[s]"
   ]
  },
  {
   "cell_type": "code",
   "execution_count": 23,
   "id": "e8a91050",
   "metadata": {},
   "outputs": [
    {
     "data": {
      "text/plain": [
       "(2, 2)"
      ]
     },
     "execution_count": 23,
     "metadata": {},
     "output_type": "execute_result"
    }
   ],
   "source": [
    "s.start, s.stop"
   ]
  },
  {
   "cell_type": "code",
   "execution_count": 25,
   "id": "3788e001",
   "metadata": {},
   "outputs": [],
   "source": [
    "l[2:2] = ('a', 100, 500)"
   ]
  },
  {
   "cell_type": "code",
   "execution_count": 26,
   "id": "c1c9d5d8",
   "metadata": {},
   "outputs": [
    {
     "name": "stdout",
     "output_type": "stream",
     "text": [
      "1843721152064 [1, 2, 'a', 100, 500, 3, 4, 5]\n"
     ]
    }
   ],
   "source": [
    "print(id(l), l)"
   ]
  },
  {
   "cell_type": "code",
   "execution_count": 27,
   "id": "3bd61cfb",
   "metadata": {},
   "outputs": [],
   "source": [
    "t = (1, 2, 3, 4, 5)"
   ]
  },
  {
   "cell_type": "code",
   "execution_count": 28,
   "id": "4328ca6c",
   "metadata": {},
   "outputs": [
    {
     "data": {
      "text/plain": [
       "(1, 2, 3)"
      ]
     },
     "execution_count": 28,
     "metadata": {},
     "output_type": "execute_result"
    }
   ],
   "source": [
    "t[0:3]"
   ]
  },
  {
   "cell_type": "code",
   "execution_count": 29,
   "id": "438e824e",
   "metadata": {},
   "outputs": [
    {
     "ename": "TypeError",
     "evalue": "'tuple' object does not support item assignment",
     "output_type": "error",
     "traceback": [
      "\u001b[1;31m---------------------------------------------------------------------------\u001b[0m",
      "\u001b[1;31mTypeError\u001b[0m                                 Traceback (most recent call last)",
      "\u001b[1;32mC:\\Users\\RICHMA~1\\AppData\\Local\\Temp/ipykernel_20648/4266353049.py\u001b[0m in \u001b[0;36m<module>\u001b[1;34m\u001b[0m\n\u001b[1;32m----> 1\u001b[1;33m \u001b[0mt\u001b[0m\u001b[1;33m[\u001b[0m\u001b[1;36m0\u001b[0m\u001b[1;33m:\u001b[0m\u001b[1;36m3\u001b[0m\u001b[1;33m]\u001b[0m \u001b[1;33m=\u001b[0m \u001b[1;33m[\u001b[0m\u001b[1;34m'a'\u001b[0m\u001b[1;33m,\u001b[0m \u001b[1;34m'b'\u001b[0m\u001b[1;33m,\u001b[0m \u001b[1;34m'c'\u001b[0m\u001b[1;33m]\u001b[0m\u001b[1;33m\u001b[0m\u001b[1;33m\u001b[0m\u001b[0m\n\u001b[0m",
      "\u001b[1;31mTypeError\u001b[0m: 'tuple' object does not support item assignment"
     ]
    }
   ],
   "source": [
    "t[0:3] = ['a', 'b', 'c']"
   ]
  },
  {
   "cell_type": "code",
   "execution_count": 30,
   "id": "d5e6120e",
   "metadata": {},
   "outputs": [
    {
     "ename": "TypeError",
     "evalue": "'tuple' object does not support item assignment",
     "output_type": "error",
     "traceback": [
      "\u001b[1;31m---------------------------------------------------------------------------\u001b[0m",
      "\u001b[1;31mTypeError\u001b[0m                                 Traceback (most recent call last)",
      "\u001b[1;32mC:\\Users\\RICHMA~1\\AppData\\Local\\Temp/ipykernel_20648/3601607370.py\u001b[0m in \u001b[0;36m<module>\u001b[1;34m\u001b[0m\n\u001b[1;32m----> 1\u001b[1;33m \u001b[0mt\u001b[0m\u001b[1;33m[\u001b[0m\u001b[1;36m0\u001b[0m\u001b[1;33m]\u001b[0m \u001b[1;33m=\u001b[0m \u001b[1;34m'a'\u001b[0m\u001b[1;33m\u001b[0m\u001b[1;33m\u001b[0m\u001b[0m\n\u001b[0m",
      "\u001b[1;31mTypeError\u001b[0m: 'tuple' object does not support item assignment"
     ]
    }
   ],
   "source": [
    "t[0] = 'a'"
   ]
  },
  {
   "cell_type": "code",
   "execution_count": 31,
   "id": "04c597ea",
   "metadata": {},
   "outputs": [
    {
     "data": {
      "text/plain": [
       "[1, 2, 'a', 100, 500, 3, 4, 5]"
      ]
     },
     "execution_count": 31,
     "metadata": {},
     "output_type": "execute_result"
    }
   ],
   "source": [
    "l"
   ]
  },
  {
   "cell_type": "code",
   "execution_count": 32,
   "id": "a1a2a068",
   "metadata": {},
   "outputs": [
    {
     "data": {
      "text/plain": [
       "1"
      ]
     },
     "execution_count": 32,
     "metadata": {},
     "output_type": "execute_result"
    }
   ],
   "source": [
    "l[0]"
   ]
  },
  {
   "cell_type": "code",
   "execution_count": 34,
   "id": "1a8f3d79",
   "metadata": {},
   "outputs": [
    {
     "name": "stdout",
     "output_type": "stream",
     "text": [
      "1843721301056\n"
     ]
    }
   ],
   "source": [
    "l = [1, 2, 3, 4, 5]\n",
    "print(id(l))"
   ]
  },
  {
   "cell_type": "code",
   "execution_count": 36,
   "id": "36447573",
   "metadata": {},
   "outputs": [
    {
     "data": {
      "text/plain": [
       "[1, 2, 3]"
      ]
     },
     "execution_count": 36,
     "metadata": {},
     "output_type": "execute_result"
    }
   ],
   "source": [
    "l[0:3]"
   ]
  },
  {
   "cell_type": "code",
   "execution_count": 37,
   "id": "c0449827",
   "metadata": {},
   "outputs": [],
   "source": [
    "l[0:3] = {100, 'X', 'a'}"
   ]
  },
  {
   "cell_type": "code",
   "execution_count": 38,
   "id": "7ca2e314",
   "metadata": {},
   "outputs": [
    {
     "name": "stdout",
     "output_type": "stream",
     "text": [
      "1843721301056 ['X', 100, 'a', 4, 5]\n"
     ]
    }
   ],
   "source": [
    "print(id(l), l)"
   ]
  },
  {
   "cell_type": "code",
   "execution_count": 39,
   "id": "502ad199",
   "metadata": {},
   "outputs": [],
   "source": [
    "### Extended Slices"
   ]
  },
  {
   "cell_type": "code",
   "execution_count": 40,
   "id": "820da3d2",
   "metadata": {},
   "outputs": [
    {
     "name": "stdout",
     "output_type": "stream",
     "text": [
      "1843721015616\n"
     ]
    }
   ],
   "source": [
    "l = [1, 2, 3, 4, 5]\n",
    "print(id(l))"
   ]
  },
  {
   "cell_type": "code",
   "execution_count": 41,
   "id": "8902d08a",
   "metadata": {},
   "outputs": [
    {
     "data": {
      "text/plain": [
       "[1, 3, 5]"
      ]
     },
     "execution_count": 41,
     "metadata": {},
     "output_type": "execute_result"
    }
   ],
   "source": [
    "l[0:5:2]"
   ]
  },
  {
   "cell_type": "code",
   "execution_count": 43,
   "id": "9584f12c",
   "metadata": {},
   "outputs": [],
   "source": [
    "l[0:5:2] = 'abc'"
   ]
  },
  {
   "cell_type": "code",
   "execution_count": 44,
   "id": "c8a05036",
   "metadata": {},
   "outputs": [
    {
     "name": "stdout",
     "output_type": "stream",
     "text": [
      "1843721015616 ['a', 2, 'b', 4, 'c']\n"
     ]
    }
   ],
   "source": [
    "print(id(l), l)"
   ]
  },
  {
   "cell_type": "code",
   "execution_count": 45,
   "id": "af0754a4",
   "metadata": {},
   "outputs": [
    {
     "name": "stdout",
     "output_type": "stream",
     "text": [
      "1843721015616 ['a', 2, 'b', 4, 'c']\n"
     ]
    }
   ],
   "source": [
    "print(id(l), l)"
   ]
  },
  {
   "cell_type": "code",
   "execution_count": 46,
   "id": "4989bad6",
   "metadata": {},
   "outputs": [],
   "source": [
    "l[0:5:2] = [1, 3, 5]"
   ]
  },
  {
   "cell_type": "code",
   "execution_count": 47,
   "id": "2fb89e6b",
   "metadata": {},
   "outputs": [
    {
     "data": {
      "text/plain": [
       "[1, 2, 3, 4, 5]"
      ]
     },
     "execution_count": 47,
     "metadata": {},
     "output_type": "execute_result"
    }
   ],
   "source": [
    "l"
   ]
  },
  {
   "cell_type": "code",
   "execution_count": 48,
   "id": "21ca06c7",
   "metadata": {},
   "outputs": [
    {
     "ename": "ValueError",
     "evalue": "attempt to assign sequence of size 4 to extended slice of size 3",
     "output_type": "error",
     "traceback": [
      "\u001b[1;31m---------------------------------------------------------------------------\u001b[0m",
      "\u001b[1;31mValueError\u001b[0m                                Traceback (most recent call last)",
      "\u001b[1;32mC:\\Users\\RICHMA~1\\AppData\\Local\\Temp/ipykernel_20648/3256949157.py\u001b[0m in \u001b[0;36m<module>\u001b[1;34m\u001b[0m\n\u001b[1;32m----> 1\u001b[1;33m \u001b[0ml\u001b[0m\u001b[1;33m[\u001b[0m\u001b[1;36m0\u001b[0m\u001b[1;33m:\u001b[0m\u001b[1;36m5\u001b[0m\u001b[1;33m:\u001b[0m\u001b[1;36m2\u001b[0m\u001b[1;33m]\u001b[0m \u001b[1;33m=\u001b[0m \u001b[1;33m[\u001b[0m\u001b[1;34m'a'\u001b[0m\u001b[1;33m,\u001b[0m \u001b[1;34m'b'\u001b[0m\u001b[1;33m,\u001b[0m \u001b[1;34m'c'\u001b[0m\u001b[1;33m,\u001b[0m \u001b[1;34m'd'\u001b[0m\u001b[1;33m]\u001b[0m\u001b[1;33m\u001b[0m\u001b[1;33m\u001b[0m\u001b[0m\n\u001b[0m",
      "\u001b[1;31mValueError\u001b[0m: attempt to assign sequence of size 4 to extended slice of size 3"
     ]
    }
   ],
   "source": [
    "l[0:5:2] = ['a', 'b', 'c', 'd']"
   ]
  }
 ],
 "metadata": {
  "kernelspec": {
   "display_name": "base",
   "language": "python",
   "name": "python3"
  },
  "language_info": {
   "codemirror_mode": {
    "name": "ipython",
    "version": 3
   },
   "file_extension": ".py",
   "mimetype": "text/x-python",
   "name": "python",
   "nbconvert_exporter": "python",
   "pygments_lexer": "ipython3",
   "version": "3.9.7"
  },
  "vscode": {
   "interpreter": {
    "hash": "ad2bdc8ecc057115af97d19610ffacc2b4e99fae6737bb82f5d7fb13d2f2c186"
   }
  }
 },
 "nbformat": 4,
 "nbformat_minor": 5
}
