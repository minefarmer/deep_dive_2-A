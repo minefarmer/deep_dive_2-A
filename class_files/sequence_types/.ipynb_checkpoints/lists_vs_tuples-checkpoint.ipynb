{
 "cells": [
  {
   "cell_type": "markdown",
   "id": "44d2e412",
   "metadata": {},
   "source": [
    "                        Lists Vs Tuples"
   ]
  },
  {
   "cell_type": "code",
   "execution_count": null,
   "id": "eb334a24",
   "metadata": {},
   "outputs": [],
   "source": []
  }
 ],
 "metadata": {
  "kernelspec": {
   "display_name": "Python 3 (ipykernel)",
   "language": "python",
   "name": "python3"
  },
  "language_info": {
   "codemirror_mode": {
    "name": "ipython",
    "version": 3
   },
   "file_extension": ".py",
   "mimetype": "text/x-python",
   "name": "python",
   "nbconvert_exporter": "python",
   "pygments_lexer": "ipython3",
   "version": "3.9.12"
  }
 },
 "nbformat": 4,
 "nbformat_minor": 5
}
