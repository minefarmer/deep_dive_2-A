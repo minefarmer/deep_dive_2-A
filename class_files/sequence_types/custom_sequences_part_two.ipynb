{
 "cells": [
  {
   "cell_type": "markdown",
   "id": "a69bc00d",
   "metadata": {},
   "source": [
    "                        Custom Sequnces (Part 2)"
   ]
  },
  {
   "cell_type": "code",
   "execution_count": 52,
   "id": "de8b9a3a",
   "metadata": {},
   "outputs": [],
   "source": [
    "class MyClass:\n",
    "    def __init__(self, name):\n",
    "        self.name = name\n",
    "    \n",
    "    def __repr__(self):\n",
    "        return f'MyClass(name={self.name})'\n",
    "    \n",
    "    def __add__(self, other):\n",
    "        print(f' You called + on {self} and {other}')\n",
    "        return 'Hello from __add__'\n",
    "    \n",
    "    def __iadd__(self, other):\n",
    "        print(f' You called += on {self} and {other}')\n",
    "        return 'Hello from __iadd__'"
   ]
  },
  {
   "cell_type": "code",
   "execution_count": 53,
   "id": "65b89624",
   "metadata": {},
   "outputs": [],
   "source": [
    "c1 = MyClass('instance 1')\n",
    "c2 = MyClass('instance 2')"
   ]
  },
  {
   "cell_type": "code",
   "execution_count": 54,
   "id": "afd0b3d4",
   "metadata": {},
   "outputs": [
    {
     "name": "stdout",
     "output_type": "stream",
     "text": [
      " You called + on MyClass(name=instance 1) and MyClass(name=instance 2)\n"
     ]
    }
   ],
   "source": [
    "result = c1 + c2"
   ]
  },
  {
   "cell_type": "code",
   "execution_count": 55,
   "id": "994a7b40",
   "metadata": {},
   "outputs": [
    {
     "name": "stdout",
     "output_type": "stream",
     "text": [
      "Hello from __add__\n"
     ]
    }
   ],
   "source": [
    "print(result)"
   ]
  },
  {
   "cell_type": "code",
   "execution_count": 56,
   "id": "fa6bd850",
   "metadata": {},
   "outputs": [
    {
     "data": {
      "text/plain": [
       "(MyClass(name=instance 1), MyClass(name=instance 2))"
      ]
     },
     "execution_count": 56,
     "metadata": {},
     "output_type": "execute_result"
    }
   ],
   "source": [
    "c1, c2"
   ]
  },
  {
   "cell_type": "code",
   "execution_count": 57,
   "id": "b460bce5",
   "metadata": {},
   "outputs": [
    {
     "data": {
      "text/plain": [
       "2242858573200"
      ]
     },
     "execution_count": 57,
     "metadata": {},
     "output_type": "execute_result"
    }
   ],
   "source": [
    "id(c1)"
   ]
  },
  {
   "cell_type": "code",
   "execution_count": 58,
   "id": "75e48361",
   "metadata": {},
   "outputs": [
    {
     "name": "stdout",
     "output_type": "stream",
     "text": [
      " You called += on MyClass(name=instance 1) and MyClass(name=instance 2)\n"
     ]
    }
   ],
   "source": [
    "c1 += c2"
   ]
  },
  {
   "cell_type": "code",
   "execution_count": 59,
   "id": "641252d7",
   "metadata": {},
   "outputs": [
    {
     "data": {
      "text/plain": [
       "'Hello from __iadd__'"
      ]
     },
     "execution_count": 59,
     "metadata": {},
     "output_type": "execute_result"
    }
   ],
   "source": [
    "c1"
   ]
  },
  {
   "cell_type": "code",
   "execution_count": 60,
   "id": "d2544a5f",
   "metadata": {},
   "outputs": [
    {
     "data": {
      "text/plain": [
       "2242868908160"
      ]
     },
     "execution_count": 60,
     "metadata": {},
     "output_type": "execute_result"
    }
   ],
   "source": [
    "id(c1)"
   ]
  },
  {
   "cell_type": "code",
   "execution_count": 61,
   "id": "5ff3c0b0",
   "metadata": {},
   "outputs": [],
   "source": [
    "class MyClass:\n",
    "    def __init__(self, name):\n",
    "        self.name = name\n",
    "    \n",
    "    def __repr__(self):\n",
    "        return f'MyClass(name={self.name})'\n",
    "    \n",
    "    def __add__(self, other):\n",
    "        return MyClass(self.name + other.name)\n",
    "    \n",
    "    def __iadd__(self, other):\n",
    "        if isinstance(other, MyClass):\n",
    "            self.name += other.name\n",
    "        else:\n",
    "            self.name += other\n",
    "        return self"
   ]
  },
  {
   "cell_type": "code",
   "execution_count": 62,
   "id": "32bd95c1",
   "metadata": {},
   "outputs": [
    {
     "name": "stdout",
     "output_type": "stream",
     "text": [
      "2242861050512\n",
      "2242861049120\n"
     ]
    }
   ],
   "source": [
    "c1 = MyClass('Eric')\n",
    "c2 = MyClass('Idle')\n",
    "print(id(c1))\n",
    "print(id(c2))"
   ]
  },
  {
   "cell_type": "code",
   "execution_count": 63,
   "id": "3fd0f03d",
   "metadata": {},
   "outputs": [],
   "source": [
    "result = c1 + c2"
   ]
  },
  {
   "cell_type": "code",
   "execution_count": 64,
   "id": "df210ab6",
   "metadata": {},
   "outputs": [
    {
     "data": {
      "text/plain": [
       "(2242861049648, MyClass(name=EricIdle))"
      ]
     },
     "execution_count": 64,
     "metadata": {},
     "output_type": "execute_result"
    }
   ],
   "source": [
    "id(result), result"
   ]
  },
  {
   "cell_type": "code",
   "execution_count": 65,
   "id": "3e1ddb57",
   "metadata": {},
   "outputs": [
    {
     "data": {
      "text/plain": [
       "(2242861050512, MyClass(name=Eric))"
      ]
     },
     "execution_count": 65,
     "metadata": {},
     "output_type": "execute_result"
    }
   ],
   "source": [
    "id(c1), c1"
   ]
  },
  {
   "cell_type": "code",
   "execution_count": 66,
   "id": "950a1b6d",
   "metadata": {},
   "outputs": [],
   "source": [
    "class MyClass:\n",
    "    def __init__(self, name):\n",
    "        self.name = name\n",
    "    \n",
    "    def __repr__(self):\n",
    "        return f'MyClass(name={self.name})'\n",
    "    \n",
    "    def __add__(self, other):\n",
    "        return MyClass(self.name + other.name)\n",
    "    \n",
    "    def __iadd__(self, other):\n",
    "        if isinstance(other, MyClass):\n",
    "            self.name += other.name\n",
    "        else:\n",
    "            self.name += other\n",
    "        return self\n",
    "    \n",
    "    def __mul__(self, n):\n",
    "        return MyClass(self.name * n)\n",
    "    \n",
    "    def __imul__(self, n):\n",
    "        self.name *= n\n",
    "        return self"
   ]
  },
  {
   "cell_type": "code",
   "execution_count": 67,
   "id": "10509c5b",
   "metadata": {},
   "outputs": [],
   "source": [
    "c1 = MyClass('Eric')"
   ]
  },
  {
   "cell_type": "code",
   "execution_count": 68,
   "id": "9d4aed4e",
   "metadata": {},
   "outputs": [
    {
     "data": {
      "text/plain": [
       "2242868903504"
      ]
     },
     "execution_count": 68,
     "metadata": {},
     "output_type": "execute_result"
    }
   ],
   "source": [
    "id(c1)"
   ]
  },
  {
   "cell_type": "code",
   "execution_count": 69,
   "id": "1675fa68",
   "metadata": {},
   "outputs": [],
   "source": [
    "result =c1 * 3"
   ]
  },
  {
   "cell_type": "code",
   "execution_count": 70,
   "id": "8d1ddad2",
   "metadata": {},
   "outputs": [
    {
     "data": {
      "text/plain": [
       "(2242868902112, MyClass(name=EricEricEric))"
      ]
     },
     "execution_count": 70,
     "metadata": {},
     "output_type": "execute_result"
    }
   ],
   "source": [
    "id(result), result"
   ]
  },
  {
   "cell_type": "code",
   "execution_count": 71,
   "id": "dbadb1c0",
   "metadata": {},
   "outputs": [],
   "source": [
    "c1 *= 3"
   ]
  },
  {
   "cell_type": "code",
   "execution_count": 72,
   "id": "52b91dc2",
   "metadata": {},
   "outputs": [
    {
     "data": {
      "text/plain": [
       "(2242868903504, MyClass(name=EricEricEric))"
      ]
     },
     "execution_count": 72,
     "metadata": {},
     "output_type": "execute_result"
    }
   ],
   "source": [
    "id(c1), c1"
   ]
  },
  {
   "cell_type": "code",
   "execution_count": 73,
   "id": "a0cd7fee",
   "metadata": {},
   "outputs": [],
   "source": [
    "c1 = MyClass('Eric')"
   ]
  },
  {
   "cell_type": "code",
   "execution_count": 74,
   "id": "e9ab3050",
   "metadata": {},
   "outputs": [
    {
     "data": {
      "text/plain": [
       "MyClass(name=EricEricEric)"
      ]
     },
     "execution_count": 74,
     "metadata": {},
     "output_type": "execute_result"
    }
   ],
   "source": [
    "c1 * 3"
   ]
  },
  {
   "cell_type": "code",
   "execution_count": 76,
   "id": "f0fe2011",
   "metadata": {},
   "outputs": [
    {
     "ename": "TypeError",
     "evalue": "unsupported operand type(s) for *: 'int' and 'MyClass'",
     "output_type": "error",
     "traceback": [
      "\u001b[1;31m---------------------------------------------------------------------------\u001b[0m",
      "\u001b[1;31mTypeError\u001b[0m                                 Traceback (most recent call last)",
      "\u001b[1;32mC:\\Users\\RICHMA~1\\AppData\\Local\\Temp/ipykernel_18872/2648878268.py\u001b[0m in \u001b[0;36m<module>\u001b[1;34m\u001b[0m\n\u001b[1;32m----> 1\u001b[1;33m \u001b[1;36m3\u001b[0m \u001b[1;33m*\u001b[0m \u001b[0mc1\u001b[0m\u001b[1;33m\u001b[0m\u001b[1;33m\u001b[0m\u001b[0m\n\u001b[0m",
      "\u001b[1;31mTypeError\u001b[0m: unsupported operand type(s) for *: 'int' and 'MyClass'"
     ]
    }
   ],
   "source": [
    "3 * c1"
   ]
  },
  {
   "cell_type": "code",
   "execution_count": null,
   "id": "5daec392",
   "metadata": {},
   "outputs": [
    {
     "data": {
      "text/plain": [
       "NotImplemented"
      ]
     },
     "execution_count": 50,
     "metadata": {},
     "output_type": "execute_result"
    }
   ],
   "source": [
    "(3).__mul__(c1)"
   ]
  },
  {
   "cell_type": "code",
   "execution_count": null,
   "id": "93877690",
   "metadata": {},
   "outputs": [
    {
     "ename": "AttributeError",
     "evalue": "'MyClass' object has no attribute '__rmul__'",
     "output_type": "error",
     "traceback": [
      "\u001b[1;31m---------------------------------------------------------------------------\u001b[0m",
      "\u001b[1;31mAttributeError\u001b[0m                            Traceback (most recent call last)",
      "\u001b[1;32mC:\\Users\\RICHMA~1\\AppData\\Local\\Temp/ipykernel_18148/356242974.py\u001b[0m in \u001b[0;36m<module>\u001b[1;34m\u001b[0m\n\u001b[1;32m----> 1\u001b[1;33m \u001b[0mc1\u001b[0m\u001b[1;33m.\u001b[0m\u001b[0m__rmul__\u001b[0m\u001b[1;33m(\u001b[0m\u001b[1;36m3\u001b[0m\u001b[1;33m)\u001b[0m\u001b[1;33m\u001b[0m\u001b[1;33m\u001b[0m\u001b[0m\n\u001b[0m",
      "\u001b[1;31mAttributeError\u001b[0m: 'MyClass' object has no attribute '__rmul__'"
     ]
    }
   ],
   "source": [
    "c1.__rmul__(3)"
   ]
  },
  {
   "cell_type": "code",
   "execution_count": null,
   "id": "db5bcdec",
   "metadata": {},
   "outputs": [],
   "source": [
    "3 * c1"
   ]
  },
  {
   "cell_type": "code",
   "execution_count": null,
   "id": "6e711278",
   "metadata": {},
   "outputs": [],
   "source": [
    "class MyClass:\n",
    "    def __init__(self, name):\n",
    "        self.name = name\n",
    "    \n",
    "    def __repr__(self):\n",
    "        return f'MyClass(name={self.name})'\n",
    "    \n",
    "    def __add__(self, other):\n",
    "        return MyClass(self.name + other.name)\n",
    "    \n",
    "    def __iadd__(self, other):\n",
    "        if isinstance(other, MyClass):\n",
    "            self.name += other.name\n",
    "        else:\n",
    "            self.name += other\n",
    "        return self\n",
    "    \n",
    "    def __mul__(self, n):\n",
    "        return MyClass(self.name * n)\n",
    "    \n",
    "    def __rmul__(self, n):\n",
    "        return self.__mul__(n)\n",
    "    \n",
    "    def __imul__(self, n):\n",
    "        self.name *= n\n",
    "        return self"
   ]
  },
  {
   "cell_type": "code",
   "execution_count": null,
   "id": "dcbf1c90",
   "metadata": {},
   "outputs": [],
   "source": [
    "c1 = MyClass('Eric')"
   ]
  },
  {
   "cell_type": "code",
   "execution_count": null,
   "id": "4d8dd7e8",
   "metadata": {},
   "outputs": [],
   "source": [
    "c1 * 3"
   ]
  },
  {
   "cell_type": "code",
   "execution_count": null,
   "id": "44044f63",
   "metadata": {},
   "outputs": [],
   "source": [
    "3 * c1"
   ]
  },
  {
   "cell_type": "markdown",
   "id": "2d415ee8",
   "metadata": {},
   "source": [
    "        in operator"
   ]
  },
  {
   "cell_type": "code",
   "execution_count": null,
   "id": "6c4bfe8c",
   "metadata": {},
   "outputs": [],
   "source": [
    "l = [1, 2, 3, 4]\n",
    "s = 'python'"
   ]
  },
  {
   "cell_type": "code",
   "execution_count": null,
   "id": "24084664",
   "metadata": {},
   "outputs": [],
   "source": [
    "1 in l"
   ]
  },
  {
   "cell_type": "code",
   "execution_count": null,
   "id": "70d692c5",
   "metadata": {},
   "outputs": [],
   "source": [
    "'a' in s"
   ]
  },
  {
   "cell_type": "code",
   "execution_count": null,
   "id": "fc766da0",
   "metadata": {},
   "outputs": [],
   "source": [
    "class MyClass:\n",
    "    def __init__(self, name):\n",
    "        self.name = name\n",
    "    \n",
    "    def __repr__(self):\n",
    "        return f'MyClass(name={self.name})'\n",
    "    \n",
    "    def __add__(self, other):\n",
    "        return MyClass(self.name + other.name)\n",
    "    \n",
    "    def __iadd__(self, other):\n",
    "        if isinstance(other, MyClass):\n",
    "            self.name += other.name\n",
    "        else:\n",
    "            self.name += other\n",
    "        return self\n",
    "    \n",
    "    def __mul__(self, n):\n",
    "        return MyClass(self.name * n)\n",
    "    \n",
    "    def __rmul__(self, n):\n",
    "        return self.__mul__(n)\n",
    "    \n",
    "    def __imul__(self, n):\n",
    "        self.name *= n\n",
    "        return self\n",
    "    \n",
    "    def __contains__(self, value):\n",
    "        return value in self.name"
   ]
  },
  {
   "cell_type": "code",
   "execution_count": null,
   "id": "435d7a45",
   "metadata": {},
   "outputs": [],
   "source": [
    "c1 = MyClass('Eric Idle')"
   ]
  },
  {
   "cell_type": "code",
   "execution_count": null,
   "id": "22f64ada",
   "metadata": {},
   "outputs": [],
   "source": [
    "'Eric' in c1"
   ]
  },
  {
   "cell_type": "code",
   "execution_count": null,
   "id": "219282e5",
   "metadata": {},
   "outputs": [],
   "source": [
    "'I' in c1"
   ]
  },
  {
   "cell_type": "code",
   "execution_count": null,
   "id": "137ccff1",
   "metadata": {},
   "outputs": [],
   "source": [
    "'z' in c1"
   ]
  },
  {
   "cell_type": "markdown",
   "id": "9057c005",
   "metadata": {},
   "source": [
    "                        Custom Sequences (Part 2b)"
   ]
  },
  {
   "cell_type": "code",
   "execution_count": null,
   "id": "a7c3249f",
   "metadata": {},
   "outputs": [],
   "source": [
    "from collections import namedtuple"
   ]
  },
  {
   "cell_type": "code",
   "execution_count": null,
   "id": "4bf708ef",
   "metadata": {},
   "outputs": [],
   "source": [
    "Point = namedtuple('Point','x y')"
   ]
  },
  {
   "cell_type": "code",
   "execution_count": null,
   "id": "ce924dd2",
   "metadata": {},
   "outputs": [],
   "source": [
    "p1 = Point(10.5, 3.2)"
   ]
  },
  {
   "cell_type": "code",
   "execution_count": null,
   "id": "e8c18815",
   "metadata": {},
   "outputs": [],
   "source": [
    "p1"
   ]
  },
  {
   "cell_type": "code",
   "execution_count": null,
   "id": "b29966e7",
   "metadata": {},
   "outputs": [],
   "source": [
    "p1 = Point('abc', [1, 2, 3])"
   ]
  },
  {
   "cell_type": "code",
   "execution_count": null,
   "id": "e3ebe09a",
   "metadata": {},
   "outputs": [],
   "source": [
    "p1"
   ]
  },
  {
   "cell_type": "code",
   "execution_count": null,
   "id": "11c09d17",
   "metadata": {},
   "outputs": [],
   "source": [
    "x, y = p1"
   ]
  },
  {
   "cell_type": "code",
   "execution_count": null,
   "id": "c86dc629",
   "metadata": {},
   "outputs": [],
   "source": [
    "x"
   ]
  },
  {
   "cell_type": "code",
   "execution_count": null,
   "id": "0728b2c5",
   "metadata": {},
   "outputs": [],
   "source": [
    "y"
   ]
  },
  {
   "cell_type": "code",
   "execution_count": null,
   "id": "18d2b3a9",
   "metadata": {},
   "outputs": [],
   "source": [
    "import numbers"
   ]
  },
  {
   "cell_type": "code",
   "execution_count": null,
   "id": "229e519e",
   "metadata": {},
   "outputs": [],
   "source": [
    "isinstance(10, numbers.Number)"
   ]
  },
  {
   "cell_type": "code",
   "execution_count": null,
   "id": "947ae7a4",
   "metadata": {},
   "outputs": [],
   "source": [
    "isinstance('a', numbers.Number)"
   ]
  },
  {
   "cell_type": "code",
   "execution_count": null,
   "id": "1cb73ffd",
   "metadata": {},
   "outputs": [],
   "source": [
    "isinstance(10.5, numbers.Number)"
   ]
  },
  {
   "cell_type": "code",
   "execution_count": null,
   "id": "476ed559",
   "metadata": {},
   "outputs": [],
   "source": [
    "isinstance(10+2j, numbers.Number)"
   ]
  },
  {
   "cell_type": "code",
   "execution_count": null,
   "id": "7d8fe695",
   "metadata": {},
   "outputs": [],
   "source": [
    "isinstance(10, numbers.Real)"
   ]
  },
  {
   "cell_type": "code",
   "execution_count": null,
   "id": "520e4014",
   "metadata": {},
   "outputs": [],
   "source": [
    "isinstance(10+2j, numbers.Real)"
   ]
  },
  {
   "cell_type": "code",
   "execution_count": null,
   "id": "0f75a2d0",
   "metadata": {},
   "outputs": [],
   "source": [
    "class Point:\n",
    "    def __init__(self, x, y):\n",
    "        if isinstance(x, numbers.Real) and isinstance(y, numbers.Real):\n",
    "            self._pt = (x, y)\n",
    "        else:\n",
    "            raise TypeError('Point co-ordinates must be real numbers.')\n",
    "    \n",
    "    def __reper__(self):\n",
    "        return f'Point(x={self._pt[0]}, y={self._pt[1]})'"
   ]
  },
  {
   "cell_type": "code",
   "execution_count": null,
   "id": "ecdfeb40",
   "metadata": {},
   "outputs": [],
   "source": [
    "p1 = Point(10, 2.5)"
   ]
  },
  {
   "cell_type": "code",
   "execution_count": null,
   "id": "442da96d",
   "metadata": {},
   "outputs": [],
   "source": [
    "p1"
   ]
  },
  {
   "cell_type": "code",
   "execution_count": null,
   "id": "8da0042e",
   "metadata": {},
   "outputs": [],
   "source": [
    "p1 = Point('abc', 10)"
   ]
  },
  {
   "cell_type": "code",
   "execution_count": null,
   "id": "1e03b0b5",
   "metadata": {},
   "outputs": [],
   "source": [
    "x, y = p1"
   ]
  },
  {
   "cell_type": "code",
   "execution_count": null,
   "id": "71e73944",
   "metadata": {},
   "outputs": [],
   "source": [
    "class Point:\n",
    "    def __init__(self, x, y):\n",
    "        if isinstance(x, numbers.Real) and isinstance(y, numbers.Real):\n",
    "            self._pt = (x, y)\n",
    "        else:\n",
    "            raise TypeError('Point co-ordinates must be real numbers.')\n",
    "    \n",
    "    def __reper__(self):\n",
    "        return f'Point(x={self._pt[0]}, y={self._pt[1]})'\n",
    "    \n",
    "    def __len__(self):\n",
    "        return len(self._pt)\n",
    "    \n",
    "    def __getitem__(self, s):\n",
    "        return self._pt[s]"
   ]
  },
  {
   "cell_type": "code",
   "execution_count": null,
   "id": "8cf0e5c7",
   "metadata": {},
   "outputs": [],
   "source": [
    "p1 = Point(10, 2)"
   ]
  },
  {
   "cell_type": "code",
   "execution_count": null,
   "id": "1c5ca07d",
   "metadata": {},
   "outputs": [],
   "source": [
    "x, y = p1"
   ]
  },
  {
   "cell_type": "code",
   "execution_count": null,
   "id": "5cbdcf39",
   "metadata": {},
   "outputs": [],
   "source": [
    "x"
   ]
  },
  {
   "cell_type": "code",
   "execution_count": null,
   "id": "5f427d87",
   "metadata": {},
   "outputs": [],
   "source": [
    "y"
   ]
  },
  {
   "cell_type": "code",
   "execution_count": null,
   "id": "a2acc131",
   "metadata": {},
   "outputs": [],
   "source": [
    "p2 = Point(*p1)"
   ]
  },
  {
   "cell_type": "code",
   "execution_count": null,
   "id": "0861230a",
   "metadata": {},
   "outputs": [],
   "source": [
    "id(p1), id(p2)"
   ]
  },
  {
   "cell_type": "code",
   "execution_count": null,
   "id": "23b0a604",
   "metadata": {},
   "outputs": [],
   "source": [
    "id(p1)"
   ]
  },
  {
   "cell_type": "code",
   "execution_count": null,
   "id": "61f4b368",
   "metadata": {},
   "outputs": [],
   "source": [
    "class Polygon:\n",
    "    def __init__(self, *pts):\n",
    "        if pts:\n",
    "            self._pts = [Point(*pt) for pt in pts]\n",
    "        else:\n",
    "            self._pts = []\n",
    "    \n",
    "    def __repr__(self):\n",
    "        return f'Polygon({self.pts})'"
   ]
  },
  {
   "cell_type": "code",
   "execution_count": null,
   "id": "8f0e3b03",
   "metadata": {},
   "outputs": [],
   "source": [
    "p = Polygon((0,0), Point(1, 1))"
   ]
  },
  {
   "cell_type": "code",
   "execution_count": null,
   "id": "ec0d2e1f",
   "metadata": {},
   "outputs": [],
   "source": [
    "p"
   ]
  },
  {
   "cell_type": "code",
   "execution_count": null,
   "id": "3cfbdf50",
   "metadata": {},
   "outputs": [],
   "source": [
    "p2 = Polygon((0,0), Point(1, 1))"
   ]
  },
  {
   "cell_type": "code",
   "execution_count": null,
   "id": "cc99451d",
   "metadata": {},
   "outputs": [],
   "source": [
    "p"
   ]
  },
  {
   "cell_type": "code",
   "execution_count": null,
   "id": "aa26e5be",
   "metadata": {},
   "outputs": [],
   "source": [
    "p2 = Polygon([Point(x=0, y=0), Point(x=1, y=1)])"
   ]
  },
  {
   "cell_type": "code",
   "execution_count": null,
   "id": "6b4c3565",
   "metadata": {},
   "outputs": [],
   "source": [
    "class Polygon:\n",
    "    def __init__(self, *pts):\n",
    "        if pts:\n",
    "            self._pts = [Point(*pts) for pt in pts]\n",
    "        else:\n",
    "            self._pts = []\n",
    "    \n",
    "    def __repr__(self):\n",
    "        pts_str = ', '.join([str(pt) for pt in self._pts])\n",
    "        return f'Polygon({self.pts})'"
   ]
  },
  {
   "cell_type": "code",
   "execution_count": null,
   "id": "ee5f5b21",
   "metadata": {},
   "outputs": [],
   "source": [
    "p = Polygon((0,0), Point(1, 1))"
   ]
  },
  {
   "cell_type": "code",
   "execution_count": null,
   "id": "a09b84b8",
   "metadata": {},
   "outputs": [],
   "source": [
    "p"
   ]
  },
  {
   "cell_type": "code",
   "execution_count": null,
   "id": "896ea8d4",
   "metadata": {},
   "outputs": [],
   "source": [
    "p1 = Polygon(Point(x=0, y=0), Point(x=1, y=1))"
   ]
  },
  {
   "cell_type": "code",
   "execution_count": null,
   "id": "39c098ba",
   "metadata": {},
   "outputs": [],
   "source": [
    "class Polygon:\n",
    "    def __init__(self, *pts):\n",
    "        if pts:\n",
    "            self._pts = [Point(*pts) for pt in pts]\n",
    "        else:\n",
    "            self._pts = []\n",
    "    \n",
    "    def __repr__(self):\n",
    "        pts_str = ', '.join([str(pt) for pt in self._pts])\n",
    "        return f'Polygon({self.pts})'\n",
    "    \n",
    "    def __len__(self):\n",
    "        return len(self._pts)\n",
    "    \n",
    "    def __getitem__(self, s):\n",
    "        return self._pts[0]"
   ]
  },
  {
   "cell_type": "code",
   "execution_count": null,
   "id": "33c08362",
   "metadata": {},
   "outputs": [],
   "source": [
    "p = Polygon((0,0), (1,1), (2,2))"
   ]
  },
  {
   "cell_type": "code",
   "execution_count": null,
   "id": "ef935067",
   "metadata": {},
   "outputs": [],
   "source": [
    "p"
   ]
  },
  {
   "cell_type": "code",
   "execution_count": null,
   "id": "5fd74299",
   "metadata": {},
   "outputs": [],
   "source": [
    "p[0]"
   ]
  },
  {
   "cell_type": "code",
   "execution_count": null,
   "id": "754b3584",
   "metadata": {},
   "outputs": [],
   "source": [
    "p[0:2]"
   ]
  },
  {
   "cell_type": "code",
   "execution_count": null,
   "id": "cbdb4364",
   "metadata": {},
   "outputs": [],
   "source": [
    "p[::-1]"
   ]
  },
  {
   "cell_type": "code",
   "execution_count": null,
   "id": "c9f600b6",
   "metadata": {},
   "outputs": [],
   "source": [
    "class Polygon:\n",
    "    def __init__(self, *pts):\n",
    "        if pts:\n",
    "            self._pts = [Point(*pts) for pt in pts]\n",
    "        else:\n",
    "            self._pts = []\n",
    "    \n",
    "    def __repr__(self):\n",
    "        pts_str = ', '.join([str(pt) for pt in self._pts])\n",
    "        return f'Polygon({self.pts})'\n",
    "    \n",
    "    def __len__(self):\n",
    "        return len(self._pts)\n",
    "    \n",
    "    def __getitem__(self, s):\n",
    "        return self._pts[s]\n",
    "    \n",
    "    def __iadd__(self, other):\n",
    "        if isinstance(other, Polygon):\n",
    "            new_pts = self.pts + other._pts\n",
    "            return Polygon(*new_pts)\n",
    "        else:\n",
    "            raise TypeError('can only cocatinate with another Polygon')"
   ]
  },
  {
   "cell_type": "code",
   "execution_count": null,
   "id": "4c80f516",
   "metadata": {},
   "outputs": [],
   "source": [
    "p1 = Polygon((0,0) (1,1))\n",
    "p2 = Polygon((2,2), (3,3))\n",
    "id(p1), id(p2)"
   ]
  },
  {
   "cell_type": "code",
   "execution_count": null,
   "id": "0e4e8645",
   "metadata": {},
   "outputs": [],
   "source": [
    "p1 + p2"
   ]
  },
  {
   "cell_type": "code",
   "execution_count": null,
   "id": "8404c509",
   "metadata": {},
   "outputs": [],
   "source": [
    "class Polygon:\n",
    "    def __init__(self, *pts):\n",
    "        if pts:\n",
    "            self._pts = [Point(*pts) for pt in pts]\n",
    "        else:\n",
    "            self._pts = []\n",
    "    \n",
    "    def __repr__(self):\n",
    "        pts_str = ', '.join([str(pt) for pt in self._pts])\n",
    "        return f'Polygon({self.pts})'\n",
    "    \n",
    "    def __len__(self):\n",
    "        return len(self._pts)\n",
    "    \n",
    "    def __getitem__(self, s):\n",
    "        return self._pts[s]\n",
    "    \n",
    "    def __add__(self, other):\n",
    "        if isinstance(other, Polygon):\n",
    "            new_pts = self.pts + other._pts\n",
    "            return Polygon(*new_pts)\n",
    "        else:\n",
    "            raise TypeError('can only cocatinate with another Polygon')\n",
    "        \n",
    "    def __iadd__(self, other):\n",
    "        if isinstance(other, Polygon):\n",
    "            self._pts = self._pts + other._pts\n",
    "            return self\n",
    "        else:\n",
    "            raise TypeError('can only cocatinate with another Polygon')"
   ]
  },
  {
   "cell_type": "code",
   "execution_count": null,
   "id": "1c81da72",
   "metadata": {},
   "outputs": [],
   "source": [
    "p1 = Polygon((0,0) (1,1))\n",
    "p2 = Polygon((2,2), (3,3))\n",
    "id(p1), id(p2)"
   ]
  },
  {
   "cell_type": "code",
   "execution_count": null,
   "id": "8e964e4f",
   "metadata": {},
   "outputs": [],
   "source": [
    "p1 += p2"
   ]
  },
  {
   "cell_type": "code",
   "execution_count": null,
   "id": "72fd89f3",
   "metadata": {},
   "outputs": [],
   "source": [
    "id(p1), p1"
   ]
  },
  {
   "cell_type": "code",
   "execution_count": null,
   "id": "07d00b19",
   "metadata": {},
   "outputs": [],
   "source": [
    "id(p1), p1"
   ]
  },
  {
   "cell_type": "code",
   "execution_count": null,
   "id": "43afa135",
   "metadata": {},
   "outputs": [],
   "source": [
    "p1 = p1.__iadd__(p2)"
   ]
  },
  {
   "cell_type": "code",
   "execution_count": null,
   "id": "8de34a1e",
   "metadata": {},
   "outputs": [],
   "source": [
    "id(p1), p1"
   ]
  },
  {
   "cell_type": "code",
   "execution_count": null,
   "id": "cc1418f2",
   "metadata": {},
   "outputs": [],
   "source": [
    "p1 += [(2,2), (3,3)]"
   ]
  },
  {
   "cell_type": "code",
   "execution_count": null,
   "id": "a3606593",
   "metadata": {},
   "outputs": [],
   "source": [
    "class Polygon:\n",
    "    def __init__(self, *pts):\n",
    "        if pts:\n",
    "            self._pts = [Point(*pts) for pt in pts]\n",
    "        else:\n",
    "            self._pts = []\n",
    "    \n",
    "    def __repr__(self):\n",
    "        pts_str = ', '.join([str(pt) for pt in self._pts])\n",
    "        return f'Polygon({self.pts})'\n",
    "    \n",
    "    def __len__(self):\n",
    "        return len(self._pts)\n",
    "    \n",
    "    def __getitem__(self, s):\n",
    "        return self._pts[s]\n",
    "    \n",
    "    def __add__(self, other):\n",
    "        if isinstance(other, Polygon):\n",
    "            new_pts = self.pts + other._pts\n",
    "            return Polygon(*new_pts)\n",
    "        else:\n",
    "            raise TypeError('can only cocatinate with another Polygon')\n",
    "        \n",
    "    def __iadd__(self, other):\n",
    "        if isinstance(other, Polygon):\n",
    "            points = other._pts\n",
    "        else:\n",
    "            points = [Point(*pt) for pt in other]\n",
    "            self._pts = self._pts + points\n",
    "            return self"
   ]
  },
  {
   "cell_type": "code",
   "execution_count": null,
   "id": "f529339a",
   "metadata": {},
   "outputs": [],
   "source": [
    "p1 = Polygon((0,0) (1,1))\n",
    "id(p1)"
   ]
  },
  {
   "cell_type": "code",
   "execution_count": null,
   "id": "3070216c",
   "metadata": {},
   "outputs": [],
   "source": [
    "class Polygon:\n",
    "    def __init__(self, *pts):\n",
    "        if pts:\n",
    "            self._pts = [Point(*pts) for pt in pts]\n",
    "        else:\n",
    "            self._pts = []\n",
    "    \n",
    "    def __repr__(self):\n",
    "        pts_str = ', '.join([str(pt) for pt in self._pts])\n",
    "        return f'Polygon({self.pts})'\n",
    "    \n",
    "    def __len__(self):\n",
    "        return len(self._pts)\n",
    "    \n",
    "    def __getitem__(self, s):\n",
    "        return self._pts[s]\n",
    "    \n",
    "    def __add__(self, other):\n",
    "        if isinstance(other, Polygon):\n",
    "            new_pts = self.pts + other._pts\n",
    "            return Polygon(*new_pts)\n",
    "        else:\n",
    "            raise TypeError('can only concatinate with another Polygon')\n",
    "\n",
    "    def append(self, pt):\n",
    "        self._pts.append(Point(*pt))\n",
    "        \n",
    "    def insert(self, i, pt):\n",
    "        self._pts.insert(i, Point(*pt))\n",
    "    \n",
    "    def extend(self, pts):\n",
    "        if isinstance(pts, Polygon):\n",
    "            self._pts + pts._pts\n",
    "    \n",
    "        def __iadd__(self, other):\n",
    "            self.extend(other)\n",
    "            return self"
   ]
  },
  {
   "cell_type": "code",
   "execution_count": null,
   "id": "bd17a313",
   "metadata": {},
   "outputs": [],
   "source": [
    "p1 = Polygon((0,0), (1,1))\n",
    "p2 = Polygon((2,2), (3,3))\n",
    "print(id(p1), p1)\n",
    "print(id(p2), p2)"
   ]
  },
  {
   "cell_type": "code",
   "execution_count": null,
   "id": "05b4ca27",
   "metadata": {},
   "outputs": [],
   "source": [
    "p1.append([10, 10])\n",
    "print(id(p1), p1)"
   ]
  },
  {
   "cell_type": "code",
   "execution_count": null,
   "id": "bfaf9c36",
   "metadata": {},
   "outputs": [],
   "source": [
    "class Polygon:\n",
    "    def __init__(self, *pts):\n",
    "        if pts:\n",
    "            self._pts = [Point(*pts) for pt in pts]\n",
    "        else:\n",
    "            self._pts = []\n",
    "    \n",
    "    def __repr__(self):\n",
    "        pts_str = ', '.join([str(pt) for pt in self._pts])\n",
    "        return f'Polygon({self.pts})'\n",
    "    \n",
    "    def __len__(self):\n",
    "        return len(self._pts)\n",
    "    \n",
    "    def __getitem__(self, s):\n",
    "        return self._pts[s]\n",
    "    \n",
    "    def __setitem__(self, s, value):\n",
    "         [Point(*pts) for pt in pts]\n",
    "\n",
    "    def __add__(self, other):\n",
    "        if isinstance(other, Polygon):\n",
    "            new_pts = self.pts + other._pts\n",
    "            return Polygon(*new_pts)\n",
    "        else:\n",
    "            raise TypeError('can only concatenate with another Polygon')\n",
    "\n",
    "    def append(self, pt):\n",
    "        self._pts.append(Point(*pt))\n",
    "        \n",
    "    def insert(self, i, pt):\n",
    "        self._pts.insert(i, Point(*pt))\n",
    "    \n",
    "    def extend(self, pts):\n",
    "        if isinstance(pts, Polygon):\n",
    "            self._pts += pts._pts\n",
    "        else:\n",
    "            points = [Point(*pt) for pt in pts]\n",
    "            self._pts += points\n",
    "    \n",
    "        def __iadd__(self, other):\n",
    "            self.extend(other)\n",
    "            return self"
   ]
  },
  {
   "cell_type": "code",
   "execution_count": null,
   "id": "c841abfb",
   "metadata": {},
   "outputs": [],
   "source": [
    "p = Polygon((0,0), (1,1), (2,2))\n",
    "print(id(p), p)"
   ]
  },
  {
   "cell_type": "code",
   "execution_count": null,
   "id": "3958b131",
   "metadata": {},
   "outputs": [],
   "source": [
    "p[0:2]"
   ]
  }
 ],
 "metadata": {
  "kernelspec": {
   "display_name": "base",
   "language": "python",
   "name": "python3"
  },
  "language_info": {
   "codemirror_mode": {
    "name": "ipython",
    "version": 3
   },
   "file_extension": ".py",
   "mimetype": "text/x-python",
   "name": "python",
   "nbconvert_exporter": "python",
   "pygments_lexer": "ipython3",
   "version": "3.9.7"
  },
  "vscode": {
   "interpreter": {
    "hash": "ad2bdc8ecc057115af97d19610ffacc2b4e99fae6737bb82f5d7fb13d2f2c186"
   }
  }
 },
 "nbformat": 4,
 "nbformat_minor": 5
}
