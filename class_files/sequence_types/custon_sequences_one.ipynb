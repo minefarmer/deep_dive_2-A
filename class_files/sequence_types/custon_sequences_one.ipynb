{
 "cells": [
  {
   "cell_type": "markdown",
   "id": "8e148e44",
   "metadata": {},
   "source": [
    "                        Custom Sequences (part 1)"
   ]
  },
  {
   "cell_type": "code",
   "execution_count": 90,
   "id": "5ec5bdf5",
   "metadata": {},
   "outputs": [],
   "source": [
    "my_list = [1, 2, 3, 4, 5]"
   ]
  },
  {
   "cell_type": "code",
   "execution_count": 91,
   "id": "69938d0f",
   "metadata": {},
   "outputs": [
    {
     "data": {
      "text/plain": [
       "5"
      ]
     },
     "execution_count": 91,
     "metadata": {},
     "output_type": "execute_result"
    }
   ],
   "source": [
    "len(my_list)"
   ]
  },
  {
   "cell_type": "code",
   "execution_count": 92,
   "id": "13d84586",
   "metadata": {},
   "outputs": [
    {
     "data": {
      "text/plain": [
       "5"
      ]
     },
     "execution_count": 92,
     "metadata": {},
     "output_type": "execute_result"
    }
   ],
   "source": [
    "my_list.__len__()"
   ]
  },
  {
   "cell_type": "code",
   "execution_count": 93,
   "id": "06a1457f",
   "metadata": {},
   "outputs": [
    {
     "data": {
      "text/plain": [
       "3"
      ]
     },
     "execution_count": 93,
     "metadata": {},
     "output_type": "execute_result"
    }
   ],
   "source": [
    "my_list[2]"
   ]
  },
  {
   "cell_type": "code",
   "execution_count": 94,
   "id": "f168dcd1",
   "metadata": {},
   "outputs": [
    {
     "data": {
      "text/plain": [
       "3"
      ]
     },
     "execution_count": 94,
     "metadata": {},
     "output_type": "execute_result"
    }
   ],
   "source": [
    "my_list.__getitem__(2)"
   ]
  },
  {
   "cell_type": "code",
   "execution_count": 95,
   "id": "b237535c",
   "metadata": {},
   "outputs": [
    {
     "data": {
      "text/plain": [
       "[5, 4, 3, 2, 1]"
      ]
     },
     "execution_count": 95,
     "metadata": {},
     "output_type": "execute_result"
    }
   ],
   "source": [
    "my_list[::-1]"
   ]
  },
  {
   "cell_type": "code",
   "execution_count": 96,
   "id": "06fc163e",
   "metadata": {},
   "outputs": [
    {
     "data": {
      "text/plain": [
       "[5, 4, 3, 2, 1]"
      ]
     },
     "execution_count": 96,
     "metadata": {},
     "output_type": "execute_result"
    }
   ],
   "source": [
    "my_list.__getitem__(slice(None, None, -1))"
   ]
  },
  {
   "cell_type": "code",
   "execution_count": 97,
   "id": "437ad83c",
   "metadata": {},
   "outputs": [
    {
     "name": "stdout",
     "output_type": "stream",
     "text": [
      "1\n",
      "4\n",
      "9\n",
      "16\n",
      "25\n"
     ]
    }
   ],
   "source": [
    "for item in my_list:\n",
    "    print(item ** 2)"
   ]
  },
  {
   "cell_type": "code",
   "execution_count": 98,
   "id": "cd146ff4",
   "metadata": {},
   "outputs": [
    {
     "name": "stdout",
     "output_type": "stream",
     "text": [
      "1\n",
      "2\n",
      "3\n",
      "4\n"
     ]
    }
   ],
   "source": [
    "index = 0\n",
    "\n",
    "print(my_list.__getitem__(index))\n",
    "index += 1\n",
    "print(my_list.__getitem__(index))\n",
    "index += 1\n",
    "print(my_list.__getitem__(index))\n",
    "index += 1\n",
    "print(my_list.__getitem__(index))"
   ]
  },
  {
   "cell_type": "code",
   "execution_count": 99,
   "id": "f5f3b199",
   "metadata": {},
   "outputs": [
    {
     "ename": "IndexError",
     "evalue": "list index out of range",
     "output_type": "error",
     "traceback": [
      "\u001b[0;31m---------------------------------------------------------------------------\u001b[0m",
      "\u001b[0;31mIndexError\u001b[0m                                Traceback (most recent call last)",
      "\u001b[1;32m/home/carl/Desktop/Matshub/deep_dive_2-A/class_files/sequence_types/custon_sequences_one.ipynb Cell 11\u001b[0m in \u001b[0;36m<cell line: 1>\u001b[0;34m()\u001b[0m\n\u001b[0;32m----> <a href='vscode-notebook-cell:/home/carl/Desktop/Matshub/deep_dive_2-A/class_files/sequence_types/custon_sequences_one.ipynb#X13sZmlsZQ%3D%3D?line=0'>1</a>\u001b[0m my_list[\u001b[39m100\u001b[39;49m]\n",
      "\u001b[0;31mIndexError\u001b[0m: list index out of range"
     ]
    }
   ],
   "source": [
    "my_list[100]"
   ]
  },
  {
   "cell_type": "code",
   "execution_count": null,
   "id": "d9ad9029",
   "metadata": {},
   "outputs": [
    {
     "name": "stdout",
     "output_type": "stream",
     "text": [
      "1\n",
      "4\n",
      "9\n",
      "16\n",
      "25\n"
     ]
    }
   ],
   "source": [
    "index = 0\n",
    "\n",
    "while True:\n",
    "    try:\n",
    "        item = my_list.__getitem__(index)\n",
    "    except IndexError:\n",
    "        break\n",
    "    print(item ** 2)\n",
    "    index += 1"
   ]
  },
  {
   "cell_type": "code",
   "execution_count": null,
   "id": "09fdbac2",
   "metadata": {},
   "outputs": [],
   "source": [
    "class Silly:\n",
    "    def __init__(self, n):\n",
    "        self.n = n\n",
    "    \n",
    "    def __len__(self):\n",
    "        print('Called __len__')\n",
    "        return 'this is silly!'\n",
    "    \n",
    "    def __getitem__(self, value):\n",
    "        print(f'You requested item at {value}')\n",
    "        return 'This is a silly element'"
   ]
  },
  {
   "cell_type": "code",
   "execution_count": null,
   "id": "4957fdea",
   "metadata": {},
   "outputs": [],
   "source": [
    "silly = Silly(10)"
   ]
  },
  {
   "cell_type": "code",
   "execution_count": null,
   "id": "215c72d0",
   "metadata": {},
   "outputs": [],
   "source": [
    "class Silly:\n",
    "    def __init__(self, n):\n",
    "        self.n = n\n",
    "    \n",
    "    def __len__(self):\n",
    "        print('Called __len__')\n",
    "        return self.n\n",
    "    \n",
    "    def __getitem__(self, value):\n",
    "        # print(f'You requested item at {value}')\n",
    "        return 'This is a silly element'"
   ]
  },
  {
   "cell_type": "code",
   "execution_count": null,
   "id": "3328cbfc",
   "metadata": {},
   "outputs": [],
   "source": [
    "silly = Silly(10)"
   ]
  },
  {
   "cell_type": "code",
   "execution_count": null,
   "id": "f5b7a1f6",
   "metadata": {},
   "outputs": [
    {
     "name": "stdout",
     "output_type": "stream",
     "text": [
      "You requested item at 100\n"
     ]
    },
    {
     "data": {
      "text/plain": [
       "'This is a silly element'"
      ]
     },
     "execution_count": 24,
     "metadata": {},
     "output_type": "execute_result"
    }
   ],
   "source": [
    "silly.__getitem__(100)"
   ]
  },
  {
   "cell_type": "code",
   "execution_count": null,
   "id": "5542f845",
   "metadata": {},
   "outputs": [
    {
     "name": "stdout",
     "output_type": "stream",
     "text": [
      "You requested item at 200\n"
     ]
    },
    {
     "data": {
      "text/plain": [
       "'This is a silly element'"
      ]
     },
     "execution_count": 25,
     "metadata": {},
     "output_type": "execute_result"
    }
   ],
   "source": [
    "silly.__getitem__(200)"
   ]
  },
  {
   "cell_type": "code",
   "execution_count": null,
   "id": "0d42f00a",
   "metadata": {},
   "outputs": [],
   "source": [
    "class Silly:\n",
    "    def __init__(self, n):\n",
    "        self.n = n\n",
    "    \n",
    "    def __len__(self):\n",
    "        print('Called __len__')\n",
    "        return self.n\n",
    "    \n",
    "    def __getitem__(self, value):\n",
    "        # print(f'You requested item at {value}')\n",
    "        if value < 0 or value >= self.n:\n",
    "            raise IndexError\n",
    "        else:\n",
    "            return 'This is a silly element'"
   ]
  },
  {
   "cell_type": "code",
   "execution_count": null,
   "id": "f8d80eca",
   "metadata": {},
   "outputs": [],
   "source": [
    "silly = Silly(10)"
   ]
  },
  {
   "cell_type": "code",
   "execution_count": null,
   "id": "39ed1316",
   "metadata": {},
   "outputs": [
    {
     "ename": "IndexError",
     "evalue": "",
     "output_type": "error",
     "traceback": [
      "\u001b[0;31m---------------------------------------------------------------------------\u001b[0m",
      "\u001b[0;31mIndexError\u001b[0m                                Traceback (most recent call last)",
      "\u001b[1;32m/home/carl/Desktop/Matshub/deep_dive_2-A/class_files/sequence_types/custon_sequences_one.ipynb Cell 21\u001b[0m in \u001b[0;36m<cell line: 1>\u001b[0;34m()\u001b[0m\n\u001b[0;32m----> <a href='vscode-notebook-cell:/home/carl/Desktop/Matshub/deep_dive_2-A/class_files/sequence_types/custon_sequences_one.ipynb#X33sZmlsZQ%3D%3D?line=0'>1</a>\u001b[0m silly\u001b[39m.\u001b[39;49m\u001b[39m__getitem__\u001b[39;49m(\u001b[39m100\u001b[39;49m)\n",
      "\u001b[1;32m/home/carl/Desktop/Matshub/deep_dive_2-A/class_files/sequence_types/custon_sequences_one.ipynb Cell 21\u001b[0m in \u001b[0;36mSilly.__getitem__\u001b[0;34m(self, value)\u001b[0m\n\u001b[1;32m      <a href='vscode-notebook-cell:/home/carl/Desktop/Matshub/deep_dive_2-A/class_files/sequence_types/custon_sequences_one.ipynb#X33sZmlsZQ%3D%3D?line=8'>9</a>\u001b[0m \u001b[39mdef\u001b[39;00m \u001b[39m__getitem__\u001b[39m(\u001b[39mself\u001b[39m, value):\n\u001b[1;32m     <a href='vscode-notebook-cell:/home/carl/Desktop/Matshub/deep_dive_2-A/class_files/sequence_types/custon_sequences_one.ipynb#X33sZmlsZQ%3D%3D?line=9'>10</a>\u001b[0m     \u001b[39m# print(f'You requested item at {value}')\u001b[39;00m\n\u001b[1;32m     <a href='vscode-notebook-cell:/home/carl/Desktop/Matshub/deep_dive_2-A/class_files/sequence_types/custon_sequences_one.ipynb#X33sZmlsZQ%3D%3D?line=10'>11</a>\u001b[0m     \u001b[39mif\u001b[39;00m value \u001b[39m>\u001b[39m\u001b[39m=\u001b[39m \u001b[39mself\u001b[39m\u001b[39m.\u001b[39mn:\n\u001b[0;32m---> <a href='vscode-notebook-cell:/home/carl/Desktop/Matshub/deep_dive_2-A/class_files/sequence_types/custon_sequences_one.ipynb#X33sZmlsZQ%3D%3D?line=11'>12</a>\u001b[0m         \u001b[39mraise\u001b[39;00m \u001b[39mIndexError\u001b[39;00m\n\u001b[1;32m     <a href='vscode-notebook-cell:/home/carl/Desktop/Matshub/deep_dive_2-A/class_files/sequence_types/custon_sequences_one.ipynb#X33sZmlsZQ%3D%3D?line=12'>13</a>\u001b[0m     \u001b[39melse\u001b[39;00m:\n\u001b[1;32m     <a href='vscode-notebook-cell:/home/carl/Desktop/Matshub/deep_dive_2-A/class_files/sequence_types/custon_sequences_one.ipynb#X33sZmlsZQ%3D%3D?line=13'>14</a>\u001b[0m         \u001b[39mreturn\u001b[39;00m \u001b[39m'\u001b[39m\u001b[39mThis is a silly element\u001b[39m\u001b[39m'\u001b[39m\n",
      "\u001b[0;31mIndexError\u001b[0m: "
     ]
    }
   ],
   "source": [
    "silly.__getitem__(100)"
   ]
  },
  {
   "cell_type": "code",
   "execution_count": null,
   "id": "7d1b5c0a",
   "metadata": {},
   "outputs": [
    {
     "name": "stdout",
     "output_type": "stream",
     "text": [
      "This is a silly element\n",
      "This is a silly element\n",
      "This is a silly element\n",
      "This is a silly element\n",
      "This is a silly element\n",
      "This is a silly element\n",
      "This is a silly element\n",
      "This is a silly element\n",
      "This is a silly element\n",
      "This is a silly element\n"
     ]
    }
   ],
   "source": [
    "for item in silly:\n",
    "    print(item)"
   ]
  },
  {
   "cell_type": "code",
   "execution_count": null,
   "id": "04d6dc2e",
   "metadata": {},
   "outputs": [
    {
     "data": {
      "text/plain": [
       "['This is a silly elementThis is a silly element',\n",
       " 'This is a silly elementThis is a silly element',\n",
       " 'This is a silly elementThis is a silly element',\n",
       " 'This is a silly elementThis is a silly element',\n",
       " 'This is a silly elementThis is a silly element',\n",
       " 'This is a silly elementThis is a silly element',\n",
       " 'This is a silly elementThis is a silly element',\n",
       " 'This is a silly elementThis is a silly element',\n",
       " 'This is a silly elementThis is a silly element',\n",
       " 'This is a silly elementThis is a silly element']"
      ]
     },
     "execution_count": 32,
     "metadata": {},
     "output_type": "execute_result"
    }
   ],
   "source": [
    "[item * 2 for item in silly]"
   ]
  },
  {
   "cell_type": "code",
   "execution_count": null,
   "id": "f138818d",
   "metadata": {},
   "outputs": [],
   "source": [
    "class Silly:\n",
    "    def __init__(self, n):\n",
    "        self.n = n\n",
    "    \n",
    "    # def __len__(self):\n",
    "    #     print('Called __len__')\n",
    "    #     return self.n\n",
    "    \n",
    "    def __getitem__(self, value):\n",
    "        print(type(value))\n",
    "        print(f'You requested item at {value}')\n",
    "        return 'This is a silly element'"
   ]
  },
  {
   "cell_type": "code",
   "execution_count": null,
   "id": "0e01445a",
   "metadata": {},
   "outputs": [],
   "source": [
    "silly = Silly(10)"
   ]
  },
  {
   "cell_type": "code",
   "execution_count": null,
   "id": "ecea5212",
   "metadata": {},
   "outputs": [
    {
     "name": "stdout",
     "output_type": "stream",
     "text": [
      "<class 'slice'>\n",
      "You requested item at slice(0, 5, 2)\n"
     ]
    },
    {
     "data": {
      "text/plain": [
       "'This is a silly element'"
      ]
     },
     "execution_count": 38,
     "metadata": {},
     "output_type": "execute_result"
    }
   ],
   "source": [
    "silly[0:5:2]"
   ]
  },
  {
   "cell_type": "code",
   "execution_count": null,
   "id": "5e9e65af",
   "metadata": {},
   "outputs": [
    {
     "name": "stdout",
     "output_type": "stream",
     "text": [
      "<class 'int'>\n",
      "You requested item at 0\n"
     ]
    },
    {
     "data": {
      "text/plain": [
       "'This is a silly element'"
      ]
     },
     "execution_count": 39,
     "metadata": {},
     "output_type": "execute_result"
    }
   ],
   "source": [
    "silly[0]"
   ]
  },
  {
   "cell_type": "code",
   "execution_count": null,
   "id": "85718966",
   "metadata": {},
   "outputs": [],
   "source": [
    "from functools import lru_cache\n",
    "\n",
    "@lru_cache(2 ** 10)\n",
    "def fib(n):\n",
    "    if n < 2:\n",
    "        return 1\n",
    "    else:\n",
    "        return fib(n-1) + fib(n-2)"
   ]
  },
  {
   "cell_type": "code",
   "execution_count": null,
   "id": "5450edac",
   "metadata": {},
   "outputs": [
    {
     "data": {
      "text/plain": [
       "8"
      ]
     },
     "execution_count": 43,
     "metadata": {},
     "output_type": "execute_result"
    }
   ],
   "source": [
    "fib(5)"
   ]
  },
  {
   "cell_type": "code",
   "execution_count": null,
   "id": "99ff9f99",
   "metadata": {},
   "outputs": [],
   "source": [
    "from functools import lru_cache\n",
    "class Fib:\n",
    "    def __init__(self, n):\n",
    "        self.n = n\n",
    "    \n",
    "    def __len__(self):\n",
    "        return self.n\n",
    "    \n",
    "    def __getitem__(self, s):\n",
    "        if isinstance(s, int):\n",
    "            if s < 0:\n",
    "                s = self.n + e\n",
    "            if s < 0 or s >= self.n:\n",
    "                raise IndexError\n",
    "        else:\n",
    "            return Fib._fib(s)\n",
    "    \n",
    "    @staticmethod\n",
    "    @lru_cache(2*10)\n",
    "    def _fib(n):\n",
    "        if n < 2:\n",
    "            return 1\n",
    "        else:\n",
    "            return Fib._fib(n-1) + Fib._fib(n-2)"
   ]
  },
  {
   "cell_type": "code",
   "execution_count": null,
   "id": "ccc90046",
   "metadata": {},
   "outputs": [],
   "source": [
    "fib = Fib(10)"
   ]
  },
  {
   "cell_type": "code",
   "execution_count": null,
   "id": "0e785380",
   "metadata": {},
   "outputs": [
    {
     "data": {
      "text/plain": [
       "[None, None, None, None, None, None, None, None, None, None]"
      ]
     },
     "execution_count": 82,
     "metadata": {},
     "output_type": "execute_result"
    }
   ],
   "source": [
    "list(fib)"
   ]
  },
  {
   "cell_type": "code",
   "execution_count": null,
   "id": "853296b6",
   "metadata": {},
   "outputs": [],
   "source": [
    "fib[0]"
   ]
  },
  {
   "cell_type": "code",
   "execution_count": null,
   "id": "15fc9635",
   "metadata": {},
   "outputs": [],
   "source": [
    "fib[9]"
   ]
  },
  {
   "cell_type": "code",
   "execution_count": 102,
   "id": "f23e0402",
   "metadata": {},
   "outputs": [],
   "source": [
    "from functools import lru_cache\n",
    "class Fib:\n",
    "    def __init__(self, n):\n",
    "        self.n = n\n",
    "    \n",
    "    def __len__(self):\n",
    "        return self.n\n",
    "    \n",
    "    def __getitem__(self, s):\n",
    "        if isinstance(s, int):\n",
    "            if s < 0:\n",
    "                s = self.n + e\n",
    "            if s < 0 or s >= self.n:\n",
    "                raise IndexError\n",
    "            else:\n",
    "                return Fib._fib(s)\n",
    "        else:\n",
    "            range_tuple = s.indices(self.n)\n",
    "            print(range_tuple)\n",
    "\n",
    "\n",
    "    @staticmethod\n",
    "    @lru_cache(2*10)\n",
    "    def _fib(n):\n",
    "        if n < 2:\n",
    "            return 1\n",
    "        else:\n",
    "            return Fib._fib(n-1) + Fib._fib(n-2)"
   ]
  },
  {
   "cell_type": "code",
   "execution_count": 103,
   "id": "0d7621bd",
   "metadata": {},
   "outputs": [],
   "source": [
    "fib = Fib(10)"
   ]
  },
  {
   "cell_type": "code",
   "execution_count": 106,
   "id": "2d83370c",
   "metadata": {},
   "outputs": [
    {
     "data": {
      "text/plain": [
       "[9, 8, 7]"
      ]
     },
     "execution_count": 106,
     "metadata": {},
     "output_type": "execute_result"
    }
   ],
   "source": [
    "list(range(9, 6, -1))"
   ]
  },
  {
   "cell_type": "code",
   "execution_count": 110,
   "id": "ac3ad7bd",
   "metadata": {},
   "outputs": [],
   "source": [
    "from functools import lru_cache\n",
    "class Fib:\n",
    "    def __init__(self, n):\n",
    "        self.n = n\n",
    "    \n",
    "    def __len__(self):\n",
    "        return self.n\n",
    "    \n",
    "    def __getitem__(self, s):\n",
    "        if isinstance(s, int):\n",
    "            if s < 0:\n",
    "                s = self.n + e\n",
    "            if s < 0 or s >= self.n:\n",
    "                raise IndexError\n",
    "            else:\n",
    "                return Fib._fib(s)\n",
    "        else:\n",
    "            start, stop, step = s.indices(self.n)\n",
    "            rng = range(start, stop, step)\n",
    "            return [Fib._fib(i) for i in rng]\n",
    "\n",
    "    @staticmethod\n",
    "    @lru_cache(2*10)\n",
    "    def _fib(n):\n",
    "        if n < 2:\n",
    "            return 1\n",
    "        else:\n",
    "            return Fib._fib(n-1) + Fib._fib(n-2)"
   ]
  },
  {
   "cell_type": "code",
   "execution_count": 107,
   "id": "0ce6a230",
   "metadata": {},
   "outputs": [],
   "source": [
    "fib = Fib(10)"
   ]
  },
  {
   "cell_type": "code",
   "execution_count": 108,
   "id": "1b343ea0",
   "metadata": {},
   "outputs": [
    {
     "data": {
      "text/plain": [
       "[]"
      ]
     },
     "execution_count": 108,
     "metadata": {},
     "output_type": "execute_result"
    }
   ],
   "source": [
    "list()"
   ]
  },
  {
   "cell_type": "code",
   "execution_count": 112,
   "id": "ff72b6c9",
   "metadata": {},
   "outputs": [
    {
     "data": {
      "text/plain": [
       "[1, 1, 2, 3, 5, 8, 13, 21, 34, 55]"
      ]
     },
     "execution_count": 112,
     "metadata": {},
     "output_type": "execute_result"
    }
   ],
   "source": [
    "list(fib)"
   ]
  },
  {
   "cell_type": "code",
   "execution_count": 114,
   "id": "a02bfe1a",
   "metadata": {},
   "outputs": [
    {
     "data": {
      "text/plain": [
       "[9, 8, 7]"
      ]
     },
     "execution_count": 114,
     "metadata": {},
     "output_type": "execute_result"
    }
   ],
   "source": [
    "list(range(9, 6, -1))"
   ]
  }
 ],
 "metadata": {
  "kernelspec": {
   "display_name": "base",
   "language": "python",
   "name": "python3"
  },
  "language_info": {
   "codemirror_mode": {
    "name": "ipython",
    "version": 3
   },
   "file_extension": ".py",
   "mimetype": "text/x-python",
   "name": "python",
   "nbconvert_exporter": "python",
   "pygments_lexer": "ipython3",
   "version": "3.9.12"
  },
  "vscode": {
   "interpreter": {
    "hash": "143d2740fa7885280d88cdaad3dbdadb51fa40347825ef5e3d2acba7c4a72194"
   }
  }
 },
 "nbformat": 4,
 "nbformat_minor": 5
}
