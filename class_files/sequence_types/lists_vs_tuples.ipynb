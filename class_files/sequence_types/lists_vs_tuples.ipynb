{
 "cells": [
  {
   "cell_type": "markdown",
   "id": "44d2e412",
   "metadata": {},
   "source": [
    "                        Lists Vs Tuples"
   ]
  },
  {
   "cell_type": "markdown",
   "id": "eb334a24",
   "metadata": {},
   "source": [
    "Wikipedia's defination of folding:\n",
    "\n",
    "Constatn folding is the process of recognizing and evaluating constant EXPRESSIONS AT COMPILE TIME RATHER THAN COMPUTING THEM AT RUNTIME."
   ]
  },
  {
   "cell_type": "code",
   "execution_count": 1,
   "id": "d5e7b86e",
   "metadata": {},
   "outputs": [],
   "source": [
    "from dis import dis"
   ]
  },
  {
   "cell_type": "code",
   "execution_count": 2,
   "id": "e279382c",
   "metadata": {},
   "outputs": [
    {
     "data": {
      "text/plain": [
       "(1, 2, 3)"
      ]
     },
     "execution_count": 2,
     "metadata": {},
     "output_type": "execute_result"
    }
   ],
   "source": [
    "(1, 2, 3)"
   ]
  },
  {
   "cell_type": "code",
   "execution_count": 3,
   "id": "09425a60",
   "metadata": {},
   "outputs": [
    {
     "data": {
      "text/plain": [
       "[1, 2, 3]"
      ]
     },
     "execution_count": 3,
     "metadata": {},
     "output_type": "execute_result"
    }
   ],
   "source": [
    "[1, 2, 3]"
   ]
  },
  {
   "cell_type": "code",
   "execution_count": 7,
   "id": "3bbb339d",
   "metadata": {},
   "outputs": [
    {
     "name": "stdout",
     "output_type": "stream",
     "text": [
      "  1           0 LOAD_CONST               0 ((1, 2, 3, 'a'))\n",
      "              2 RETURN_VALUE\n"
     ]
    }
   ],
   "source": [
    "dis(compile('(1, 2, 3, \"a\")', 'string', 'eval'))"
   ]
  },
  {
   "cell_type": "code",
   "execution_count": 8,
   "id": "cbb0605d",
   "metadata": {},
   "outputs": [
    {
     "name": "stdout",
     "output_type": "stream",
     "text": [
      "  1           0 BUILD_LIST               0\n",
      "              2 LOAD_CONST               0 ((1, 2, 3, 'a'))\n",
      "              4 LIST_EXTEND              1\n",
      "              6 RETURN_VALUE\n"
     ]
    }
   ],
   "source": [
    "dis(compile('[1, 2, 3, \"a\"]', 'string', 'eval'))"
   ]
  },
  {
   "cell_type": "code",
   "execution_count": 10,
   "id": "58f03933",
   "metadata": {},
   "outputs": [
    {
     "name": "stdout",
     "output_type": "stream",
     "text": [
      "  1           0 LOAD_CONST               0 (1)\n",
      "              2 LOAD_CONST               1 (2)\n",
      "              4 LOAD_CONST               2 (3)\n",
      "              6 LOAD_CONST               3 (10)\n",
      "              8 LOAD_CONST               4 (20)\n",
      "             10 BUILD_LIST               2\n",
      "             12 BUILD_TUPLE              4\n",
      "             14 RETURN_VALUE\n"
     ]
    }
   ],
   "source": [
    "dis(compile('(1, 2, 3, [10, 20])', 'string', 'eval'))"
   ]
  },
  {
   "cell_type": "code",
   "execution_count": 11,
   "id": "e61e8490",
   "metadata": {},
   "outputs": [],
   "source": [
    "from timeit import timeit"
   ]
  },
  {
   "cell_type": "code",
   "execution_count": 12,
   "id": "44a75d96",
   "metadata": {},
   "outputs": [
    {
     "data": {
      "text/plain": [
       "0.11060999999995147"
      ]
     },
     "execution_count": 12,
     "metadata": {},
     "output_type": "execute_result"
    }
   ],
   "source": [
    "timeit(\"(1, 2, 3, 4, 5, 6, 7, 8, 9)\", number=10_000_000)"
   ]
  },
  {
   "cell_type": "code",
   "execution_count": 13,
   "id": "b766d939",
   "metadata": {},
   "outputs": [
    {
     "data": {
      "text/plain": [
       "0.7078212000001258"
      ]
     },
     "execution_count": 13,
     "metadata": {},
     "output_type": "execute_result"
    }
   ],
   "source": [
    "timeit(\"[1, 2, 3, 4, 5, 6, 7, 8, 9]\", number=10_000_000)"
   ]
  },
  {
   "cell_type": "code",
   "execution_count": 14,
   "id": "b70e2a03",
   "metadata": {},
   "outputs": [],
   "source": [
    "def fn1():\n",
    "    pass"
   ]
  },
  {
   "cell_type": "code",
   "execution_count": 17,
   "id": "71e6a366",
   "metadata": {},
   "outputs": [
    {
     "name": "stdout",
     "output_type": "stream",
     "text": [
      "  1           0 LOAD_CONST               0 (1)\n",
      "              2 LOAD_CONST               1 (2)\n",
      "              4 LOAD_CONST               2 (3)\n",
      "              6 LOAD_CONST               3 (10)\n",
      "              8 LOAD_CONST               4 (20)\n",
      "             10 BUILD_LIST               2\n",
      "             12 BUILD_TUPLE              4\n",
      "             14 RETURN_VALUE\n"
     ]
    }
   ],
   "source": [
    "dis(compile(\"(fn1, 10, 20)\", 'string', 'eval'))"
   ]
  },
  {
   "cell_type": "code",
   "execution_count": 18,
   "id": "fe45da6d",
   "metadata": {},
   "outputs": [
    {
     "name": "stdout",
     "output_type": "stream",
     "text": [
      "  1           0 LOAD_CONST               0 (1)\n",
      "              2 LOAD_CONST               1 (2)\n",
      "              4 LOAD_CONST               2 (3)\n",
      "              6 LOAD_CONST               3 (10)\n",
      "              8 LOAD_CONST               4 (20)\n",
      "             10 BUILD_LIST               2\n",
      "             12 BUILD_TUPLE              4\n",
      "             14 RETURN_VALUE\n"
     ]
    }
   ],
   "source": [
    "dis(compile(\"(1, 2, 3, [10, 20])\", 'string', 'eval'))"
   ]
  },
  {
   "cell_type": "code",
   "execution_count": 20,
   "id": "9ad01785",
   "metadata": {},
   "outputs": [
    {
     "name": "stdout",
     "output_type": "stream",
     "text": [
      "  1           0 LOAD_CONST               0 (1)\n",
      "              2 LOAD_CONST               1 (2)\n",
      "              4 LOAD_CONST               2 (3)\n",
      "              6 LOAD_CONST               3 (10)\n",
      "              8 LOAD_CONST               4 (20)\n",
      "             10 BUILD_LIST               2\n",
      "             12 BUILD_LIST               4\n",
      "             14 RETURN_VALUE\n"
     ]
    }
   ],
   "source": [
    "dis(compile(\"[1, 2, 3, [10, 20]]\", 'string', 'eval'))"
   ]
  },
  {
   "cell_type": "code",
   "execution_count": 21,
   "id": "12a39629",
   "metadata": {},
   "outputs": [
    {
     "data": {
      "text/plain": [
       "0.15978309999991325"
      ]
     },
     "execution_count": 21,
     "metadata": {},
     "output_type": "execute_result"
    }
   ],
   "source": [
    "timeit(\"([1, 2], 10, 20)\", number=1_000_000)"
   ]
  },
  {
   "cell_type": "code",
   "execution_count": 23,
   "id": "aa83061a",
   "metadata": {},
   "outputs": [
    {
     "data": {
      "text/plain": [
       "0.1230068999998366"
      ]
     },
     "execution_count": 23,
     "metadata": {},
     "output_type": "execute_result"
    }
   ],
   "source": [
    "timeit(\"[[1, 2], 10, 20]\", number=1_000_000)"
   ]
  },
  {
   "cell_type": "code",
   "execution_count": 24,
   "id": "e710e916",
   "metadata": {},
   "outputs": [],
   "source": [
    "l1 = [1, 2, 3, 4, 5, 6, 7, 8, 9]\n",
    "t1 = (1, 2, 3, 4, 5, 6, 7, 8, 9)"
   ]
  },
  {
   "cell_type": "code",
   "execution_count": 26,
   "id": "61b8f1b4",
   "metadata": {},
   "outputs": [
    {
     "data": {
      "text/plain": [
       "(1760080987904, 1760113551552)"
      ]
     },
     "execution_count": 26,
     "metadata": {},
     "output_type": "execute_result"
    }
   ],
   "source": [
    "id(l1), id(t1)"
   ]
  },
  {
   "cell_type": "code",
   "execution_count": 28,
   "id": "54bf0a7a",
   "metadata": {},
   "outputs": [
    {
     "data": {
      "text/plain": [
       "(1760080987904, 1760082076096)"
      ]
     },
     "execution_count": 28,
     "metadata": {},
     "output_type": "execute_result"
    }
   ],
   "source": [
    "l2 = list(l1)\n",
    "id(l1), id(l2)"
   ]
  },
  {
   "cell_type": "code",
   "execution_count": 29,
   "id": "c318176f",
   "metadata": {},
   "outputs": [
    {
     "data": {
      "text/plain": [
       "(1760113551552, 1760113551552)"
      ]
     },
     "execution_count": 29,
     "metadata": {},
     "output_type": "execute_result"
    }
   ],
   "source": [
    "t2 = tuple(t1)\n",
    "id(t1), id(t2)"
   ]
  },
  {
   "cell_type": "code",
   "execution_count": 30,
   "id": "27e13314",
   "metadata": {},
   "outputs": [
    {
     "data": {
      "text/plain": [
       "0.3580766999998559"
      ]
     },
     "execution_count": 30,
     "metadata": {},
     "output_type": "execute_result"
    }
   ],
   "source": [
    "timeit('tuple((1, 2, 3, 4, 5))', number=5_000_000)"
   ]
  },
  {
   "cell_type": "code",
   "execution_count": 31,
   "id": "c175f301",
   "metadata": {},
   "outputs": [
    {
     "data": {
      "text/plain": [
       "0.5462090000000899"
      ]
     },
     "execution_count": 31,
     "metadata": {},
     "output_type": "execute_result"
    }
   ],
   "source": [
    "timeit('list((1, 2, 3, 4, 5))', number=5_000_000)"
   ]
  },
  {
   "cell_type": "markdown",
   "id": "59553018",
   "metadata": {},
   "source": [
    "            Storage Efficiency"
   ]
  },
  {
   "cell_type": "code",
   "execution_count": 34,
   "id": "9336666f",
   "metadata": {},
   "outputs": [
    {
     "name": "stdout",
     "output_type": "stream",
     "text": [
      "1 items: 48\n",
      "2 items: 56\n",
      "3 items: 64\n",
      "4 items: 72\n",
      "5 items: 80\n",
      "6 items: 88\n",
      "7 items: 96\n",
      "8 items: 104\n",
      "9 items: 112\n",
      "10 items: 120\n"
     ]
    }
   ],
   "source": [
    "for i in range(10):\n",
    "    c = tuple(range(i+1))\n",
    "    size_c = sys.getsizeof(c)\n",
    "    print(f'{i+1} items: {size_c}')"
   ]
  },
  {
   "cell_type": "code",
   "execution_count": 40,
   "id": "015c74bf",
   "metadata": {},
   "outputs": [
    {
     "name": "stdout",
     "output_type": "stream",
     "text": [
      "1 items: (40, 48), delta=40\n",
      "2 items: (48, 56), delta=48\n",
      "3 items: (56, 64), delta=56\n",
      "4 items: (64, 72), delta=64\n",
      "5 items: (72, 80), delta=72\n",
      "6 items: (80, 88), delta=80\n",
      "7 items: (88, 96), delta=88\n",
      "8 items: (96, 104), delta=96\n",
      "9 items: (104, 112), delta=104\n",
      "10 items: (112, 120), delta=112\n"
     ]
    }
   ],
   "source": [
    "t = tuple()\n",
    "prev = sys.getsizeof(t)\n",
    "for i in range(10):\n",
    "    c = tuple(range(i+1))\n",
    "    size_c = sys.getsizeof(c)\n",
    "    delta, prev = size_c = prev, size_c\n",
    "    print(f'{i+1} items: {size_c}, delta={delta}')"
   ]
  },
  {
   "cell_type": "code",
   "execution_count": 42,
   "id": "54396288",
   "metadata": {},
   "outputs": [
    {
     "name": "stdout",
     "output_type": "stream",
     "text": [
      "1 items: (56, 48), delta=56\n",
      "2 items: (48, 56), delta=48\n",
      "3 items: (56, 64), delta=56\n",
      "4 items: (64, 72), delta=64\n",
      "5 items: (72, 80), delta=72\n",
      "6 items: (80, 88), delta=80\n",
      "7 items: (88, 96), delta=88\n",
      "8 items: (96, 104), delta=96\n",
      "9 items: (104, 112), delta=104\n",
      "10 items: (112, 120), delta=112\n"
     ]
    }
   ],
   "source": [
    "l = list()\n",
    "prev = sys.getsizeof(l)\n",
    "for i in range(10):\n",
    "    c = tuple(range(i+1))\n",
    "    size_c = sys.getsizeof(c)\n",
    "    delta, prev = size_c = prev, size_c\n",
    "    print(f'{i+1} items: {size_c}, delta={delta}')"
   ]
  },
  {
   "cell_type": "code",
   "execution_count": 45,
   "id": "18e2fcf2",
   "metadata": {},
   "outputs": [
    {
     "name": "stdout",
     "output_type": "stream",
     "text": [
      "0 items: 56\n"
     ]
    },
    {
     "ename": "TypeError",
     "evalue": "unsupported operand type(s) for +: 'int' and 'list'",
     "output_type": "error",
     "traceback": [
      "\u001b[1;31m---------------------------------------------------------------------------\u001b[0m",
      "\u001b[1;31mTypeError\u001b[0m                                 Traceback (most recent call last)",
      "\u001b[1;32mc:\\Users\\pgold\\MatsHub\\deep_dive_2-A\\class_files\\sequence_types\\lists_vs_tuples.ipynb Cell 28\u001b[0m in \u001b[0;36m<cell line: 4>\u001b[1;34m()\u001b[0m\n\u001b[0;32m      <a href='vscode-notebook-cell:/c%3A/Users/pgold/MatsHub/deep_dive_2-A/class_files/sequence_types/lists_vs_tuples.ipynb#X42sZmlsZQ%3D%3D?line=5'>6</a>\u001b[0m size_c \u001b[39m=\u001b[39m sys\u001b[39m.\u001b[39mgetsizeof(c)\n\u001b[0;32m      <a href='vscode-notebook-cell:/c%3A/Users/pgold/MatsHub/deep_dive_2-A/class_files/sequence_types/lists_vs_tuples.ipynb#X42sZmlsZQ%3D%3D?line=6'>7</a>\u001b[0m delta, prev \u001b[39m=\u001b[39m size_c \u001b[39m-\u001b[39m prev, size_c\n\u001b[1;32m----> <a href='vscode-notebook-cell:/c%3A/Users/pgold/MatsHub/deep_dive_2-A/class_files/sequence_types/lists_vs_tuples.ipynb#X42sZmlsZQ%3D%3D?line=7'>8</a>\u001b[0m \u001b[39mprint\u001b[39m(\u001b[39mf\u001b[39m\u001b[39m'\u001b[39m\u001b[39m{\u001b[39;00mi\u001b[39m+\u001b[39ml\u001b[39m}\u001b[39;00m\u001b[39m items: \u001b[39m\u001b[39m{\u001b[39;00msize_c\u001b[39m}\u001b[39;00m\u001b[39m, delta=\u001b[39m\u001b[39m{\u001b[39;00mdelta\u001b[39m}\u001b[39;00m\u001b[39m'\u001b[39m)\n",
      "\u001b[1;31mTypeError\u001b[0m: unsupported operand type(s) for +: 'int' and 'list'"
     ]
    }
   ],
   "source": [
    "c = list()\n",
    "prev = sys.getsizeof(c)\n",
    "print(f'0 items: {prev}')\n",
    "for i in range(255):\n",
    "    c.append(i)\n",
    "    size_c = sys.getsizeof(c)\n",
    "    delta, prev = size_c - prev, size_c\n",
    "    print(f'{i+l} items: {size_c}, delta={delta}')"
   ]
  },
  {
   "cell_type": "code",
   "execution_count": 46,
   "id": "1dea713d",
   "metadata": {},
   "outputs": [],
   "source": [
    "t = tuple(range(100_000))\n",
    "l = list(t)"
   ]
  },
  {
   "cell_type": "code",
   "execution_count": 47,
   "id": "9fdac041",
   "metadata": {},
   "outputs": [
    {
     "data": {
      "text/plain": [
       "0.37875759999951697"
      ]
     },
     "execution_count": 47,
     "metadata": {},
     "output_type": "execute_result"
    }
   ],
   "source": [
    "timeit('t[99_999]', globals=globals(), number=10_000_000)"
   ]
  },
  {
   "cell_type": "code",
   "execution_count": 48,
   "id": "a4d5f002",
   "metadata": {},
   "outputs": [
    {
     "data": {
      "text/plain": [
       "0.39127840000037395"
      ]
     },
     "execution_count": 48,
     "metadata": {},
     "output_type": "execute_result"
    }
   ],
   "source": [
    "timeit('l[99_999]', globals=globals(), number=10_000_000)"
   ]
  }
 ],
 "metadata": {
  "kernelspec": {
   "display_name": "Python 3.9.12 ('base')",
   "language": "python",
   "name": "python3"
  },
  "language_info": {
   "codemirror_mode": {
    "name": "ipython",
    "version": 3
   },
   "file_extension": ".py",
   "mimetype": "text/x-python",
   "name": "python",
   "nbconvert_exporter": "python",
   "pygments_lexer": "ipython3",
   "version": "3.9.12"
  },
  "vscode": {
   "interpreter": {
    "hash": "a624adbc5e596fddf72740b255048309200567f23df85867ce297e9f9d364c1b"
   }
  }
 },
 "nbformat": 4,
 "nbformat_minor": 5
}
