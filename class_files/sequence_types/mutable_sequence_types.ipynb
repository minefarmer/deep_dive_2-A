{
 "cells": [
  {
   "cell_type": "markdown",
   "id": "ad42cda8",
   "metadata": {},
   "source": [
    "                        Mutable Sequence Tyoes"
   ]
  },
  {
   "cell_type": "code",
   "execution_count": 2,
   "id": "1d251db4",
   "metadata": {},
   "outputs": [],
   "source": [
    "l = [1, 2, 3, 4, 5]"
   ]
  },
  {
   "cell_type": "code",
   "execution_count": 3,
   "id": "6e2c65e4",
   "metadata": {},
   "outputs": [
    {
     "name": "stdout",
     "output_type": "stream",
     "text": [
      "1828389297280\n"
     ]
    }
   ],
   "source": [
    "print(id(l))"
   ]
  },
  {
   "cell_type": "code",
   "execution_count": 4,
   "id": "ff95d0bf",
   "metadata": {},
   "outputs": [
    {
     "data": {
      "text/plain": [
       "1"
      ]
     },
     "execution_count": 4,
     "metadata": {},
     "output_type": "execute_result"
    }
   ],
   "source": [
    "l[0]"
   ]
  },
  {
   "cell_type": "code",
   "execution_count": 5,
   "id": "c77b355a",
   "metadata": {},
   "outputs": [],
   "source": [
    "l[0] ='a'"
   ]
  },
  {
   "cell_type": "code",
   "execution_count": 6,
   "id": "f01f1d17",
   "metadata": {},
   "outputs": [
    {
     "data": {
      "text/plain": [
       "['a', 2, 3, 4, 5]"
      ]
     },
     "execution_count": 6,
     "metadata": {},
     "output_type": "execute_result"
    }
   ],
   "source": [
    "l"
   ]
  },
  {
   "cell_type": "code",
   "execution_count": 7,
   "id": "bf2251b2",
   "metadata": {},
   "outputs": [
    {
     "data": {
      "text/plain": [
       "1828389297280"
      ]
     },
     "execution_count": 7,
     "metadata": {},
     "output_type": "execute_result"
    }
   ],
   "source": [
    "id(l)"
   ]
  },
  {
   "cell_type": "code",
   "execution_count": 8,
   "id": "78e47c70",
   "metadata": {},
   "outputs": [
    {
     "name": "stdout",
     "output_type": "stream",
     "text": [
      "1828389093312 [1, 2, 3, 4, 5]\n"
     ]
    }
   ],
   "source": [
    "l = [1, 2, 3, 4, 5]\n",
    "print(id(l), l)"
   ]
  },
  {
   "cell_type": "code",
   "execution_count": 9,
   "id": "21d19823",
   "metadata": {},
   "outputs": [],
   "source": [
    "suits = ['Spades', 'Hearts', 'Diamons', 'Clubs']"
   ]
  },
  {
   "cell_type": "code",
   "execution_count": 10,
   "id": "ec88e98e",
   "metadata": {},
   "outputs": [],
   "source": [
    "alias = suits"
   ]
  },
  {
   "cell_type": "code",
   "execution_count": 11,
   "id": "70425a89",
   "metadata": {},
   "outputs": [
    {
     "data": {
      "text/plain": [
       "(1828388947328, 1828388947328)"
      ]
     },
     "execution_count": 11,
     "metadata": {},
     "output_type": "execute_result"
    }
   ],
   "source": [
    "id(alias), id(suits)"
   ]
  },
  {
   "cell_type": "code",
   "execution_count": 12,
   "id": "8a3f43d7",
   "metadata": {},
   "outputs": [
    {
     "data": {
      "text/plain": [
       "<function list.clear()>"
      ]
     },
     "execution_count": 12,
     "metadata": {},
     "output_type": "execute_result"
    }
   ],
   "source": [
    "alias.clear"
   ]
  },
  {
   "cell_type": "code",
   "execution_count": 13,
   "id": "6490b379",
   "metadata": {},
   "outputs": [
    {
     "data": {
      "text/plain": [
       "['Spades', 'Hearts', 'Diamons', 'Clubs']"
      ]
     },
     "execution_count": 13,
     "metadata": {},
     "output_type": "execute_result"
    }
   ],
   "source": [
    "alias"
   ]
  },
  {
   "cell_type": "code",
   "execution_count": 14,
   "id": "2b87360b",
   "metadata": {},
   "outputs": [],
   "source": [
    "alias.clear()"
   ]
  },
  {
   "cell_type": "code",
   "execution_count": 15,
   "id": "bb1e01e5",
   "metadata": {},
   "outputs": [
    {
     "data": {
      "text/plain": [
       "[]"
      ]
     },
     "execution_count": 15,
     "metadata": {},
     "output_type": "execute_result"
    }
   ],
   "source": [
    "alias"
   ]
  },
  {
   "cell_type": "code",
   "execution_count": 16,
   "id": "6e62fde0",
   "metadata": {},
   "outputs": [
    {
     "data": {
      "text/plain": [
       "[]"
      ]
     },
     "execution_count": 16,
     "metadata": {},
     "output_type": "execute_result"
    }
   ],
   "source": [
    "suits"
   ]
  },
  {
   "cell_type": "code",
   "execution_count": 17,
   "id": "32294ea6",
   "metadata": {},
   "outputs": [],
   "source": [
    "suits = ['Spades', 'Hearts', 'Diamons', 'Clubs']"
   ]
  },
  {
   "cell_type": "code",
   "execution_count": 19,
   "id": "1f6b89f7",
   "metadata": {},
   "outputs": [],
   "source": [
    "def something(l):\n",
    "    l.append('None')"
   ]
  },
  {
   "cell_type": "code",
   "execution_count": null,
   "id": "f296d796",
   "metadata": {},
   "outputs": [],
   "source": [
    "something(suits)"
   ]
  },
  {
   "cell_type": "code",
   "execution_count": 20,
   "id": "ff09b0b9",
   "metadata": {},
   "outputs": [
    {
     "data": {
      "text/plain": [
       "['Spades', 'Hearts', 'Diamons', 'Clubs']"
      ]
     },
     "execution_count": 20,
     "metadata": {},
     "output_type": "execute_result"
    }
   ],
   "source": [
    "suits"
   ]
  },
  {
   "cell_type": "code",
   "execution_count": 21,
   "id": "9af6ba46",
   "metadata": {},
   "outputs": [],
   "source": [
    "def something(l):\n",
    "    l.clear()"
   ]
  },
  {
   "cell_type": "code",
   "execution_count": 22,
   "id": "8da3eb2b",
   "metadata": {},
   "outputs": [],
   "source": [
    "something(suits)"
   ]
  },
  {
   "cell_type": "code",
   "execution_count": 23,
   "id": "fb00efbd",
   "metadata": {},
   "outputs": [
    {
     "data": {
      "text/plain": [
       "[]"
      ]
     },
     "execution_count": 23,
     "metadata": {},
     "output_type": "execute_result"
    }
   ],
   "source": [
    "suits"
   ]
  },
  {
   "cell_type": "code",
   "execution_count": 27,
   "id": "e86b0533",
   "metadata": {},
   "outputs": [
    {
     "name": "stdout",
     "output_type": "stream",
     "text": [
      "1828389222784\n"
     ]
    }
   ],
   "source": [
    "l = [1, 2, 3, 4, 5]\n",
    "print(id(l))"
   ]
  },
  {
   "cell_type": "code",
   "execution_count": 28,
   "id": "5b3ac09d",
   "metadata": {},
   "outputs": [
    {
     "data": {
      "text/plain": [
       "[1, 2]"
      ]
     },
     "execution_count": 28,
     "metadata": {},
     "output_type": "execute_result"
    }
   ],
   "source": [
    "l[0:2]"
   ]
  },
  {
   "cell_type": "code",
   "execution_count": 30,
   "id": "d06c27a3",
   "metadata": {},
   "outputs": [],
   "source": [
    "l[0:2] = ('a', 'b', 'c', 'd')"
   ]
  },
  {
   "cell_type": "code",
   "execution_count": 31,
   "id": "04eee6af",
   "metadata": {},
   "outputs": [
    {
     "data": {
      "text/plain": [
       "['a', 'b', 'c', 'd', 3, 4, 5]"
      ]
     },
     "execution_count": 31,
     "metadata": {},
     "output_type": "execute_result"
    }
   ],
   "source": [
    "l"
   ]
  },
  {
   "cell_type": "code",
   "execution_count": 32,
   "id": "2b06faca",
   "metadata": {},
   "outputs": [
    {
     "data": {
      "text/plain": [
       "1828389222784"
      ]
     },
     "execution_count": 32,
     "metadata": {},
     "output_type": "execute_result"
    }
   ],
   "source": [
    "id(l)"
   ]
  },
  {
   "cell_type": "code",
   "execution_count": 34,
   "id": "eefe2a50",
   "metadata": {},
   "outputs": [
    {
     "data": {
      "text/plain": [
       "1828388946944"
      ]
     },
     "execution_count": 34,
     "metadata": {},
     "output_type": "execute_result"
    }
   ],
   "source": [
    "l =[1, 2, 3]\n",
    "id(l)"
   ]
  },
  {
   "cell_type": "code",
   "execution_count": 35,
   "id": "f983c370",
   "metadata": {},
   "outputs": [],
   "source": [
    "result = l.append(4)"
   ]
  },
  {
   "cell_type": "code",
   "execution_count": 36,
   "id": "25d98e1d",
   "metadata": {},
   "outputs": [
    {
     "data": {
      "text/plain": [
       "NoneType"
      ]
     },
     "execution_count": 36,
     "metadata": {},
     "output_type": "execute_result"
    }
   ],
   "source": [
    "type(result)"
   ]
  },
  {
   "cell_type": "code",
   "execution_count": 37,
   "id": "60232637",
   "metadata": {},
   "outputs": [
    {
     "data": {
      "text/plain": [
       "[1, 2, 3, 4]"
      ]
     },
     "execution_count": 37,
     "metadata": {},
     "output_type": "execute_result"
    }
   ],
   "source": [
    "l"
   ]
  },
  {
   "cell_type": "code",
   "execution_count": 38,
   "id": "97872c5e",
   "metadata": {},
   "outputs": [
    {
     "data": {
      "text/plain": [
       "1828388946944"
      ]
     },
     "execution_count": 38,
     "metadata": {},
     "output_type": "execute_result"
    }
   ],
   "source": [
    "id(l)"
   ]
  },
  {
   "cell_type": "code",
   "execution_count": 39,
   "id": "92d2cc78",
   "metadata": {},
   "outputs": [],
   "source": [
    "l.append([1, 2, 3])"
   ]
  },
  {
   "cell_type": "code",
   "execution_count": 40,
   "id": "be4889c8",
   "metadata": {},
   "outputs": [
    {
     "data": {
      "text/plain": [
       "[1, 2, 3, 4, [1, 2, 3]]"
      ]
     },
     "execution_count": 40,
     "metadata": {},
     "output_type": "execute_result"
    }
   ],
   "source": [
    "l"
   ]
  },
  {
   "cell_type": "code",
   "execution_count": 41,
   "id": "4a4b0342",
   "metadata": {},
   "outputs": [
    {
     "data": {
      "text/plain": [
       "1828388416064"
      ]
     },
     "execution_count": 41,
     "metadata": {},
     "output_type": "execute_result"
    }
   ],
   "source": [
    "l =[1, 2, 3]\n",
    "id(l)"
   ]
  },
  {
   "cell_type": "code",
   "execution_count": 42,
   "id": "0f14ecd8",
   "metadata": {},
   "outputs": [
    {
     "ename": "TypeError",
     "evalue": "list.extend() takes exactly one argument (0 given)",
     "output_type": "error",
     "traceback": [
      "\u001b[1;31m---------------------------------------------------------------------------\u001b[0m",
      "\u001b[1;31mTypeError\u001b[0m                                 Traceback (most recent call last)",
      "\u001b[1;32mc:\\Users\\pgold\\MatsHub\\deep_dive_2-A\\class_files\\sequence_types\\mutable_sequence_types.ipynb Cell 37\u001b[0m in \u001b[0;36m<cell line: 1>\u001b[1;34m()\u001b[0m\n\u001b[1;32m----> <a href='vscode-notebook-cell:/c%3A/Users/pgold/MatsHub/deep_dive_2-A/class_files/sequence_types/mutable_sequence_types.ipynb#X51sZmlsZQ%3D%3D?line=0'>1</a>\u001b[0m l\u001b[39m.\u001b[39;49mextend()\n",
      "\u001b[1;31mTypeError\u001b[0m: list.extend() takes exactly one argument (0 given)"
     ]
    }
   ],
   "source": [
    "l.extend()"
   ]
  },
  {
   "cell_type": "code",
   "execution_count": 43,
   "id": "3f9c710f",
   "metadata": {},
   "outputs": [],
   "source": [
    "l.extend([4])"
   ]
  },
  {
   "cell_type": "code",
   "execution_count": 44,
   "id": "df38e0d4",
   "metadata": {},
   "outputs": [
    {
     "data": {
      "text/plain": [
       "[1, 2, 3, 4]"
      ]
     },
     "execution_count": 44,
     "metadata": {},
     "output_type": "execute_result"
    }
   ],
   "source": [
    "l"
   ]
  },
  {
   "cell_type": "code",
   "execution_count": 45,
   "id": "c41c509f",
   "metadata": {},
   "outputs": [],
   "source": [
    "l.extend(['a', 'b', 'c'])"
   ]
  },
  {
   "cell_type": "code",
   "execution_count": 46,
   "id": "00eae3fe",
   "metadata": {},
   "outputs": [
    {
     "data": {
      "text/plain": [
       "[1, 2, 3, 4, 'a', 'b', 'c']"
      ]
     },
     "execution_count": 46,
     "metadata": {},
     "output_type": "execute_result"
    }
   ],
   "source": [
    "l"
   ]
  },
  {
   "cell_type": "code",
   "execution_count": 47,
   "id": "6d818ae0",
   "metadata": {},
   "outputs": [
    {
     "data": {
      "text/plain": [
       "1828388416064"
      ]
     },
     "execution_count": 47,
     "metadata": {},
     "output_type": "execute_result"
    }
   ],
   "source": [
    "id(l)"
   ]
  },
  {
   "cell_type": "code",
   "execution_count": 48,
   "id": "4af89140",
   "metadata": {},
   "outputs": [],
   "source": [
    "l = [1, 2, 3]"
   ]
  },
  {
   "cell_type": "code",
   "execution_count": 49,
   "id": "f937af1b",
   "metadata": {},
   "outputs": [],
   "source": [
    "l.extend({'X', 'a', 'A', 100_000})"
   ]
  },
  {
   "cell_type": "code",
   "execution_count": 50,
   "id": "72f78e4f",
   "metadata": {},
   "outputs": [
    {
     "data": {
      "text/plain": [
       "[1, 2, 3, 'X', 'A', 100000, 'a']"
      ]
     },
     "execution_count": 50,
     "metadata": {},
     "output_type": "execute_result"
    }
   ],
   "source": [
    "l"
   ]
  },
  {
   "cell_type": "code",
   "execution_count": 51,
   "id": "cdecea86",
   "metadata": {},
   "outputs": [],
   "source": [
    "l = [1, 2, 3, 4]"
   ]
  },
  {
   "cell_type": "code",
   "execution_count": 52,
   "id": "1d0475ae",
   "metadata": {},
   "outputs": [
    {
     "data": {
      "text/plain": [
       "1828389549056"
      ]
     },
     "execution_count": 52,
     "metadata": {},
     "output_type": "execute_result"
    }
   ],
   "source": [
    "id(l)"
   ]
  },
  {
   "cell_type": "code",
   "execution_count": 53,
   "id": "1c36b910",
   "metadata": {},
   "outputs": [],
   "source": [
    "result = l.pop()"
   ]
  },
  {
   "cell_type": "code",
   "execution_count": 54,
   "id": "40a319e9",
   "metadata": {},
   "outputs": [
    {
     "data": {
      "text/plain": [
       "[1, 2, 3]"
      ]
     },
     "execution_count": 54,
     "metadata": {},
     "output_type": "execute_result"
    }
   ],
   "source": [
    "l"
   ]
  },
  {
   "cell_type": "code",
   "execution_count": 55,
   "id": "86518219",
   "metadata": {},
   "outputs": [
    {
     "data": {
      "text/plain": [
       "1828389549056"
      ]
     },
     "execution_count": 55,
     "metadata": {},
     "output_type": "execute_result"
    }
   ],
   "source": [
    "id (l)"
   ]
  },
  {
   "cell_type": "code",
   "execution_count": 56,
   "id": "d6d655b6",
   "metadata": {},
   "outputs": [
    {
     "data": {
      "text/plain": [
       "4"
      ]
     },
     "execution_count": 56,
     "metadata": {},
     "output_type": "execute_result"
    }
   ],
   "source": [
    "result"
   ]
  },
  {
   "cell_type": "code",
   "execution_count": 57,
   "id": "6459b5c7",
   "metadata": {},
   "outputs": [
    {
     "data": {
      "text/plain": [
       "[1, 2, 3]"
      ]
     },
     "execution_count": 57,
     "metadata": {},
     "output_type": "execute_result"
    }
   ],
   "source": [
    "l"
   ]
  },
  {
   "cell_type": "code",
   "execution_count": 58,
   "id": "754a41c8",
   "metadata": {},
   "outputs": [
    {
     "data": {
      "text/plain": [
       "2"
      ]
     },
     "execution_count": 58,
     "metadata": {},
     "output_type": "execute_result"
    }
   ],
   "source": [
    "l.pop(1)"
   ]
  },
  {
   "cell_type": "code",
   "execution_count": 59,
   "id": "7d784081",
   "metadata": {},
   "outputs": [
    {
     "data": {
      "text/plain": [
       "[1, 3]"
      ]
     },
     "execution_count": 59,
     "metadata": {},
     "output_type": "execute_result"
    }
   ],
   "source": [
    "l"
   ]
  },
  {
   "cell_type": "code",
   "execution_count": 60,
   "id": "4e4e23ee",
   "metadata": {},
   "outputs": [
    {
     "data": {
      "text/plain": [
       "1828389549056"
      ]
     },
     "execution_count": 60,
     "metadata": {},
     "output_type": "execute_result"
    }
   ],
   "source": [
    "id(l)"
   ]
  },
  {
   "cell_type": "code",
   "execution_count": 61,
   "id": "cfdf13be",
   "metadata": {},
   "outputs": [],
   "source": [
    "l = [1, 2, 3]"
   ]
  },
  {
   "cell_type": "code",
   "execution_count": 63,
   "id": "b689006c",
   "metadata": {},
   "outputs": [],
   "source": [
    "del l[1]"
   ]
  },
  {
   "cell_type": "code",
   "execution_count": 64,
   "id": "dfecec5e",
   "metadata": {},
   "outputs": [
    {
     "data": {
      "text/plain": [
       "[1, 3]"
      ]
     },
     "execution_count": 64,
     "metadata": {},
     "output_type": "execute_result"
    }
   ],
   "source": [
    "l"
   ]
  },
  {
   "cell_type": "code",
   "execution_count": 65,
   "id": "686b8dc2",
   "metadata": {},
   "outputs": [
    {
     "data": {
      "text/plain": [
       "1828389606016"
      ]
     },
     "execution_count": 65,
     "metadata": {},
     "output_type": "execute_result"
    }
   ],
   "source": [
    "l = [1, 2, 3, 4]\n",
    "id(l)"
   ]
  },
  {
   "cell_type": "code",
   "execution_count": 66,
   "id": "edfd9f95",
   "metadata": {},
   "outputs": [],
   "source": [
    "l.insert(1, 'a')"
   ]
  },
  {
   "cell_type": "code",
   "execution_count": 67,
   "id": "90baf42d",
   "metadata": {},
   "outputs": [
    {
     "data": {
      "text/plain": [
       "[1, 'a', 2, 3, 4]"
      ]
     },
     "execution_count": 67,
     "metadata": {},
     "output_type": "execute_result"
    }
   ],
   "source": [
    "l"
   ]
  },
  {
   "cell_type": "code",
   "execution_count": 68,
   "id": "1c91b0bc",
   "metadata": {},
   "outputs": [
    {
     "data": {
      "text/plain": [
       "1828389606016"
      ]
     },
     "execution_count": 68,
     "metadata": {},
     "output_type": "execute_result"
    }
   ],
   "source": [
    "id(l)"
   ]
  },
  {
   "cell_type": "code",
   "execution_count": 69,
   "id": "161de246",
   "metadata": {},
   "outputs": [],
   "source": [
    "l = [1, 2, 3]"
   ]
  },
  {
   "cell_type": "code",
   "execution_count": 72,
   "id": "42f2df65",
   "metadata": {},
   "outputs": [],
   "source": [
    "l2 = l[::-1]"
   ]
  },
  {
   "cell_type": "code",
   "execution_count": 74,
   "id": "430c00ad",
   "metadata": {},
   "outputs": [
    {
     "data": {
      "text/plain": [
       "(1828389342528, 1828389320960)"
      ]
     },
     "execution_count": 74,
     "metadata": {},
     "output_type": "execute_result"
    }
   ],
   "source": [
    "id(l), id(l2)"
   ]
  },
  {
   "cell_type": "code",
   "execution_count": 75,
   "id": "67a5c027",
   "metadata": {},
   "outputs": [
    {
     "data": {
      "text/plain": [
       "[1, 2, 3]"
      ]
     },
     "execution_count": 75,
     "metadata": {},
     "output_type": "execute_result"
    }
   ],
   "source": [
    "l"
   ]
  },
  {
   "cell_type": "code",
   "execution_count": 76,
   "id": "b04ee4e6",
   "metadata": {},
   "outputs": [],
   "source": [
    "l.reverse()"
   ]
  },
  {
   "cell_type": "code",
   "execution_count": 78,
   "id": "81d59548",
   "metadata": {},
   "outputs": [
    {
     "data": {
      "text/plain": [
       "(1828389342528, [3, 2, 1])"
      ]
     },
     "execution_count": 78,
     "metadata": {},
     "output_type": "execute_result"
    }
   ],
   "source": [
    "id(l), l"
   ]
  },
  {
   "cell_type": "code",
   "execution_count": 80,
   "id": "3f22afb4",
   "metadata": {},
   "outputs": [
    {
     "data": {
      "text/plain": [
       "1828389466752"
      ]
     },
     "execution_count": 80,
     "metadata": {},
     "output_type": "execute_result"
    }
   ],
   "source": [
    "l = [1, 2, 3, 4]\n",
    "id(l)"
   ]
  },
  {
   "cell_type": "code",
   "execution_count": 81,
   "id": "d31ba078",
   "metadata": {},
   "outputs": [],
   "source": [
    "l2 = l[:]"
   ]
  },
  {
   "cell_type": "code",
   "execution_count": 84,
   "id": "6f2434f1",
   "metadata": {},
   "outputs": [
    {
     "data": {
      "text/plain": [
       "[1, 2, 3, 4]"
      ]
     },
     "execution_count": 84,
     "metadata": {},
     "output_type": "execute_result"
    }
   ],
   "source": [
    "l2"
   ]
  },
  {
   "cell_type": "code",
   "execution_count": 83,
   "id": "02456a1c",
   "metadata": {},
   "outputs": [
    {
     "data": {
      "text/plain": [
       "(1828389466752, 1828384277632)"
      ]
     },
     "execution_count": 83,
     "metadata": {},
     "output_type": "execute_result"
    }
   ],
   "source": [
    "id(l), id(l2)"
   ]
  },
  {
   "cell_type": "code",
   "execution_count": 85,
   "id": "e51d4c02",
   "metadata": {},
   "outputs": [],
   "source": [
    "l3 = l.copy()"
   ]
  },
  {
   "cell_type": "code",
   "execution_count": 86,
   "id": "983cd26c",
   "metadata": {},
   "outputs": [
    {
     "data": {
      "text/plain": [
       "[1, 2, 3, 4]"
      ]
     },
     "execution_count": 86,
     "metadata": {},
     "output_type": "execute_result"
    }
   ],
   "source": [
    "l3"
   ]
  },
  {
   "cell_type": "code",
   "execution_count": 87,
   "id": "76bbb05b",
   "metadata": {},
   "outputs": [
    {
     "data": {
      "text/plain": [
       "(1828389065088, 1828389466752)"
      ]
     },
     "execution_count": 87,
     "metadata": {},
     "output_type": "execute_result"
    }
   ],
   "source": [
    "id(l3), id(l)"
   ]
  },
  {
   "cell_type": "code",
   "execution_count": 94,
   "id": "68dc9449",
   "metadata": {},
   "outputs": [],
   "source": [
    "l = [['a', 'b'], 'c', 'd']"
   ]
  },
  {
   "cell_type": "code",
   "execution_count": 89,
   "id": "11a30fcd",
   "metadata": {},
   "outputs": [
    {
     "data": {
      "text/plain": [
       "(1828388754816, 1828388923200, 1828272346480)"
      ]
     },
     "execution_count": 89,
     "metadata": {},
     "output_type": "execute_result"
    }
   ],
   "source": [
    "id(l), id([0]), id(l[1])"
   ]
  },
  {
   "cell_type": "code",
   "execution_count": 96,
   "id": "65736f2c",
   "metadata": {},
   "outputs": [],
   "source": [
    "l2 = l.copy()"
   ]
  },
  {
   "cell_type": "code",
   "execution_count": 97,
   "id": "50f2ac95",
   "metadata": {},
   "outputs": [
    {
     "data": {
      "text/plain": [
       "1828388969280"
      ]
     },
     "execution_count": 97,
     "metadata": {},
     "output_type": "execute_result"
    }
   ],
   "source": [
    "id(l2)"
   ]
  },
  {
   "cell_type": "code",
   "execution_count": 98,
   "id": "f5e62ea2",
   "metadata": {},
   "outputs": [
    {
     "data": {
      "text/plain": [
       "[['a', 'b'], 'c', 'd']"
      ]
     },
     "execution_count": 98,
     "metadata": {},
     "output_type": "execute_result"
    }
   ],
   "source": [
    "l2"
   ]
  },
  {
   "cell_type": "code",
   "execution_count": 99,
   "id": "ee2f4c4b",
   "metadata": {},
   "outputs": [
    {
     "data": {
      "text/plain": [
       "(1828388920064, 1828270850736)"
      ]
     },
     "execution_count": 99,
     "metadata": {},
     "output_type": "execute_result"
    }
   ],
   "source": [
    "id(l2[0]), id(l2[1])"
   ]
  },
  {
   "cell_type": "code",
   "execution_count": 101,
   "id": "eb1644be",
   "metadata": {},
   "outputs": [
    {
     "data": {
      "text/plain": [
       "[['a', 'b'], 'c', 'd']"
      ]
     },
     "execution_count": 101,
     "metadata": {},
     "output_type": "execute_result"
    }
   ],
   "source": [
    "l"
   ]
  },
  {
   "cell_type": "code",
   "execution_count": 102,
   "id": "5cfa4375",
   "metadata": {},
   "outputs": [
    {
     "data": {
      "text/plain": [
       "[['a', 'b'], 'c', 'd']"
      ]
     },
     "execution_count": 102,
     "metadata": {},
     "output_type": "execute_result"
    }
   ],
   "source": [
    "l2"
   ]
  },
  {
   "cell_type": "code",
   "execution_count": 103,
   "id": "7e997061",
   "metadata": {},
   "outputs": [
    {
     "data": {
      "text/plain": [
       "(1828389397888, 1828388969280)"
      ]
     },
     "execution_count": 103,
     "metadata": {},
     "output_type": "execute_result"
    }
   ],
   "source": [
    "id(l), id(l2)"
   ]
  },
  {
   "cell_type": "code",
   "execution_count": 104,
   "id": "ee21a366",
   "metadata": {},
   "outputs": [],
   "source": [
    "l[0].append('x')"
   ]
  },
  {
   "cell_type": "code",
   "execution_count": 105,
   "id": "f7783dc4",
   "metadata": {},
   "outputs": [
    {
     "data": {
      "text/plain": [
       "[['a', 'b', 'x'], 'c', 'd']"
      ]
     },
     "execution_count": 105,
     "metadata": {},
     "output_type": "execute_result"
    }
   ],
   "source": [
    "l"
   ]
  },
  {
   "cell_type": "code",
   "execution_count": 106,
   "id": "ec2193fb",
   "metadata": {},
   "outputs": [
    {
     "data": {
      "text/plain": [
       "[['a', 'b', 'x'], 'c', 'd']"
      ]
     },
     "execution_count": 106,
     "metadata": {},
     "output_type": "execute_result"
    }
   ],
   "source": [
    "l2"
   ]
  },
  {
   "cell_type": "code",
   "execution_count": null,
   "id": "6b3addba",
   "metadata": {},
   "outputs": [],
   "source": []
  }
 ],
 "metadata": {
  "kernelspec": {
   "display_name": "Python 3.9.12 ('base')",
   "language": "python",
   "name": "python3"
  },
  "language_info": {
   "codemirror_mode": {
    "name": "ipython",
    "version": 3
   },
   "file_extension": ".py",
   "mimetype": "text/x-python",
   "name": "python",
   "nbconvert_exporter": "python",
   "pygments_lexer": "ipython3",
   "version": "3.9.12"
  },
  "vscode": {
   "interpreter": {
    "hash": "a624adbc5e596fddf72740b255048309200567f23df85867ce297e9f9d364c1b"
   }
  }
 },
 "nbformat": 4,
 "nbformat_minor": 5
}
