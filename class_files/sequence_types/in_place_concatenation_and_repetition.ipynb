{
 "cells": [
  {
   "cell_type": "markdown",
   "id": "695f38e9",
   "metadata": {},
   "source": [
    "                        In Place Concatenation and Repetition"
   ]
  },
  {
   "cell_type": "code",
   "execution_count": 2,
   "id": "dd690d84",
   "metadata": {},
   "outputs": [
    {
     "name": "stdout",
     "output_type": "stream",
     "text": [
      "1660838578048 [1, 2, 3, 4] [5, 6]\n",
      "1660838577984 [5, 6]\n"
     ]
    }
   ],
   "source": [
    "l1 = [1, 2, 3, 4]\n",
    "l2 = [5, 6]\n",
    "print(id(l1), l1, l2)\n",
    "print(id(l2), l2)"
   ]
  },
  {
   "cell_type": "code",
   "execution_count": 3,
   "id": "298aa798",
   "metadata": {},
   "outputs": [
    {
     "name": "stdout",
     "output_type": "stream",
     "text": [
      "1660838578240 [1, 2, 3, 4, 5, 6]\n"
     ]
    }
   ],
   "source": [
    "l1 = l1 + l2\n",
    "print(id(l1), l1)"
   ]
  },
  {
   "cell_type": "code",
   "execution_count": 4,
   "id": "161cd522",
   "metadata": {},
   "outputs": [],
   "source": [
    "t1 = (1, 2, 3)"
   ]
  },
  {
   "cell_type": "code",
   "execution_count": 5,
   "id": "83729ed7",
   "metadata": {},
   "outputs": [
    {
     "ename": "TypeError",
     "evalue": "can only concatenate list (not \"tuple\") to list",
     "output_type": "error",
     "traceback": [
      "\u001b[1;31m---------------------------------------------------------------------------\u001b[0m",
      "\u001b[1;31mTypeError\u001b[0m                                 Traceback (most recent call last)",
      "\u001b[1;32mC:\\Users\\RICHMA~1\\AppData\\Local\\Temp/ipykernel_20388/38354851.py\u001b[0m in \u001b[0;36m<module>\u001b[1;34m\u001b[0m\n\u001b[1;32m----> 1\u001b[1;33m \u001b[0ml1\u001b[0m \u001b[1;33m=\u001b[0m \u001b[0ml1\u001b[0m \u001b[1;33m+\u001b[0m \u001b[0mt1\u001b[0m\u001b[1;33m\u001b[0m\u001b[1;33m\u001b[0m\u001b[0m\n\u001b[0m",
      "\u001b[1;31mTypeError\u001b[0m: can only concatenate list (not \"tuple\") to list"
     ]
    }
   ],
   "source": [
    "l1 = l1 + t1"
   ]
  },
  {
   "cell_type": "code",
   "execution_count": 6,
   "id": "46e250a0",
   "metadata": {},
   "outputs": [
    {
     "name": "stdout",
     "output_type": "stream",
     "text": [
      "1660838610816 [1, 2, 3, 4] [5, 6]\n",
      "1660812529344 [5, 6]\n"
     ]
    }
   ],
   "source": [
    "l1 = [1, 2, 3, 4]\n",
    "l2 = [5, 6]\n",
    "print(id(l1), l1, l2)\n",
    "print(id(l2), l2)"
   ]
  },
  {
   "cell_type": "code",
   "execution_count": 8,
   "id": "0ddd3b5d",
   "metadata": {},
   "outputs": [
    {
     "name": "stdout",
     "output_type": "stream",
     "text": [
      "1660838610816 [1, 2, 3, 4, 5, 6, 5, 6]\n"
     ]
    }
   ],
   "source": [
    "l1 += l2\n",
    "print(id(l1), l1)"
   ]
  },
  {
   "cell_type": "code",
   "execution_count": 11,
   "id": "b8637536",
   "metadata": {},
   "outputs": [
    {
     "name": "stdout",
     "output_type": "stream",
     "text": [
      "1660838610816 [1, 2, 3, 4, 5, 6, 5, 6] [5, 6]\n",
      "1660839406784 [5, 6]\n"
     ]
    }
   ],
   "source": [
    "t1 = [1, 2, 3, 4]\n",
    "t1 = [5, 6]\n",
    "print(id(l1), l1, l2)\n",
    "print(id(t1), t1)"
   ]
  },
  {
   "cell_type": "code",
   "execution_count": 12,
   "id": "e5668add",
   "metadata": {},
   "outputs": [],
   "source": [
    "l1 += t1"
   ]
  },
  {
   "cell_type": "code",
   "execution_count": 15,
   "id": "47c83450",
   "metadata": {},
   "outputs": [
    {
     "name": "stdout",
     "output_type": "stream",
     "text": [
      "1660838610816 [1, 2, 3, 4, 5, 6, 5, 6, 5, 6]\n"
     ]
    }
   ],
   "source": [
    "print(id(l1), l1)"
   ]
  },
  {
   "cell_type": "code",
   "execution_count": 16,
   "id": "a4964c08",
   "metadata": {},
   "outputs": [
    {
     "ename": "TypeError",
     "evalue": "'list' object cannot be interpreted as an integer",
     "output_type": "error",
     "traceback": [
      "\u001b[1;31m---------------------------------------------------------------------------\u001b[0m",
      "\u001b[1;31mTypeError\u001b[0m                                 Traceback (most recent call last)",
      "\u001b[1;32mC:\\Users\\RICHMA~1\\AppData\\Local\\Temp/ipykernel_20388/2700078250.py\u001b[0m in \u001b[0;36m<module>\u001b[1;34m\u001b[0m\n\u001b[1;32m----> 1\u001b[1;33m \u001b[0ml1\u001b[0m \u001b[1;33m+=\u001b[0m \u001b[0mrange\u001b[0m\u001b[1;33m(\u001b[0m\u001b[1;36m7\u001b[0m\u001b[1;33m,\u001b[0m \u001b[0ml1\u001b[0m\u001b[1;33m)\u001b[0m\u001b[1;33m\u001b[0m\u001b[1;33m\u001b[0m\u001b[0m\n\u001b[0m",
      "\u001b[1;31mTypeError\u001b[0m: 'list' object cannot be interpreted as an integer"
     ]
    }
   ],
   "source": [
    "l1 += range(7, l1)"
   ]
  },
  {
   "cell_type": "code",
   "execution_count": 17,
   "id": "cf5e8ad3",
   "metadata": {},
   "outputs": [
    {
     "name": "stdout",
     "output_type": "stream",
     "text": [
      "1660838610816 [1, 2, 3, 4, 5, 6, 5, 6, 5, 6]\n"
     ]
    }
   ],
   "source": [
    "print(id(l1), l1)"
   ]
  },
  {
   "cell_type": "code",
   "execution_count": 18,
   "id": "76396d45",
   "metadata": {},
   "outputs": [],
   "source": [
    "l1 += {100, 'X', 'a'}"
   ]
  },
  {
   "cell_type": "code",
   "execution_count": 19,
   "id": "aca29e08",
   "metadata": {},
   "outputs": [
    {
     "name": "stdout",
     "output_type": "stream",
     "text": [
      "1660838610816 [1, 2, 3, 4, 5, 6, 5, 6, 5, 6, 100, 'a', 'X']\n"
     ]
    }
   ],
   "source": [
    "print(id(l1), l1)"
   ]
  },
  {
   "cell_type": "code",
   "execution_count": 20,
   "id": "ae0e294c",
   "metadata": {},
   "outputs": [],
   "source": [
    "t1 = (1, 2, 3)\n",
    "t2 = (4, 5, 6)"
   ]
  },
  {
   "cell_type": "code",
   "execution_count": 22,
   "id": "ad0fc714",
   "metadata": {},
   "outputs": [
    {
     "name": "stdout",
     "output_type": "stream",
     "text": [
      "1660801246016 (1, 2, 3)\n",
      "1660839516544 (4, 5, 6)\n"
     ]
    }
   ],
   "source": [
    "print(id(t1), t1)\n",
    "print(id(t2), t2)"
   ]
  },
  {
   "cell_type": "code",
   "execution_count": 23,
   "id": "b7a042db",
   "metadata": {},
   "outputs": [
    {
     "name": "stdout",
     "output_type": "stream",
     "text": [
      "1660802068384 (1, 2, 3, 4, 5, 6)\n"
     ]
    }
   ],
   "source": [
    "t1 += t2\n",
    "print(id(t1), t1)"
   ]
  },
  {
   "cell_type": "code",
   "execution_count": 24,
   "id": "379127b4",
   "metadata": {},
   "outputs": [
    {
     "name": "stdout",
     "output_type": "stream",
     "text": [
      "1660805481728 [1, 2, 3]\n"
     ]
    }
   ],
   "source": [
    "l1 = [1, 2, 3]\n",
    "print(id(l1), l1)"
   ]
  },
  {
   "cell_type": "code",
   "execution_count": 25,
   "id": "774b7ce7",
   "metadata": {},
   "outputs": [],
   "source": [
    "l1 = l1 * 2"
   ]
  },
  {
   "cell_type": "code",
   "execution_count": 26,
   "id": "0915e19b",
   "metadata": {},
   "outputs": [
    {
     "name": "stdout",
     "output_type": "stream",
     "text": [
      "1660839576960 [1, 2, 3, 1, 2, 3]\n"
     ]
    }
   ],
   "source": [
    "print(id(l1), l1)"
   ]
  },
  {
   "cell_type": "code",
   "execution_count": 27,
   "id": "8cd3d453",
   "metadata": {},
   "outputs": [
    {
     "name": "stdout",
     "output_type": "stream",
     "text": [
      "1660853806080 [1, 2, 3]\n"
     ]
    }
   ],
   "source": [
    "l1 = [1, 2, 3]\n",
    "print(id(l1), l1)"
   ]
  },
  {
   "cell_type": "code",
   "execution_count": 28,
   "id": "d9c6a04d",
   "metadata": {},
   "outputs": [],
   "source": [
    "l1 *= 2"
   ]
  },
  {
   "cell_type": "code",
   "execution_count": 29,
   "id": "574607d6",
   "metadata": {},
   "outputs": [
    {
     "name": "stdout",
     "output_type": "stream",
     "text": [
      "1660853806080 [1, 2, 3, 1, 2, 3]\n"
     ]
    }
   ],
   "source": [
    "print(id(l1), l1)"
   ]
  },
  {
   "cell_type": "code",
   "execution_count": 30,
   "id": "74153731",
   "metadata": {},
   "outputs": [
    {
     "name": "stdout",
     "output_type": "stream",
     "text": [
      "1660839496512 (1, 2, 3)\n"
     ]
    }
   ],
   "source": [
    "t1 = (1, 2, 3)\n",
    "print(id(t1), t1)"
   ]
  },
  {
   "cell_type": "code",
   "execution_count": 31,
   "id": "ee7a114e",
   "metadata": {},
   "outputs": [
    {
     "name": "stdout",
     "output_type": "stream",
     "text": [
      "1660802068384 (1, 2, 3, 1, 2, 3)\n"
     ]
    }
   ],
   "source": [
    "t1 *= 2\n",
    "print(id(t1), t1)"
   ]
  }
 ],
 "metadata": {
  "kernelspec": {
   "display_name": "base",
   "language": "python",
   "name": "python3"
  },
  "language_info": {
   "codemirror_mode": {
    "name": "ipython",
    "version": 3
   },
   "file_extension": ".py",
   "mimetype": "text/x-python",
   "name": "python",
   "nbconvert_exporter": "python",
   "pygments_lexer": "ipython3",
   "version": "3.9.7 (default, Sep 16 2021, 16:59:28) [MSC v.1916 64 bit (AMD64)]"
  },
  "vscode": {
   "interpreter": {
    "hash": "ad2bdc8ecc057115af97d19610ffacc2b4e99fae6737bb82f5d7fb13d2f2c186"
   }
  }
 },
 "nbformat": 4,
 "nbformat_minor": 5
}
