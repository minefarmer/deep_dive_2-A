{
 "cells": [
  {
   "cell_type": "markdown",
   "id": "7683c86a",
   "metadata": {},
   "source": [
    "                        Project_goal_1"
   ]
  },
  {
   "cell_type": "code",
   "execution_count": 43,
   "id": "7cdc6e25",
   "metadata": {},
   "outputs": [],
   "source": [
    "import math\n",
    "\n",
    "class Polygon:\n",
    "    def __init__(self, n, R):\n",
    "        self._n = n\n",
    "        self._R = R\n",
    "    \n",
    "    def __repr__(self):\n",
    "        return f'Polygon(n={self._n}, R={self._R})'\n",
    "    \n",
    "    @property\n",
    "    def count_vertices(self):\n",
    "        return self._n\n",
    "\n",
    "    @property\n",
    "    def count_edges(self):\n",
    "        return self._n\n",
    "\n",
    "    @property\n",
    "    def circumradius(self):\n",
    "        return self._R\n",
    "    \n",
    "    @property\n",
    "    def interior_angle(self):\n",
    "        return(self._n - 2) * 180 / self._n\n",
    "    \n",
    "    @property\n",
    "    def side_length(self):\n",
    "        return 2 * self._R * math.sin(math.pi / self._n)\n",
    "\n",
    "    @property\n",
    "    def apothem(self):\n",
    "        return self._R * math.cos(math.pi / self._n)\n",
    "\n",
    "    @property\n",
    "    def area(self):\n",
    "        return self._n / 2 * self.side_length * self.apothem\n",
    "    \n",
    "    @property\n",
    "    def perimeter(self):\n",
    "        return self._n * self.side_length"
   ]
  },
  {
   "cell_type": "code",
   "execution_count": 44,
   "id": "c7d2e579",
   "metadata": {},
   "outputs": [],
   "source": [
    "assert 1 == 1"
   ]
  },
  {
   "cell_type": "code",
   "execution_count": 45,
   "id": "ae1bbcaa",
   "metadata": {},
   "outputs": [
    {
     "ename": "AssertionError",
     "evalue": "1 is not greater than 10",
     "output_type": "error",
     "traceback": [
      "\u001b[0;31m---------------------------------------------------------------------------\u001b[0m",
      "\u001b[0;31mAssertionError\u001b[0m                            Traceback (most recent call last)",
      "\u001b[1;32m/home/carl/Desktop/Matshub/deep_dive_2-A/class_files/project_1/project_goal_1.ipynb Cell 4\u001b[0m in \u001b[0;36m<cell line: 1>\u001b[0;34m()\u001b[0m\n\u001b[0;32m----> <a href='vscode-notebook-cell:/home/carl/Desktop/Matshub/deep_dive_2-A/class_files/project_1/project_goal_1.ipynb#W3sZmlsZQ%3D%3D?line=0'>1</a>\u001b[0m \u001b[39massert\u001b[39;00m \u001b[39m1\u001b[39m \u001b[39m>\u001b[39m \u001b[39m10\u001b[39m, \u001b[39m'\u001b[39m\u001b[39m1 is not greater than 10\u001b[39m\u001b[39m'\u001b[39m\n",
      "\u001b[0;31mAssertionError\u001b[0m: 1 is not greater than 10"
     ]
    }
   ],
   "source": [
    "assert 1 > 10, '1 is not greater than 10'"
   ]
  },
  {
   "cell_type": "code",
   "execution_count": null,
   "id": "afd1aa6f",
   "metadata": {},
   "outputs": [],
   "source": [
    "def test_polygon():\n",
    "    n = 3\n",
    "    R = 1\n",
    "    p = Polygon(n, R)\n",
    "    assert str(p) == f'Polygon(n=3, R=1)', f'actual: {str(p)}'\n",
    "    assert p.count_vertices == n, (f'actual: {p.area},' f' expected: {n}')\n",
    "    assert p.count_edges == n\n",
    "    assert p. circumradius == R\n",
    "    assert p.interior_angle == 60\n",
    "    \n",
    "    n = 4\n",
    "    R = 1\n",
    "    p = Polygon(n, R)\n",
    "    assert p.interior_angle == 90\n",
    "    assert p.area == 2.0, (f'actual: {p.area}, ' f' expected: {2.0}')"
   ]
  },
  {
   "cell_type": "code",
   "execution_count": null,
   "id": "b93b9b3f",
   "metadata": {},
   "outputs": [],
   "source": [
    "test_polygon()"
   ]
  },
  {
   "cell_type": "code",
   "execution_count": null,
   "id": "30daf2c3",
   "metadata": {},
   "outputs": [
    {
     "data": {
      "text/plain": [
       "False"
      ]
     },
     "execution_count": 35,
     "metadata": {},
     "output_type": "execute_result"
    }
   ],
   "source": [
    "0.1 + 0.1 + 0.1 == 0.3"
   ]
  },
  {
   "cell_type": "markdown",
   "id": "c1f4fb70",
   "metadata": {},
   "source": [
    "Comparing floats for equality is not something I should do.\n",
    "\n",
    "Instead, we are going to use the math module's is_close function with relative and absolute tolerances set to o.001\n",
    "\n",
    "Here is the documentation\n",
    "\n",
    "    https://docs.python.org/3/library/math.html\n",
    "    https://www.python.org/dev/peps/pep-0485/ "
   ]
  },
  {
   "cell_type": "code",
   "execution_count": 49,
   "id": "cc6a95d4",
   "metadata": {},
   "outputs": [],
   "source": [
    "def test_polygon():\n",
    "    rel_tol = 0.001\n",
    "    abs_tol = 0.0001\n",
    "    \n",
    "    n = 3\n",
    "    R = 1\n",
    "    p = Polygon(n, R)\n",
    "    assert str(p) == f'Polygon(n=3, R=1)', f'actual: {str(p)}'\n",
    "    assert p.count_vertices == n, (f'actual: {p.area},' f' expected: {n}')\n",
    "    assert p.count_edges == n\n",
    "    assert p. circumradius == R\n",
    "    assert p.interior_angle == 60\n",
    "    \n",
    "    n = 4\n",
    "    R = 1\n",
    "    p = Polygon(n, R)\n",
    "    assert p.interior_angle == 90\n",
    "    assert p.area == 2.0, (f'actual: {p.area}, ' f' expected: {2.0}')\n",
    "    "
   ]
  },
  {
   "cell_type": "code",
   "execution_count": 47,
   "id": "2119965c",
   "metadata": {},
   "outputs": [],
   "source": [
    "test_polygon()"
   ]
  },
  {
   "cell_type": "code",
   "execution_count": 48,
   "id": "59434fa3",
   "metadata": {},
   "outputs": [
    {
     "data": {
      "text/plain": [
       "16.363636363636363"
      ]
     },
     "execution_count": 48,
     "metadata": {},
     "output_type": "execute_result"
    }
   ],
   "source": [
    "180 / 11"
   ]
  },
  {
   "cell_type": "code",
   "execution_count": 57,
   "id": "8499b551",
   "metadata": {},
   "outputs": [],
   "source": [
    "def test_polygon():\n",
    "    rel_tol = 0.001\n",
    "    abs_tol =0.001\n",
    "    \n",
    "    n = 3\n",
    "    R = 1\n",
    "    p = Polygon(n, R)\n",
    "    assert str(p) == f'Polygon(n=3, R=1)', f'actual: {str(p)}'\n",
    "    assert p.count_vertices == n, (f'actual: {p.area},' f' expected: {n}')\n",
    "    assert p.count_edges == n\n",
    "    assert p. circumradius == R\n",
    "    assert p.interior_angle == 60\n",
    "    \n",
    "    n = 4\n",
    "    R = 1\n",
    "    p = Polygon(n, R)\n",
    "    assert p.interior_angle, 90\n",
    "    assert math.isclose(p.area, 2.0, rel_tol=rel_tol, abs_tol=abs_tol),  (f'actual: {p.area}, ' f' expected: {2.0}')\n",
    "    assert math.isclose(p.side_length, math.sqrt(2), rel_tol=rel_tol, abs_tol=abs_tol)\n",
    "    \n",
    "    assert math.isclose(p.perimeter, 4 * math.sqrt(2), rel_tol=rel_tol, abs_tol=abs_tol)\n",
    "    \n",
    "    assert math.isclose(p.apothem, 0.707, rel_tol=rel_tol,)"
   ]
  },
  {
   "cell_type": "code",
   "execution_count": 58,
   "id": "db8f1c87",
   "metadata": {},
   "outputs": [],
   "source": [
    "test_polygon()"
   ]
  },
  {
   "cell_type": "code",
   "execution_count": null,
   "id": "7a52fb4f",
   "metadata": {},
   "outputs": [],
   "source": [
    "def test_polygon():\n",
    "    rel_tol = 0.001\n",
    "    abs_tol =0.001\n",
    "    \n",
    "    n = 3\n",
    "    R = 1\n",
    "    p = Polygon(n, R)\n",
    "    assert str(p) == f'Polygon(n=3, R=1)', f'actual: {str(p)}'\n",
    "    assert p.count_vertices == n, (f'actual: {p.area},' f' expected: {n}')\n",
    "    assert p.count_edges == n\n",
    "    assert p. circumradius == R\n",
    "    assert p.interior_angle == 60\n",
    "    \n",
    "    n = 4\n",
    "    R = 1\n",
    "    p = Polygon(n, R)\n",
    "    assert p.interior_angle, 90\n",
    "    assert math.isclose(p.area, 2.0, rel_tol=rel_tol, abs_tol=abs_tol),  (f'actual: {p.area}, ' f' expected: {2.0}')\n",
    "    assert math.isclose(p.side_length, math.sqrt(2), rel_tol=rel_tol, abs_tol=abs_tol)\n",
    "    \n",
    "    assert math.isclose(p.perimeter, 4 * math.sqrt(2), rel_tol=rel_tol, abs_tol=abs_tol)\n",
    "    \n",
    "    assert math.isclose(p.apothem, 0.707, rel_tol=rel_tol,)"
   ]
  },
  {
   "cell_type": "code",
   "execution_count": 59,
   "id": "ea3fd2ea",
   "metadata": {},
   "outputs": [],
   "source": [
    "test_polygon()"
   ]
  },
  {
   "cell_type": "code",
   "execution_count": null,
   "id": "e64f6c59",
   "metadata": {},
   "outputs": [],
   "source": [
    "def test_polygon():\n",
    "    rel_tol = 0.001\n",
    "    abs_tol =0.001\n",
    "    \n",
    "    n = 4\n",
    "    R = 2\n",
    "    p = Polygon(n, R)\n",
    "    assert str(p) == f'Polygon(n=3, R=1)', f'actual: {str(p)}'\n",
    "    assert p.count_vertices == n, (f'actual: {p.area},' f' expected: {n}')\n",
    "    assert p.count_edges == n\n",
    "    assert p. circumradius == R\n",
    "    assert p.interior_angle == 60\n",
    "    \n",
    "    n = 6\n",
    "    R = 1\n",
    "    p = Polygon(n, R)\n",
    "    assert p.interior_angle, 90\n",
    "    assert math.isclose(p.area, 2.0, rel_tol=rel_tol, abs_tol=abs_tol),  (f'actual: {p.area}, ' f' expected: {2.0}')\n",
    "    assert math.isclose(p.side_length, math.sqrt(2), rel_tol=rel_tol, abs_tol=abs_tol)\n",
    "    \n",
    "    assert math.isclose(p.perimeter, 4 * math.sqrt(2), rel_tol=rel_tol, abs_tol=abs_tol)\n",
    "    \n",
    "    assert math.isclose(p.apothem, 0.707, rel_tol=rel_tol,)\n",
    "\n",
    "\n",
    "\n",
    "\n"
   ]
  },
  {
   "cell_type": "code",
   "execution_count": null,
   "id": "718362b2",
   "metadata": {},
   "outputs": [],
   "source": [
    "def test_polygon():\n",
    "    rel_tol = 0.001\n",
    "    abs_tol =0.001\n",
    "    \n",
    "    n = 3\n",
    "    R = 1\n",
    "    p = Polygon(n, R)\n",
    "    assert str(p) == f'Polygon(n=3, R=1)', f'actual: {str(p)}'\n",
    "    assert p.count_vertices == n, (f'actual: {p.area},' f' expected: {n}')\n",
    "    assert p.count_edges == n\n",
    "    assert p. circumradius == R\n",
    "    assert p.interior_angle == 60\n",
    "    \n",
    "    n = 4\n",
    "    R = 1\n",
    "    p = Polygon(n, R)\n",
    "    assert p.interior_angle, 90\n",
    "    assert math.isclose(p.area, 2.0, rel_tol=rel_tol, abs_tol=abs_tol),  (f'actual: {p.area}, ' f' expected: {2.0}')\n",
    "    assert math.isclose(p.side_length, math.sqrt(2), rel_tol=rel_tol, abs_tol=abs_tol)\n",
    "    \n",
    "    assert math.isclose(p.perimeter, 4 * math.sqrt(2), rel_tol=rel_tol, abs_tol=abs_tol)\n",
    "    \n",
    "    assert math.isclose(p.apothem, 0.707, rel_tol=rel_tol,)"
   ]
  }
 ],
 "metadata": {
  "kernelspec": {
   "display_name": "Python 3.9.12 ('base')",
   "language": "python",
   "name": "python3"
  },
  "language_info": {
   "codemirror_mode": {
    "name": "ipython",
    "version": 3
   },
   "file_extension": ".py",
   "mimetype": "text/x-python",
   "name": "python",
   "nbconvert_exporter": "python",
   "pygments_lexer": "ipython3",
   "version": "3.9.12"
  },
  "vscode": {
   "interpreter": {
    "hash": "143d2740fa7885280d88cdaad3dbdadb51fa40347825ef5e3d2acba7c4a72194"
   }
  }
 },
 "nbformat": 4,
 "nbformat_minor": 5
}
