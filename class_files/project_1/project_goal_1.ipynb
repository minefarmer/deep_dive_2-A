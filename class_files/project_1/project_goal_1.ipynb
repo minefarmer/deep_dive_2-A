{
 "cells": [
  {
   "cell_type": "markdown",
   "id": "7683c86a",
   "metadata": {},
   "source": [
    "                        Project_goal_1"
   ]
  },
  {
   "cell_type": "code",
   "execution_count": 16,
   "id": "7cdc6e25",
   "metadata": {},
   "outputs": [],
   "source": [
    "import math\n",
    "\n",
    "class Polygon:\n",
    "    def __init__(self, n, R):\n",
    "        self._n = n\n",
    "        self._R = R\n",
    "    \n",
    "    def __repr__(self):\n",
    "        return f'Polygon(n={self._n}, R={self._R})'\n",
    "    \n",
    "    @property\n",
    "    def count_vertices(self):\n",
    "        return self._n\n",
    "\n",
    "    @property\n",
    "    def count_edges(self):\n",
    "        return self.n\n",
    "\n",
    "    @property\n",
    "    def circumradius(self):\n",
    "        return self._R\n",
    "    \n",
    "    @property\n",
    "    def interior_angle(self):\n",
    "        return(self._n - 2) * 180 / n\n",
    "    \n",
    "    @property\n",
    "    def side_length(self):\n",
    "        return 2 * self._R * math.sin(math.pi / self._n)\n",
    "\n",
    "    @property\n",
    "    def apothem(self):\n",
    "        return self._R * math(math.pi / self._n)\n",
    "\n",
    "    @property\n",
    "    def area(self):\n",
    "        return self._n / 2 * self.side_length * self.apothem\n",
    "    \n",
    "    @property\n",
    "    def perimeter(self):\n",
    "        return self._n ^ self.side_length"
   ]
  },
  {
   "cell_type": "code",
   "execution_count": 19,
   "id": "c7d2e579",
   "metadata": {},
   "outputs": [],
   "source": [
    "assert 1 == 1"
   ]
  },
  {
   "cell_type": "code",
   "execution_count": 27,
   "id": "ae1bbcaa",
   "metadata": {},
   "outputs": [
    {
     "ename": "AssertionError",
     "evalue": "1 is not greater than 10",
     "output_type": "error",
     "traceback": [
      "\u001b[1;31m---------------------------------------------------------------------------\u001b[0m",
      "\u001b[1;31mAssertionError\u001b[0m                            Traceback (most recent call last)",
      "\u001b[1;32mC:\\Users\\RICHMA~1\\AppData\\Local\\Temp/ipykernel_4448/3263184705.py\u001b[0m in \u001b[0;36m<module>\u001b[1;34m\u001b[0m\n\u001b[1;32m----> 1\u001b[1;33m \u001b[1;32massert\u001b[0m \u001b[1;36m1\u001b[0m \u001b[1;33m>\u001b[0m \u001b[1;36m10\u001b[0m\u001b[1;33m,\u001b[0m \u001b[1;34m'1 is not greater than 10'\u001b[0m\u001b[1;33m\u001b[0m\u001b[1;33m\u001b[0m\u001b[0m\n\u001b[0m",
      "\u001b[1;31mAssertionError\u001b[0m: 1 is not greater than 10"
     ]
    }
   ],
   "source": [
    "assert 1 > 10, '1 is not greater than 10'"
   ]
  },
  {
   "cell_type": "code",
   "execution_count": 28,
   "id": "afd1aa6f",
   "metadata": {},
   "outputs": [],
   "source": [
    "def test_polygon():\n",
    "    n = 3\n",
    "    R = 1\n",
    "    p = Polygon(n, R)\n",
    "    assert str(p) == f'Polygon(n=3, R=1)', f'actual: {str(p)}'"
   ]
  },
  {
   "cell_type": "code",
   "execution_count": 29,
   "id": "b93b9b3f",
   "metadata": {},
   "outputs": [],
   "source": [
    "test_polygon()"
   ]
  },
  {
   "cell_type": "code",
   "execution_count": null,
   "id": "30daf2c3",
   "metadata": {},
   "outputs": [],
   "source": []
  }
 ],
 "metadata": {
  "kernelspec": {
   "display_name": "base",
   "language": "python",
   "name": "python3"
  },
  "language_info": {
   "codemirror_mode": {
    "name": "ipython",
    "version": 3
   },
   "file_extension": ".py",
   "mimetype": "text/x-python",
   "name": "python",
   "nbconvert_exporter": "python",
   "pygments_lexer": "ipython3",
   "version": "3.9.7 (default, Sep 16 2021, 16:59:28) [MSC v.1916 64 bit (AMD64)]"
  },
  "vscode": {
   "interpreter": {
    "hash": "ad2bdc8ecc057115af97d19610ffacc2b4e99fae6737bb82f5d7fb13d2f2c186"
   }
  }
 },
 "nbformat": 4,
 "nbformat_minor": 5
}
