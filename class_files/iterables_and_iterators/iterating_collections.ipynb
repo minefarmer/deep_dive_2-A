{
 "cells": [
  {
   "cell_type": "markdown",
   "id": "f5fa2615",
   "metadata": {},
   "source": [
    "                        Iterating Collections"
   ]
  },
  {
   "cell_type": "code",
   "execution_count": 2,
   "id": "1b0a54c9",
   "metadata": {},
   "outputs": [],
   "source": [
    "s = {'x', 'y', 'b', 'c', 'a'}"
   ]
  },
  {
   "cell_type": "code",
   "execution_count": 3,
   "id": "409da723",
   "metadata": {},
   "outputs": [
    {
     "name": "stdout",
     "output_type": "stream",
     "text": [
      "y\n",
      "b\n",
      "x\n",
      "c\n",
      "a\n"
     ]
    }
   ],
   "source": [
    "for item in s:\n",
    "    print(item)"
   ]
  },
  {
   "cell_type": "code",
   "execution_count": null,
   "id": "d8fd2205",
   "metadata": {},
   "outputs": [],
   "source": []
  }
 ],
 "metadata": {
  "kernelspec": {
   "display_name": "Python 3",
   "language": "python",
   "name": "python3"
  },
  "language_info": {
   "codemirror_mode": {
    "name": "ipython",
    "version": 3
   },
   "file_extension": ".py",
   "mimetype": "text/x-python",
   "name": "python",
   "nbconvert_exporter": "python",
   "pygments_lexer": "ipython3",
   "version": "3.9.13 (tags/v3.9.13:6de2ca5, May 17 2022, 16:36:42) [MSC v.1929 64 bit (AMD64)]"
  },
  "vscode": {
   "interpreter": {
    "hash": "30a4e95609bf32661ca6fef145169cd19e91c2aa2f2d3297ccf9cf493ac89a4c"
   }
  }
 },
 "nbformat": 4,
 "nbformat_minor": 5
}
