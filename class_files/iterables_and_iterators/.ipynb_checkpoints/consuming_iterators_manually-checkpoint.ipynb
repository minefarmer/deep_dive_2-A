{
 "cells": [
  {
   "cell_type": "markdown",
   "id": "7364041f",
   "metadata": {},
   "source": [
    "                            Consuming Iterators Manually"
   ]
  },
  {
   "cell_type": "code",
   "execution_count": 2,
   "id": "36f4a3f0",
   "metadata": {},
   "outputs": [],
   "source": [
    "s = 'I sleep all night, and I work all day'"
   ]
  },
  {
   "cell_type": "code",
   "execution_count": null,
   "id": "733c85ca",
   "metadata": {},
   "outputs": [],
   "source": []
  }
 ],
 "metadata": {
  "kernelspec": {
   "display_name": "Python 3 (ipykernel)",
   "language": "python",
   "name": "python3"
  },
  "language_info": {
   "codemirror_mode": {
    "name": "ipython",
    "version": 3
   },
   "file_extension": ".py",
   "mimetype": "text/x-python",
   "name": "python",
   "nbconvert_exporter": "python",
   "pygments_lexer": "ipython3",
   "version": "3.9.13"
  }
 },
 "nbformat": 4,
 "nbformat_minor": 5
}
