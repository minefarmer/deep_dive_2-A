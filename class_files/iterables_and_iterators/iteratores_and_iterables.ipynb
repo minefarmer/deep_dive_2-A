{
 "cells": [
  {
   "cell_type": "markdown",
   "id": "f9caf997",
   "metadata": {},
   "source": [
    "                        Iterators and Iterables"
   ]
  },
  {
   "cell_type": "code",
   "execution_count": 2,
   "id": "fda57b20",
   "metadata": {},
   "outputs": [],
   "source": [
    "class Cities:\n",
    "    def __init__(self):\n",
    "        self._cities = ['Parid', 'Berlin', 'Rome', 'Madrid', 'London']\n",
    "        self._index = 0\n",
    "    \n",
    "    def __iter__(self):\n",
    "        return self\n",
    "    \n",
    "    def __next__(self):\n",
    "        if self._index >= len(self._cities):\n",
    "            raise StopIteration\n",
    "        else:\n",
    "            item = self._cities[self._index]\n",
    "            self._index += 1\n",
    "            return item"
   ]
  },
  {
   "cell_type": "code",
   "execution_count": 3,
   "id": "13703c8a",
   "metadata": {},
   "outputs": [],
   "source": [
    "cities = Cities()"
   ]
  },
  {
   "cell_type": "code",
   "execution_count": 4,
   "id": "2b60f076",
   "metadata": {},
   "outputs": [
    {
     "data": {
      "text/plain": [
       "__main__.Cities"
      ]
     },
     "execution_count": 4,
     "metadata": {},
     "output_type": "execute_result"
    }
   ],
   "source": [
    "type(cities)"
   ]
  },
  {
   "cell_type": "code",
   "execution_count": 5,
   "id": "e8b0f708",
   "metadata": {},
   "outputs": [
    {
     "data": {
      "text/plain": [
       "[(0, 'Parid'), (1, 'Berlin'), (2, 'Rome'), (3, 'Madrid'), (4, 'London')]"
      ]
     },
     "execution_count": 5,
     "metadata": {},
     "output_type": "execute_result"
    }
   ],
   "source": [
    "list(enumerate(cities))"
   ]
  },
  {
   "cell_type": "code",
   "execution_count": 6,
   "id": "c785bf26",
   "metadata": {},
   "outputs": [
    {
     "ename": "StopIteration",
     "evalue": "",
     "output_type": "error",
     "traceback": [
      "\u001b[1;31m---------------------------------------------------------------------------\u001b[0m",
      "\u001b[1;31mStopIteration\u001b[0m                             Traceback (most recent call last)",
      "\u001b[1;32mc:\\Users\\pgold\\MatsHub\\deep_dive_2-A\\class_files\\iterables_and_iterators\\iteratores_and_iterables.ipynb Cell 6\u001b[0m in \u001b[0;36m<cell line: 1>\u001b[1;34m()\u001b[0m\n\u001b[1;32m----> <a href='vscode-notebook-cell:/c%3A/Users/pgold/MatsHub/deep_dive_2-A/class_files/iterables_and_iterators/iteratores_and_iterables.ipynb#W5sZmlsZQ%3D%3D?line=0'>1</a>\u001b[0m \u001b[39mnext\u001b[39;49m(cities)\n",
      "\u001b[1;32mc:\\Users\\pgold\\MatsHub\\deep_dive_2-A\\class_files\\iterables_and_iterators\\iteratores_and_iterables.ipynb Cell 6\u001b[0m in \u001b[0;36mCities.__next__\u001b[1;34m(self)\u001b[0m\n\u001b[0;32m      <a href='vscode-notebook-cell:/c%3A/Users/pgold/MatsHub/deep_dive_2-A/class_files/iterables_and_iterators/iteratores_and_iterables.ipynb#W5sZmlsZQ%3D%3D?line=8'>9</a>\u001b[0m \u001b[39mdef\u001b[39;00m \u001b[39m__next__\u001b[39m(\u001b[39mself\u001b[39m):\n\u001b[0;32m     <a href='vscode-notebook-cell:/c%3A/Users/pgold/MatsHub/deep_dive_2-A/class_files/iterables_and_iterators/iteratores_and_iterables.ipynb#W5sZmlsZQ%3D%3D?line=9'>10</a>\u001b[0m     \u001b[39mif\u001b[39;00m \u001b[39mself\u001b[39m\u001b[39m.\u001b[39m_index \u001b[39m>\u001b[39m\u001b[39m=\u001b[39m \u001b[39mlen\u001b[39m(\u001b[39mself\u001b[39m\u001b[39m.\u001b[39m_cities):\n\u001b[1;32m---> <a href='vscode-notebook-cell:/c%3A/Users/pgold/MatsHub/deep_dive_2-A/class_files/iterables_and_iterators/iteratores_and_iterables.ipynb#W5sZmlsZQ%3D%3D?line=10'>11</a>\u001b[0m         \u001b[39mraise\u001b[39;00m \u001b[39mStopIteration\u001b[39;00m\n\u001b[0;32m     <a href='vscode-notebook-cell:/c%3A/Users/pgold/MatsHub/deep_dive_2-A/class_files/iterables_and_iterators/iteratores_and_iterables.ipynb#W5sZmlsZQ%3D%3D?line=11'>12</a>\u001b[0m     \u001b[39melse\u001b[39;00m:\n\u001b[0;32m     <a href='vscode-notebook-cell:/c%3A/Users/pgold/MatsHub/deep_dive_2-A/class_files/iterables_and_iterators/iteratores_and_iterables.ipynb#W5sZmlsZQ%3D%3D?line=12'>13</a>\u001b[0m         item \u001b[39m=\u001b[39m \u001b[39mself\u001b[39m\u001b[39m.\u001b[39m_cities[\u001b[39mself\u001b[39m\u001b[39m.\u001b[39m_index]\n",
      "\u001b[1;31mStopIteration\u001b[0m: "
     ]
    }
   ],
   "source": [
    "next(cities)"
   ]
  },
  {
   "cell_type": "code",
   "execution_count": 7,
   "id": "9ac2f2ff",
   "metadata": {},
   "outputs": [
    {
     "data": {
      "text/plain": [
       "[]"
      ]
     },
     "execution_count": 7,
     "metadata": {},
     "output_type": "execute_result"
    }
   ],
   "source": [
    "list(enumerate(cities))"
   ]
  },
  {
   "cell_type": "code",
   "execution_count": 8,
   "id": "62eb7d87",
   "metadata": {},
   "outputs": [
    {
     "data": {
      "text/plain": [
       "['PARID', 'BERLIN', 'ROME', 'MADRID', 'LONDON']"
      ]
     },
     "execution_count": 8,
     "metadata": {},
     "output_type": "execute_result"
    }
   ],
   "source": [
    "cities = Cities()\n",
    "[item.upper() for item in cities]"
   ]
  },
  {
   "cell_type": "code",
   "execution_count": 12,
   "id": "18b071df",
   "metadata": {},
   "outputs": [],
   "source": [
    "class Cities:\n",
    "    def __init__(self):\n",
    "        self._cities = ['Parid', 'Berlin', 'Rome', 'Madrid', 'London']\n",
    "        self._index = 0\n",
    "    \n",
    "    def __len__(self):\n",
    "        return len(self._cities)"
   ]
  },
  {
   "cell_type": "code",
   "execution_count": 13,
   "id": "d0d51e5b",
   "metadata": {},
   "outputs": [],
   "source": [
    "cities = Cities()"
   ]
  },
  {
   "cell_type": "code",
   "execution_count": 14,
   "id": "f4c2ce92",
   "metadata": {},
   "outputs": [
    {
     "data": {
      "text/plain": [
       "5"
      ]
     },
     "execution_count": 14,
     "metadata": {},
     "output_type": "execute_result"
    }
   ],
   "source": [
    "len(cities)"
   ]
  },
  {
   "cell_type": "code",
   "execution_count": 21,
   "id": "5bffcb76",
   "metadata": {},
   "outputs": [],
   "source": [
    "class CityIterator:\n",
    "    def __init__(self, city_obj):\n",
    "        self._city_obj = city_obj\n",
    "        self._index = 0\n",
    "    \n",
    "    def __iter__(self):\n",
    "        return self\n",
    "    \n",
    "    def __next__(self):\n",
    "        if self._index >= len(self._city_obj):\n",
    "            raise StopIteration\n",
    "        else:\n",
    "            item = self._city_obj._cities[self._index]\n",
    "            self._index += 1\n",
    "            return item"
   ]
  },
  {
   "cell_type": "code",
   "execution_count": 22,
   "id": "0d8ba51e",
   "metadata": {},
   "outputs": [],
   "source": [
    "cities = Cities()"
   ]
  },
  {
   "cell_type": "code",
   "execution_count": 23,
   "id": "78868fcd",
   "metadata": {},
   "outputs": [
    {
     "ename": "TypeError",
     "evalue": "'Cities' object is not iterable",
     "output_type": "error",
     "traceback": [
      "\u001b[1;31m---------------------------------------------------------------------------\u001b[0m",
      "\u001b[1;31mTypeError\u001b[0m                                 Traceback (most recent call last)",
      "\u001b[1;32mc:\\Users\\pgold\\MatsHub\\deep_dive_2-A\\class_files\\iterables_and_iterators\\iteratores_and_iterables.ipynb Cell 14\u001b[0m in \u001b[0;36m<cell line: 1>\u001b[1;34m()\u001b[0m\n\u001b[1;32m----> <a href='vscode-notebook-cell:/c%3A/Users/pgold/MatsHub/deep_dive_2-A/class_files/iterables_and_iterators/iteratores_and_iterables.ipynb#X20sZmlsZQ%3D%3D?line=0'>1</a>\u001b[0m \u001b[39mfor\u001b[39;00m item \u001b[39min\u001b[39;00m cities:\n\u001b[0;32m      <a href='vscode-notebook-cell:/c%3A/Users/pgold/MatsHub/deep_dive_2-A/class_files/iterables_and_iterators/iteratores_and_iterables.ipynb#X20sZmlsZQ%3D%3D?line=1'>2</a>\u001b[0m     \u001b[39mprint\u001b[39m(city)\n",
      "\u001b[1;31mTypeError\u001b[0m: 'Cities' object is not iterable"
     ]
    }
   ],
   "source": [
    "for item in cities:\n",
    "    print(city)"
   ]
  },
  {
   "cell_type": "code",
   "execution_count": 24,
   "id": "5d90c95d",
   "metadata": {},
   "outputs": [],
   "source": [
    "cities = Cities()"
   ]
  },
  {
   "cell_type": "code",
   "execution_count": 25,
   "id": "3c2035b7",
   "metadata": {},
   "outputs": [],
   "source": [
    "city_iterator = CityIterator(cities)"
   ]
  },
  {
   "cell_type": "code",
   "execution_count": 26,
   "id": "771e9cda",
   "metadata": {},
   "outputs": [
    {
     "name": "stdout",
     "output_type": "stream",
     "text": [
      "Parid\n",
      "Berlin\n",
      "Rome\n",
      "Madrid\n",
      "London\n"
     ]
    }
   ],
   "source": [
    "for city in city_iterator:\n",
    "    print(city)"
   ]
  },
  {
   "cell_type": "code",
   "execution_count": 27,
   "id": "14252f84",
   "metadata": {},
   "outputs": [],
   "source": [
    "for city in city_iterator:\n",
    "    print(city)"
   ]
  },
  {
   "cell_type": "code",
   "execution_count": 28,
   "id": "2b867cfe",
   "metadata": {},
   "outputs": [
    {
     "name": "stdout",
     "output_type": "stream",
     "text": [
      "Parid\n",
      "Berlin\n",
      "Rome\n",
      "Madrid\n",
      "London\n"
     ]
    }
   ],
   "source": [
    "city_iterator = CityIterator(cities)\n",
    "for city in city_iterator:\n",
    "    print(city)"
   ]
  },
  {
   "cell_type": "code",
   "execution_count": 41,
   "id": "7b637de0",
   "metadata": {},
   "outputs": [],
   "source": [
    "class Cities:\n",
    "    def __init__(self):\n",
    "        self._cities = ['Parid', 'Berlin', 'Rome', 'Madrid', 'London']\n",
    "        self._index = 0\n",
    "    \n",
    "    def __len__(self):\n",
    "        return len(self._cities)\n",
    "    \n",
    "    def __iter__(self):\n",
    "        print('Cities __iter__ called')\n",
    "        return CityIterator(self)"
   ]
  },
  {
   "cell_type": "code",
   "execution_count": 42,
   "id": "0f5a3d72",
   "metadata": {},
   "outputs": [
    {
     "name": "stdout",
     "output_type": "stream",
     "text": [
      "Parid\n",
      "Berlin\n",
      "Rome\n",
      "Madrid\n",
      "London\n"
     ]
    }
   ],
   "source": [
    "for city in cities:\n",
    "    print(city)"
   ]
  },
  {
   "cell_type": "code",
   "execution_count": 43,
   "id": "1070fa29",
   "metadata": {},
   "outputs": [
    {
     "name": "stdout",
     "output_type": "stream",
     "text": [
      "Parid\n",
      "Berlin\n",
      "Rome\n",
      "Madrid\n",
      "London\n"
     ]
    }
   ],
   "source": [
    "for city in cities:\n",
    "    print(city)"
   ]
  },
  {
   "cell_type": "code",
   "execution_count": 45,
   "id": "d3cf5445",
   "metadata": {},
   "outputs": [],
   "source": [
    "class CityIterator:\n",
    "    def __init__(self, city_obj):\n",
    "        print('CityIterator new object!')\n",
    "        self._city_obj = city_obj\n",
    "        self._index = 0\n",
    "    \n",
    "    def __iter__(self):\n",
    "        print('CityIterator __iter__ called')\n",
    "        return self\n",
    "    \n",
    "    def __next__(self):\n",
    "        print('CityIterator __next__ called')\n",
    "        if self._index >= len(self._city_obj):\n",
    "            raise StopIteration\n",
    "        else:\n",
    "            item = self._city_obj._cities[self._index]\n",
    "            self._index += 1\n",
    "            return item"
   ]
  },
  {
   "cell_type": "code",
   "execution_count": 46,
   "id": "43ba9863",
   "metadata": {},
   "outputs": [],
   "source": [
    "cities = Cities()"
   ]
  },
  {
   "cell_type": "code",
   "execution_count": 47,
   "id": "e32b2e08",
   "metadata": {},
   "outputs": [
    {
     "name": "stdout",
     "output_type": "stream",
     "text": [
      "Cities __iter__ called\n",
      "CityIterator new object!\n",
      "CityIterator __next__ called\n",
      "Parid\n",
      "CityIterator __next__ called\n",
      "Berlin\n",
      "CityIterator __next__ called\n",
      "Rome\n",
      "CityIterator __next__ called\n",
      "Madrid\n",
      "CityIterator __next__ called\n",
      "London\n",
      "CityIterator __next__ called\n"
     ]
    }
   ],
   "source": [
    "for city in cities:\n",
    "    print(city)"
   ]
  },
  {
   "cell_type": "code",
   "execution_count": 48,
   "id": "b2d93b43",
   "metadata": {},
   "outputs": [
    {
     "name": "stdout",
     "output_type": "stream",
     "text": [
      "Cities __iter__ called\n",
      "CityIterator new object!\n",
      "CityIterator __next__ called\n",
      "Parid\n",
      "CityIterator __next__ called\n",
      "Berlin\n",
      "CityIterator __next__ called\n",
      "Rome\n",
      "CityIterator __next__ called\n",
      "Madrid\n",
      "CityIterator __next__ called\n",
      "London\n",
      "CityIterator __next__ called\n"
     ]
    }
   ],
   "source": [
    "for city in cities:\n",
    "    print(city)"
   ]
  },
  {
   "cell_type": "code",
   "execution_count": 50,
   "id": "3dbf1b4d",
   "metadata": {},
   "outputs": [
    {
     "name": "stdout",
     "output_type": "stream",
     "text": [
      "Cities __iter__ called\n",
      "CityIterator new object!\n",
      "Cities __iter__ called\n",
      "CityIterator new object!\n"
     ]
    }
   ],
   "source": [
    "city_iter_1 = cities.__iter__()\n",
    "city_iter_2 = cities.__iter__()"
   ]
  },
  {
   "cell_type": "code",
   "execution_count": 51,
   "id": "1f75833d",
   "metadata": {},
   "outputs": [
    {
     "data": {
      "text/plain": [
       "True"
      ]
     },
     "execution_count": 51,
     "metadata": {},
     "output_type": "execute_result"
    }
   ],
   "source": [
    "city_iter_1 is not city_iter_2"
   ]
  },
  {
   "cell_type": "code",
   "execution_count": 52,
   "id": "c41455ee",
   "metadata": {},
   "outputs": [
    {
     "name": "stdout",
     "output_type": "stream",
     "text": [
      "CityIterator __iter__ called\n",
      "CityIterator __next__ called\n",
      "Parid\n",
      "CityIterator __next__ called\n",
      "Berlin\n",
      "CityIterator __next__ called\n",
      "Rome\n",
      "CityIterator __next__ called\n",
      "Madrid\n",
      "CityIterator __next__ called\n",
      "London\n",
      "CityIterator __next__ called\n"
     ]
    }
   ],
   "source": [
    "for city in city_iter_1:\n",
    "    print(city)"
   ]
  },
  {
   "cell_type": "code",
   "execution_count": 53,
   "id": "148c6138",
   "metadata": {},
   "outputs": [
    {
     "name": "stdout",
     "output_type": "stream",
     "text": [
      "CityIterator __iter__ called\n",
      "CityIterator __next__ called\n"
     ]
    }
   ],
   "source": [
    "for city in city_iter_1:\n",
    "    print(city)"
   ]
  },
  {
   "cell_type": "code",
   "execution_count": 55,
   "id": "8f6e79da",
   "metadata": {},
   "outputs": [],
   "source": [
    "del CityIterator"
   ]
  },
  {
   "cell_type": "code",
   "execution_count": 56,
   "id": "f304af84",
   "metadata": {},
   "outputs": [],
   "source": [
    "del Cities"
   ]
  },
  {
   "cell_type": "code",
   "execution_count": 57,
   "id": "bc55287d",
   "metadata": {},
   "outputs": [],
   "source": [
    "class Cities:\n",
    "    def __init__(self):\n",
    "        self._cities = ['Parid', 'Berlin', 'Rome', 'Madrid', 'London']\n",
    "        self._index = 0\n",
    "    \n",
    "    def __len__(self):\n",
    "        return len(self._cities)\n",
    "    \n",
    "    def __iter__(self):\n",
    "        print('Cities __iter__ called')\n",
    "        return CityIterator(self)\n",
    "\n",
    "class CityIterator:\n",
    "    def __init__(self, city_obj):\n",
    "        print('CityIterator new object!')\n",
    "        self._city_obj = city_obj\n",
    "        self._index = 0\n",
    "    \n",
    "    def __iter__(self):\n",
    "        print('CityIterator __iter__ called')\n",
    "        return self\n",
    "    \n",
    "    def __next__(self):\n",
    "        print('CityIterator __next__ called')\n",
    "        if self._index >= len(self._city_obj):\n",
    "            raise StopIteration\n",
    "        else:\n",
    "            item = self._city_obj._cities[self._index]\n",
    "            self._index += 1\n",
    "            return item"
   ]
  },
  {
   "cell_type": "code",
   "execution_count": 58,
   "id": "69619934",
   "metadata": {},
   "outputs": [],
   "source": [
    "cities = Cities()"
   ]
  },
  {
   "cell_type": "code",
   "execution_count": 59,
   "id": "0e269fd2",
   "metadata": {},
   "outputs": [
    {
     "name": "stdout",
     "output_type": "stream",
     "text": [
      "Cities __iter__ called\n",
      "CityIterator new object!\n",
      "CityIterator __next__ called\n",
      "Parid\n",
      "CityIterator __next__ called\n",
      "Berlin\n",
      "CityIterator __next__ called\n",
      "Rome\n",
      "CityIterator __next__ called\n",
      "Madrid\n",
      "CityIterator __next__ called\n",
      "London\n",
      "CityIterator __next__ called\n"
     ]
    }
   ],
   "source": [
    "for city in cities:\n",
    "    print(city)"
   ]
  },
  {
   "cell_type": "code",
   "execution_count": 60,
   "id": "7046eb34",
   "metadata": {},
   "outputs": [
    {
     "name": "stdout",
     "output_type": "stream",
     "text": [
      "Cities __iter__ called\n",
      "CityIterator new object!\n",
      "CityIterator __next__ called\n",
      "CityIterator __next__ called\n",
      "CityIterator __next__ called\n",
      "CityIterator __next__ called\n",
      "CityIterator __next__ called\n",
      "CityIterator __next__ called\n"
     ]
    },
    {
     "data": {
      "text/plain": [
       "[(0, 'Parid'), (1, 'Berlin'), (2, 'Rome'), (3, 'Madrid'), (4, 'London')]"
      ]
     },
     "execution_count": 60,
     "metadata": {},
     "output_type": "execute_result"
    }
   ],
   "source": [
    "list(enumerate(cities))"
   ]
  },
  {
   "cell_type": "code",
   "execution_count": 62,
   "id": "4f0c3734",
   "metadata": {},
   "outputs": [
    {
     "name": "stdout",
     "output_type": "stream",
     "text": [
      "Cities __iter__ called\n",
      "CityIterator new object!\n",
      "CityIterator __next__ called\n",
      "CityIterator __next__ called\n",
      "CityIterator __next__ called\n",
      "CityIterator __next__ called\n",
      "CityIterator __next__ called\n",
      "CityIterator __next__ called\n"
     ]
    },
    {
     "data": {
      "text/plain": [
       "['Rome', 'Parid', 'Berlin', 'Madrid', 'London']"
      ]
     },
     "execution_count": 62,
     "metadata": {},
     "output_type": "execute_result"
    }
   ],
   "source": [
    "sorted(cities, key=lambda x: len(x))"
   ]
  },
  {
   "cell_type": "code",
   "execution_count": 63,
   "id": "1d0b820a",
   "metadata": {},
   "outputs": [
    {
     "name": "stdout",
     "output_type": "stream",
     "text": [
      "Cities __iter__ called\n",
      "CityIterator new object!\n"
     ]
    }
   ],
   "source": [
    "city_iterator = cities.__iter__()"
   ]
  },
  {
   "cell_type": "code",
   "execution_count": 64,
   "id": "003a56bb",
   "metadata": {},
   "outputs": [
    {
     "name": "stdout",
     "output_type": "stream",
     "text": [
      "CityIterator __iter__ called\n",
      "CityIterator __next__ called\n",
      "Parid\n",
      "CityIterator __next__ called\n",
      "Berlin\n",
      "CityIterator __next__ called\n",
      "Rome\n",
      "CityIterator __next__ called\n",
      "Madrid\n",
      "CityIterator __next__ called\n",
      "London\n",
      "CityIterator __next__ called\n"
     ]
    }
   ],
   "source": [
    "for city in city_iterator:\n",
    "    print(city)"
   ]
  },
  {
   "cell_type": "code",
   "execution_count": 65,
   "id": "fca00cd3",
   "metadata": {},
   "outputs": [
    {
     "name": "stdout",
     "output_type": "stream",
     "text": [
      "CityIterator __iter__ called\n",
      "CityIterator __next__ called\n"
     ]
    }
   ],
   "source": [
    "for city in city_iterator:\n",
    "    print(city)"
   ]
  },
  {
   "cell_type": "code",
   "execution_count": 66,
   "id": "7d2bd6dc",
   "metadata": {},
   "outputs": [],
   "source": [
    "s = {'a', 100, 'x', 'X'}"
   ]
  },
  {
   "cell_type": "code",
   "execution_count": 67,
   "id": "d4d6e484",
   "metadata": {},
   "outputs": [
    {
     "data": {
      "text/plain": [
       "<set_iterator at 0x1702f68a640>"
      ]
     },
     "execution_count": 67,
     "metadata": {},
     "output_type": "execute_result"
    }
   ],
   "source": [
    "s.__iter__()"
   ]
  },
  {
   "cell_type": "code",
   "execution_count": 68,
   "id": "ec1747c9",
   "metadata": {},
   "outputs": [
    {
     "name": "stdout",
     "output_type": "stream",
     "text": [
      "Cities __iter__ called\n",
      "CityIterator new object!\n"
     ]
    },
    {
     "data": {
      "text/plain": [
       "<__main__.CityIterator at 0x1702eea9250>"
      ]
     },
     "execution_count": 68,
     "metadata": {},
     "output_type": "execute_result"
    }
   ],
   "source": [
    "iter(cities)"
   ]
  },
  {
   "cell_type": "code",
   "execution_count": 69,
   "id": "60ab90ea",
   "metadata": {},
   "outputs": [
    {
     "data": {
      "text/plain": [
       "<set_iterator at 0x1702f672dc0>"
      ]
     },
     "execution_count": 69,
     "metadata": {},
     "output_type": "execute_result"
    }
   ],
   "source": [
    "iter(s)"
   ]
  },
  {
   "cell_type": "code",
   "execution_count": 70,
   "id": "5ed30ec3",
   "metadata": {},
   "outputs": [],
   "source": [
    "set_iterator = iter(s)"
   ]
  },
  {
   "cell_type": "code",
   "execution_count": 71,
   "id": "0f293b2c",
   "metadata": {},
   "outputs": [
    {
     "name": "stdout",
     "output_type": "stream",
     "text": [
      "100\n",
      "X\n",
      "x\n",
      "a\n"
     ]
    }
   ],
   "source": [
    "for item in set_iterator:\n",
    "    print(item)"
   ]
  },
  {
   "cell_type": "code",
   "execution_count": 73,
   "id": "3c2a35f2",
   "metadata": {},
   "outputs": [],
   "source": [
    "class Cities:\n",
    "    def __init__(self):\n",
    "        self._cities = ['Parid', 'Berlin', 'Rome', 'Madrid', 'London']\n",
    "        self._index = 0\n",
    "    \n",
    "    def __len__(self):\n",
    "        return len(self._cities)\n",
    "    \n",
    "    def __iter__(self):\n",
    "        print('Cities __iter__ called')\n",
    "        return CityIterator(self)\n",
    "    \n",
    "    def __getitem__(self, s):\n",
    "        print('getting item...')\n",
    "        return self._cities[s]\n",
    "    \n",
    "class CityIterator:\n",
    "    def __init__(self, city_obj):\n",
    "        print('CityIterator new object!')\n",
    "        self._city_obj = city_obj\n",
    "        self._index = 0\n",
    "    \n",
    "    def __iter__(self):\n",
    "        print('CityIterator __iter__ called')\n",
    "        return self\n",
    "    \n",
    "    def __next__(self):\n",
    "        print('CityIterator __next__ called')\n",
    "        if self._index >= len(self._city_obj):\n",
    "            raise StopIteration\n",
    "        else:\n",
    "            item = self._city_obj._cities[self._index]\n",
    "            self._index += 1\n",
    "            return item"
   ]
  },
  {
   "cell_type": "code",
   "execution_count": 74,
   "id": "a4748519",
   "metadata": {},
   "outputs": [],
   "source": [
    "cities = Cities()"
   ]
  },
  {
   "cell_type": "code",
   "execution_count": 75,
   "id": "9f6578f8",
   "metadata": {},
   "outputs": [
    {
     "name": "stdout",
     "output_type": "stream",
     "text": [
      "getting item...\n"
     ]
    },
    {
     "data": {
      "text/plain": [
       "'Parid'"
      ]
     },
     "execution_count": 75,
     "metadata": {},
     "output_type": "execute_result"
    }
   ],
   "source": [
    "cities[0]"
   ]
  },
  {
   "cell_type": "code",
   "execution_count": 76,
   "id": "fa130817",
   "metadata": {},
   "outputs": [
    {
     "name": "stdout",
     "output_type": "stream",
     "text": [
      "getting item...\n"
     ]
    },
    {
     "data": {
      "text/plain": [
       "'Berlin'"
      ]
     },
     "execution_count": 76,
     "metadata": {},
     "output_type": "execute_result"
    }
   ],
   "source": [
    "cities[1]"
   ]
  },
  {
   "cell_type": "code",
   "execution_count": 77,
   "id": "fc81870d",
   "metadata": {},
   "outputs": [
    {
     "name": "stdout",
     "output_type": "stream",
     "text": [
      "Cities __iter__ called\n",
      "CityIterator new object!\n",
      "CityIterator __next__ called\n",
      "Parid\n",
      "CityIterator __next__ called\n",
      "Berlin\n",
      "CityIterator __next__ called\n",
      "Rome\n",
      "CityIterator __next__ called\n",
      "Madrid\n",
      "CityIterator __next__ called\n",
      "London\n",
      "CityIterator __next__ called\n"
     ]
    }
   ],
   "source": [
    "for city in cities:\n",
    "    print(city)"
   ]
  },
  {
   "cell_type": "code",
   "execution_count": 79,
   "id": "7530a81a",
   "metadata": {},
   "outputs": [],
   "source": [
    "class Cities:\n",
    "    def __init__(self):\n",
    "        self._cities = ['Parid', 'Berlin', 'Rome', 'Madrid', 'London']\n",
    "        self._index = 0\n",
    "    \n",
    "    def __len__(self):\n",
    "        return len(self._cities)\n",
    "    \n",
    "    # def __iter__(self):\n",
    "    #     print('Cities __iter__ called')\n",
    "    #     return CityIterator(self)\n",
    "    \n",
    "    # def __getitem__(self, s):\n",
    "    #     print('getting item...')\n",
    "        return self._cities[s]\n",
    "    \n",
    "class CityIterator:\n",
    "    def __init__(self, city_obj):\n",
    "        print('CityIterator new object!')\n",
    "        self._city_obj = city_obj\n",
    "        self._index = 0\n",
    "    \n",
    "    def __iter__(self):\n",
    "        print('CityIterator __iter__ called')\n",
    "        return self\n",
    "    \n",
    "    def __next__(self):\n",
    "        print('CityIterator __next__ called')\n",
    "        if self._index >= len(self._city_obj):\n",
    "            raise StopIteration\n",
    "        else:\n",
    "            item = self._city_obj._cities[self._index]\n",
    "            self._index += 1\n",
    "            return item"
   ]
  },
  {
   "cell_type": "code",
   "execution_count": 80,
   "id": "3bb72803",
   "metadata": {},
   "outputs": [],
   "source": [
    "cities = Cities()"
   ]
  },
  {
   "cell_type": "code",
   "execution_count": 81,
   "id": "0267d3dd",
   "metadata": {},
   "outputs": [
    {
     "ename": "TypeError",
     "evalue": "'Cities' object is not subscriptable",
     "output_type": "error",
     "traceback": [
      "\u001b[1;31m---------------------------------------------------------------------------\u001b[0m",
      "\u001b[1;31mTypeError\u001b[0m                                 Traceback (most recent call last)",
      "\u001b[1;32mc:\\Users\\pgold\\MatsHub\\deep_dive_2-A\\class_files\\iterables_and_iterators\\iteratores_and_iterables.ipynb Cell 54\u001b[0m in \u001b[0;36m<cell line: 1>\u001b[1;34m()\u001b[0m\n\u001b[1;32m----> <a href='vscode-notebook-cell:/c%3A/Users/pgold/MatsHub/deep_dive_2-A/class_files/iterables_and_iterators/iteratores_and_iterables.ipynb#Y106sZmlsZQ%3D%3D?line=0'>1</a>\u001b[0m cities[\u001b[39m0\u001b[39;49m]\n",
      "\u001b[1;31mTypeError\u001b[0m: 'Cities' object is not subscriptable"
     ]
    }
   ],
   "source": [
    "cities[0]"
   ]
  },
  {
   "cell_type": "code",
   "execution_count": 82,
   "id": "f5541f3a",
   "metadata": {},
   "outputs": [],
   "source": [
    "class Cities:\n",
    "    def __init__(self):\n",
    "        self._cities = ['Parid', 'Berlin', 'Rome', 'Madrid', 'London']\n",
    "        self._index = 0\n",
    "    \n",
    "    def __len__(self):\n",
    "        return len(self._cities)\n",
    "    \n",
    "    def __iter__(self):\n",
    "        print('Cities __iter__ called')\n",
    "        return CityIterator(self)\n",
    "    \n",
    "    def __getitem__(self, s):\n",
    "        print('getting item...')\n",
    "        return self._cities[s]\n",
    "    \n",
    "class CityIterator:\n",
    "    def __init__(self, city_obj):\n",
    "        print('CityIterator new object!')\n",
    "        self._city_obj = city_obj\n",
    "        self._index = 0\n",
    "    \n",
    "    def __iter__(self):\n",
    "        print('CityIterator __iter__ called')\n",
    "        return self\n",
    "    \n",
    "    def __next__(self):\n",
    "        print('CityIterator __next__ called')\n",
    "        if self._index >= len(self._city_obj):\n",
    "            raise StopIteration\n",
    "        else:\n",
    "            item = self._city_obj._cities[self._index]\n",
    "            self._index += 1\n",
    "            return item"
   ]
  },
  {
   "cell_type": "code",
   "execution_count": 83,
   "id": "b84ffec4",
   "metadata": {},
   "outputs": [],
   "source": [
    "cities = Cities()"
   ]
  },
  {
   "cell_type": "code",
   "execution_count": 84,
   "id": "168b26cf",
   "metadata": {},
   "outputs": [
    {
     "name": "stdout",
     "output_type": "stream",
     "text": [
      "getting item...\n"
     ]
    },
    {
     "data": {
      "text/plain": [
       "'Parid'"
      ]
     },
     "execution_count": 84,
     "metadata": {},
     "output_type": "execute_result"
    }
   ],
   "source": [
    "cities[0]"
   ]
  },
  {
   "cell_type": "code",
   "execution_count": 85,
   "id": "81197b64",
   "metadata": {},
   "outputs": [
    {
     "name": "stdout",
     "output_type": "stream",
     "text": [
      "getting item...\n"
     ]
    },
    {
     "data": {
      "text/plain": [
       "'Berlin'"
      ]
     },
     "execution_count": 85,
     "metadata": {},
     "output_type": "execute_result"
    }
   ],
   "source": [
    "cities[1]"
   ]
  },
  {
   "cell_type": "code",
   "execution_count": 86,
   "id": "5d1b6382",
   "metadata": {},
   "outputs": [
    {
     "name": "stdout",
     "output_type": "stream",
     "text": [
      "Cities __iter__ called\n",
      "CityIterator new object!\n",
      "CityIterator __next__ called\n",
      "Parid\n",
      "CityIterator __next__ called\n",
      "Berlin\n",
      "CityIterator __next__ called\n",
      "Rome\n",
      "CityIterator __next__ called\n",
      "Madrid\n",
      "CityIterator __next__ called\n",
      "London\n",
      "CityIterator __next__ called\n"
     ]
    }
   ],
   "source": [
    "for city in cities:\n",
    "    print(city)"
   ]
  },
  {
   "cell_type": "code",
   "execution_count": 87,
   "id": "8858b92f",
   "metadata": {},
   "outputs": [],
   "source": [
    "l = (1, 2, 3, 4)"
   ]
  },
  {
   "cell_type": "code",
   "execution_count": 88,
   "id": "04f2f289",
   "metadata": {},
   "outputs": [
    {
     "data": {
      "text/plain": [
       "<tuple_iterator at 0x1702d6fd070>"
      ]
     },
     "execution_count": 88,
     "metadata": {},
     "output_type": "execute_result"
    }
   ],
   "source": [
    "iter(l)"
   ]
  },
  {
   "cell_type": "code",
   "execution_count": 89,
   "id": "a4ff51e1",
   "metadata": {},
   "outputs": [
    {
     "data": {
      "text/plain": [
       "<method-wrapper '__iter__' of tuple object at 0x000001702F6086D0>"
      ]
     },
     "execution_count": 89,
     "metadata": {},
     "output_type": "execute_result"
    }
   ],
   "source": [
    "l.__iter__"
   ]
  },
  {
   "cell_type": "code",
   "execution_count": 91,
   "id": "0ea68992",
   "metadata": {},
   "outputs": [
    {
     "data": {
      "text/plain": [
       "1"
      ]
     },
     "execution_count": 91,
     "metadata": {},
     "output_type": "execute_result"
    }
   ],
   "source": [
    "l.__getitem__(0)"
   ]
  },
  {
   "cell_type": "code",
   "execution_count": 92,
   "id": "ca3c2f28",
   "metadata": {},
   "outputs": [],
   "source": [
    "l_iter = iter(l)"
   ]
  },
  {
   "cell_type": "code",
   "execution_count": 93,
   "id": "331a3d24",
   "metadata": {},
   "outputs": [
    {
     "data": {
      "text/plain": [
       "<tuple_iterator at 0x1702d8809a0>"
      ]
     },
     "execution_count": 93,
     "metadata": {},
     "output_type": "execute_result"
    }
   ],
   "source": [
    "l_iter"
   ]
  },
  {
   "cell_type": "code",
   "execution_count": 95,
   "id": "aa8fb52f",
   "metadata": {},
   "outputs": [
    {
     "name": "stdout",
     "output_type": "stream",
     "text": [
      "1\n",
      "2\n",
      "3\n",
      "4\n"
     ]
    }
   ],
   "source": [
    "for i in l_iter:\n",
    "    print(i)"
   ]
  },
  {
   "cell_type": "code",
   "execution_count": 96,
   "id": "c19e7919",
   "metadata": {},
   "outputs": [],
   "source": [
    "for i in l_iter:\n",
    "    print(i)"
   ]
  },
  {
   "cell_type": "code",
   "execution_count": 97,
   "id": "5f42eb4c",
   "metadata": {},
   "outputs": [
    {
     "ename": "StopIteration",
     "evalue": "",
     "output_type": "error",
     "traceback": [
      "\u001b[1;31m---------------------------------------------------------------------------\u001b[0m",
      "\u001b[1;31mStopIteration\u001b[0m                             Traceback (most recent call last)",
      "\u001b[1;32mc:\\Users\\pgold\\MatsHub\\deep_dive_2-A\\class_files\\iterables_and_iterators\\iteratores_and_iterables.ipynb Cell 68\u001b[0m in \u001b[0;36m<cell line: 1>\u001b[1;34m()\u001b[0m\n\u001b[1;32m----> <a href='vscode-notebook-cell:/c%3A/Users/pgold/MatsHub/deep_dive_2-A/class_files/iterables_and_iterators/iteratores_and_iterables.ipynb#Y126sZmlsZQ%3D%3D?line=0'>1</a>\u001b[0m \u001b[39mnext\u001b[39;49m(l_iter)\n",
      "\u001b[1;31mStopIteration\u001b[0m: "
     ]
    }
   ],
   "source": [
    "next(l_iter)"
   ]
  },
  {
   "cell_type": "code",
   "execution_count": 98,
   "id": "476fbf76",
   "metadata": {},
   "outputs": [],
   "source": [
    "s = {1, 2, 3}"
   ]
  },
  {
   "cell_type": "code",
   "execution_count": 99,
   "id": "5ed6d2c0",
   "metadata": {},
   "outputs": [
    {
     "data": {
      "text/plain": [
       "<set_iterator at 0x1702f6d9200>"
      ]
     },
     "execution_count": 99,
     "metadata": {},
     "output_type": "execute_result"
    }
   ],
   "source": [
    "iter(s)"
   ]
  },
  {
   "cell_type": "code",
   "execution_count": 100,
   "id": "e7600540",
   "metadata": {},
   "outputs": [],
   "source": [
    "s_iter = iter(s)"
   ]
  },
  {
   "cell_type": "code",
   "execution_count": 101,
   "id": "943db1ef",
   "metadata": {},
   "outputs": [
    {
     "data": {
      "text/plain": [
       "1"
      ]
     },
     "execution_count": 101,
     "metadata": {},
     "output_type": "execute_result"
    }
   ],
   "source": [
    "next(s_iter)"
   ]
  },
  {
   "cell_type": "code",
   "execution_count": 102,
   "id": "7e9a186d",
   "metadata": {},
   "outputs": [
    {
     "ename": "AttributeError",
     "evalue": "'set' object has no attribute '__getitem__'",
     "output_type": "error",
     "traceback": [
      "\u001b[1;31m---------------------------------------------------------------------------\u001b[0m",
      "\u001b[1;31mAttributeError\u001b[0m                            Traceback (most recent call last)",
      "\u001b[1;32mc:\\Users\\pgold\\MatsHub\\deep_dive_2-A\\class_files\\iterables_and_iterators\\iteratores_and_iterables.ipynb Cell 73\u001b[0m in \u001b[0;36m<cell line: 1>\u001b[1;34m()\u001b[0m\n\u001b[1;32m----> <a href='vscode-notebook-cell:/c%3A/Users/pgold/MatsHub/deep_dive_2-A/class_files/iterables_and_iterators/iteratores_and_iterables.ipynb#Y134sZmlsZQ%3D%3D?line=0'>1</a>\u001b[0m s\u001b[39m.\u001b[39;49m\u001b[39m__getitem__\u001b[39;49m(\u001b[39m0\u001b[39m)\n",
      "\u001b[1;31mAttributeError\u001b[0m: 'set' object has no attribute '__getitem__'"
     ]
    }
   ],
   "source": [
    "s.__getitem__(0)"
   ]
  },
  {
   "cell_type": "code",
   "execution_count": 104,
   "id": "2d68708f",
   "metadata": {},
   "outputs": [
    {
     "ename": "TypeError",
     "evalue": "'set' object is not subscriptable",
     "output_type": "error",
     "traceback": [
      "\u001b[1;31m---------------------------------------------------------------------------\u001b[0m",
      "\u001b[1;31mTypeError\u001b[0m                                 Traceback (most recent call last)",
      "\u001b[1;32mc:\\Users\\pgold\\MatsHub\\deep_dive_2-A\\class_files\\iterables_and_iterators\\iteratores_and_iterables.ipynb Cell 74\u001b[0m in \u001b[0;36m<cell line: 1>\u001b[1;34m()\u001b[0m\n\u001b[1;32m----> <a href='vscode-notebook-cell:/c%3A/Users/pgold/MatsHub/deep_dive_2-A/class_files/iterables_and_iterators/iteratores_and_iterables.ipynb#Y135sZmlsZQ%3D%3D?line=0'>1</a>\u001b[0m s[\u001b[39m0\u001b[39;49m]\n",
      "\u001b[1;31mTypeError\u001b[0m: 'set' object is not subscriptable"
     ]
    }
   ],
   "source": [
    "s[0]"
   ]
  }
 ],
 "metadata": {
  "kernelspec": {
   "display_name": "Python 3.9.12 ('base')",
   "language": "python",
   "name": "python3"
  },
  "language_info": {
   "codemirror_mode": {
    "name": "ipython",
    "version": 3
   },
   "file_extension": ".py",
   "mimetype": "text/x-python",
   "name": "python",
   "nbconvert_exporter": "python",
   "pygments_lexer": "ipython3",
   "version": "3.9.12"
  },
  "vscode": {
   "interpreter": {
    "hash": "a624adbc5e596fddf72740b255048309200567f23df85867ce297e9f9d364c1b"
   }
  }
 },
 "nbformat": 4,
 "nbformat_minor": 5
}
